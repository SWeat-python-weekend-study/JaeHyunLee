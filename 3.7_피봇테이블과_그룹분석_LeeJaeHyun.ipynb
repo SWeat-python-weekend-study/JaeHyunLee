{
  "nbformat": 4,
  "nbformat_minor": 0,
  "metadata": {
    "celltoolbar": "Edit Metadata",
    "kernelspec": {
      "display_name": "Python 3",
      "language": "python",
      "name": "python3"
    },
    "language_info": {
      "codemirror_mode": {
        "name": "ipython",
        "version": 3
      },
      "file_extension": ".py",
      "mimetype": "text/x-python",
      "name": "python",
      "nbconvert_exporter": "python",
      "pygments_lexer": "ipython3",
      "version": "3.7.6"
    },
    "latex_envs": {
      "LaTeX_envs_menu_present": true,
      "autoclose": false,
      "autocomplete": true,
      "bibliofile": "biblio.bib",
      "cite_by": "apalike",
      "current_citInitial": 1,
      "eqLabelWithNumbers": true,
      "eqNumInitial": 1,
      "hotkeys": {
        "equation": "Ctrl-E",
        "itemize": "Ctrl-I"
      },
      "labels_anchors": false,
      "latex_user_defs": false,
      "report_style_numbering": false,
      "user_envs_cfg": false
    },
    "toc": {
      "base_numbering": 1,
      "nav_menu": {},
      "number_sections": false,
      "sideBar": true,
      "skip_h1_title": false,
      "title_cell": "Table of Contents",
      "title_sidebar": "Contents",
      "toc_cell": false,
      "toc_position": {},
      "toc_section_display": true,
      "toc_window_display": false
    },
    "colab": {
      "name": "04.07 피봇테이블과 그룹분석.ipynb의 사본",
      "provenance": [],
      "include_colab_link": true
    }
  },
  "cells": [
    {
      "cell_type": "markdown",
      "metadata": {
        "id": "view-in-github",
        "colab_type": "text"
      },
      "source": [
        "<a href=\"https://colab.research.google.com/github/SWeat-python-weekend-study/JaeHyunLee/blob/main/3.7_%ED%94%BC%EB%B4%87%ED%85%8C%EC%9D%B4%EB%B8%94%EA%B3%BC_%EA%B7%B8%EB%A3%B9%EB%B6%84%EC%84%9D_LeeJaeHyun.ipynb\" target=\"_parent\"><img src=\"https://colab.research.google.com/assets/colab-badge.svg\" alt=\"Open In Colab\"/></a>"
      ]
    },
    {
      "cell_type": "markdown",
      "metadata": {
        "school_cell_uuid": "353fc77e182f4061b8b4594194cd9fe8",
        "id": "7tmoxRbLgymQ"
      },
      "source": [
        "# 3.7 피봇테이블과 그룹분석"
      ]
    },
    {
      "cell_type": "markdown",
      "metadata": {
        "school_cell_uuid": "215df9897d5d4571a6511331e5cee03d",
        "id": "oXzcW1Xzgyme"
      },
      "source": [
        "## 피봇테이블"
      ]
    },
    {
      "cell_type": "markdown",
      "metadata": {
        "id": "T8h-Q2WFgymf"
      },
      "source": [
        "```{margin}\n",
        "`pivot`\n",
        "```"
      ]
    },
    {
      "cell_type": "markdown",
      "metadata": {
        "school_cell_uuid": "0e1d795bd66e4f8cab625aee76ffae39",
        "id": "bytd0maXgymg"
      },
      "source": [
        "피봇테이블(pivot table)이란 데이터 열 중에서 두 개의 열을 각각 행 인덱스, 열 인덱스로 사용하여 데이터를 조회하여 펼쳐놓은 것을 말한다.\n",
        "\n",
        "판다스는 피봇테이블을 만들기 위한  `pivot` 메서드를 제공한다. 첫번째 인수로는 행 인덱스로 사용할 열 이름, 두번째 인수로는 열 인덱스로 사용할 열 이름, 그리고 마지막으로 데이터로 사용할 열 이름을 넣는다.\n",
        "\n",
        "판다스는 지정된 두 열을 각각 행 인덱스와 열 인덱스로 바꾼 후 행 인덱스의 라벨 값이 첫번째 키의 값과 같고 열 인덱스의 라벨 값이 두번째 키의 값과 같은 데이터를 찾아서 해당 칸에 넣는다. 만약 주어진 데이터가 존재하지 않으면 해당 칸에 `NaN` 값을 넣는다."
      ]
    },
    {
      "cell_type": "markdown",
      "metadata": {
        "id": "bGvf87yogymg"
      },
      "source": [
        "다음 데이터는 각 도시의 연도별 인구를 나타낸 것이다."
      ]
    },
    {
      "cell_type": "code",
      "metadata": {
        "school_cell_uuid": "9015023ce50a4bac87830f7fa6f947a3",
        "id": "LVOFNoYxgymh",
        "colab": {
          "base_uri": "https://localhost:8080/",
          "height": 222
        },
        "outputId": "04c4eb52-ac8e-4464-d623-844161e41e1d"
      },
      "source": [
        "data = {\n",
        "    \"도시\": [\"서울\", \"서울\", \"서울\", \"부산\", \"부산\", \"부산\", \"인천\", \"인천\"],\n",
        "    \"연도\": [\"2015\", \"2010\", \"2005\", \"2015\", \"2010\", \"2005\", \"2015\", \"2010\"],\n",
        "    \"인구\": [9904312, 9631482, 9762546, 3448737, 3393191, 3512547, 2890451, 263203],\n",
        "    \"지역\": [\"수도권\", \"수도권\", \"수도권\", \"경상권\", \"경상권\", \"경상권\", \"수도권\", \"수도권\"]\n",
        "}\n",
        "columns = [\"도시\", \"연도\", \"인구\", \"지역\"]\n",
        "df1 = pd.DataFrame(data, columns=columns)\n",
        "df1"
      ],
      "execution_count": 1,
      "outputs": [
        {
          "output_type": "error",
          "ename": "NameError",
          "evalue": "ignored",
          "traceback": [
            "\u001b[0;31m---------------------------------------------------------------------------\u001b[0m",
            "\u001b[0;31mNameError\u001b[0m                                 Traceback (most recent call last)",
            "\u001b[0;32m<ipython-input-1-831974da126e>\u001b[0m in \u001b[0;36m<module>\u001b[0;34m()\u001b[0m\n\u001b[1;32m      6\u001b[0m }\n\u001b[1;32m      7\u001b[0m \u001b[0mcolumns\u001b[0m \u001b[0;34m=\u001b[0m \u001b[0;34m[\u001b[0m\u001b[0;34m\"도시\"\u001b[0m\u001b[0;34m,\u001b[0m \u001b[0;34m\"연도\"\u001b[0m\u001b[0;34m,\u001b[0m \u001b[0;34m\"인구\"\u001b[0m\u001b[0;34m,\u001b[0m \u001b[0;34m\"지역\"\u001b[0m\u001b[0;34m]\u001b[0m\u001b[0;34m\u001b[0m\u001b[0;34m\u001b[0m\u001b[0m\n\u001b[0;32m----> 8\u001b[0;31m \u001b[0mdf1\u001b[0m \u001b[0;34m=\u001b[0m \u001b[0mpd\u001b[0m\u001b[0;34m.\u001b[0m\u001b[0mDataFrame\u001b[0m\u001b[0;34m(\u001b[0m\u001b[0mdata\u001b[0m\u001b[0;34m,\u001b[0m \u001b[0mcolumns\u001b[0m\u001b[0;34m=\u001b[0m\u001b[0mcolumns\u001b[0m\u001b[0;34m)\u001b[0m\u001b[0;34m\u001b[0m\u001b[0;34m\u001b[0m\u001b[0m\n\u001b[0m\u001b[1;32m      9\u001b[0m \u001b[0mdf1\u001b[0m\u001b[0;34m\u001b[0m\u001b[0;34m\u001b[0m\u001b[0m\n",
            "\u001b[0;31mNameError\u001b[0m: name 'pd' is not defined"
          ]
        }
      ]
    },
    {
      "cell_type": "markdown",
      "metadata": {
        "id": "Wmosc35Hgymj"
      },
      "source": [
        "이 데이터를 도시 이름이 열 인덱스가 되고 연도가 행 인덱스가 되어 행과 열 인덱스만 보면 어떤 도시의 어떤 시점의 인구를 쉽게 알 수 있도록 피봇테이블로 만들어보자. `pivot` 명령으로 사용하고 행 인덱스 인수로는 `\"도시\"`, 열 인덱스 인수로는 `\"연도\"`, 데이터 이름으로 `\"인구\"`를 입력하면 된다."
      ]
    },
    {
      "cell_type": "code",
      "metadata": {
        "school_cell_uuid": "09f74f677def485baca9b1be439cfe04",
        "id": "p6UWcauGgymj",
        "colab": {
          "base_uri": "https://localhost:8080/",
          "height": 169
        },
        "outputId": "be6ecd5c-c65f-4239-9306-c28c07a65938"
      },
      "source": [
        "df1.pivot(\"도시\", \"연도\", \"인구\")"
      ],
      "execution_count": 2,
      "outputs": [
        {
          "output_type": "error",
          "ename": "NameError",
          "evalue": "ignored",
          "traceback": [
            "\u001b[0;31m---------------------------------------------------------------------------\u001b[0m",
            "\u001b[0;31mNameError\u001b[0m                                 Traceback (most recent call last)",
            "\u001b[0;32m<ipython-input-2-3ee3dcbac302>\u001b[0m in \u001b[0;36m<module>\u001b[0;34m()\u001b[0m\n\u001b[0;32m----> 1\u001b[0;31m \u001b[0mdf1\u001b[0m\u001b[0;34m.\u001b[0m\u001b[0mpivot\u001b[0m\u001b[0;34m(\u001b[0m\u001b[0;34m\"도시\"\u001b[0m\u001b[0;34m,\u001b[0m \u001b[0;34m\"연도\"\u001b[0m\u001b[0;34m,\u001b[0m \u001b[0;34m\"인구\"\u001b[0m\u001b[0;34m)\u001b[0m\u001b[0;34m\u001b[0m\u001b[0;34m\u001b[0m\u001b[0m\n\u001b[0m",
            "\u001b[0;31mNameError\u001b[0m: name 'df1' is not defined"
          ]
        }
      ]
    },
    {
      "cell_type": "markdown",
      "metadata": {
        "school_cell_uuid": "c8e3b4e96e89486f81c8537d9c63b220",
        "id": "erPfyJCPgymk"
      },
      "source": [
        "이 피봇테이블의 값 3512547은 \"도시\"가 부산이고 \"연도\"가 2005년인 데이터를 \"인구\"열에서 찾은 값이다. 2005년 인천의 인구는 데이터에 없기 때문에 `NaN`으로 표시된다."
      ]
    },
    {
      "cell_type": "markdown",
      "metadata": {
        "school_cell_uuid": "fbd32cc5132b4159baa243b4106c7dee",
        "id": "CwwsUV4wgyml"
      },
      "source": [
        " 피봇테이블은 다음과 같이 `set_index` 명령과 `unstack` 명령을 사용해서 만들 수도 있다."
      ]
    },
    {
      "cell_type": "code",
      "metadata": {
        "school_cell_uuid": "5d41fe936e5142d5989fcff35a59bc67",
        "id": "FCcOQMxRgyml"
      },
      "source": [
        "df1.set_index([\"도시\", \"연도\"])[[\"인구\"]].unstack()"
      ],
      "execution_count": null,
      "outputs": []
    },
    {
      "cell_type": "markdown",
      "metadata": {
        "id": "Ff0bAbHHgymm"
      },
      "source": [
        "행 인덱스나 열 인덱스를 리스트로 주는 경우에는 다중 인덱스 피봇 테이블을 생성한다. (주의: 판다스 버전 1.1 미만에서는 버그로 인해 동작하지 않는다.)"
      ]
    },
    {
      "cell_type": "code",
      "metadata": {
        "id": "Qir15nQPgymm"
      },
      "source": [
        "df1.pivot([\"지역\", \"도시\"], \"연도\", \"인구\")"
      ],
      "execution_count": null,
      "outputs": []
    },
    {
      "cell_type": "markdown",
      "metadata": {
        "school_cell_uuid": "0fb65743ac624159ba7afe43bd676113",
        "id": "kB0o3e-Bgymm"
      },
      "source": [
        "행 인덱스와 열 인덱스는 데이터를 찾는 키(key)의 역할을 한다. 따라서 키 값으로 데이터가 단 하나만 찾아져야 한다.\n",
        "만약 행 인덱스와 열 인덱스 조건을 만족하는 데이터가 2개 이상인 경우에는 에러가 발생한다. 예를 들어 위 데이터프레임에서 (\"지역\", \"연도\")를 키로 하면 (\"수도권\", \"2015\")에 해당하는 값이 두 개 이상이므로 다음과 같이 에러가 발생한다. "
      ]
    },
    {
      "cell_type": "code",
      "metadata": {
        "school_cell_uuid": "d1256836fa7c4095b43b026eacf66f22",
        "id": "D28YfgtOgymn"
      },
      "source": [
        "try:\n",
        "    df1.pivot(\"지역\", \"연도\", \"인구\")\n",
        "except ValueError as e:\n",
        "    print(\"ValueError:\", e)"
      ],
      "execution_count": null,
      "outputs": []
    },
    {
      "cell_type": "markdown",
      "metadata": {
        "school_cell_uuid": "2344b336a7244893a6a2df8de2c6606c",
        "id": "WLPyCrFSgymn"
      },
      "source": [
        "## 그룹분석"
      ]
    },
    {
      "cell_type": "markdown",
      "metadata": {
        "school_cell_uuid": "356560bdb89f40f4a9fa8f76082acaf8",
        "id": "ekC4aYfSgymn"
      },
      "source": [
        "만약 키가 지정하는 조건에 맞는 데이터가 하나 이상이라서 데이터 그룹을 이루는 경우에는 그룹의 특성을 보여주는 그룹분석(group analysis)을 해야 한다.\n",
        "\n",
        "그룹분석은 피봇테이블과 달리 키에 의해서 결정되는 데이터가 여러개가 있을 경우 미리 지정한 연산을 통해 그 그룹 데이터의 대표값을 계산한다. 판다스에서는 `groupby` 메서드를 사용하여 다음처럼 그룹분석을 한다.\n",
        "\n",
        "1. 분석하고자 하는 시리즈나 데이터프레임에 `groupby` 메서드를 호출하여 그룹화를 한다.\n",
        "1. 그룹 객체에 대해 그룹연산을 수행한다."
      ]
    },
    {
      "cell_type": "markdown",
      "metadata": {
        "id": "kIPjFyM2gymn"
      },
      "source": [
        "```{margin}\n",
        "`groupby`\n",
        "```"
      ]
    },
    {
      "cell_type": "markdown",
      "metadata": {
        "id": "AAg4P-Cvgymo"
      },
      "source": [
        "### `groupby` 메서드"
      ]
    },
    {
      "cell_type": "markdown",
      "metadata": {
        "school_cell_uuid": "38b951f8ebb845ee8a964dff27189560",
        "id": "F11ebny3gymo"
      },
      "source": [
        "`groupby` 메서드는 데이터를 그룹 별로 분류하는 역할을 한다. `groupby` 메서드의 인수로는 다음과 같은 값을 사용한다.\n",
        "\n",
        " * 열 또는 열의 리스트 \n",
        " * 행 인덱스\n",
        "\n",
        "연산 결과로 그룹 데이터를 나타내는 `GroupBy` 클래스 객체를 반환한다. 이 객체에는 그룹별로 연산을 할 수 있는 그룹연산 메서드가 있다."
      ]
    },
    {
      "cell_type": "markdown",
      "metadata": {
        "id": "XOr97M_Rgymo"
      },
      "source": [
        "### 그룹연산 메서드"
      ]
    },
    {
      "cell_type": "markdown",
      "metadata": {
        "school_cell_uuid": "4c85fc7bc5b246ec9511252e39c15846",
        "id": "fi0i2p1ngymp"
      },
      "source": [
        "`groupby` 결과, 즉 `GroupBy` 클래스 객체의 뒤에 붙일 수 있는 그룹연산 메서드는 다양하다. 다음은 자주 사용되는 그룹연산 메서드들이다.\n",
        "\n",
        "* `size`, `count`: 그룹 데이터의 갯수\n",
        "* `mean`, `median`, `min`, `max`: 그룹 데이터의 평균, 중앙값, 최소, 최대\n",
        "* `sum`, `prod`, `std`, `var`, `quantile` : 그룹 데이터의 합계, 곱, 표준편차, 분산, 사분위수\n",
        "* `first`, `last`: 그룹 데이터 중 가장 첫번째 데이터와 가장 나중 데이터\n",
        "   \n",
        "이 외에도 많이 사용되는 것으로는 다음과 같은 그룹연산이 있다.\n",
        "\n",
        "* `agg`, `aggregate`\n",
        "    * 만약 원하는 그룹연산이 없는 경우 함수를 만들고 이 함수를 `agg`에 전달한다.\n",
        "    * 또는 여러가지 그룹연산을 동시에 하고 싶은 경우 함수 이름 문자열의 리스트를 전달한다.\n",
        "\n",
        "* `describe`\n",
        "    * 하나의 그룹 대표값이 아니라 여러개의 값을 데이터프레임으로 구한다.\n",
        "   \n",
        "* `apply`\n",
        "    *  `describe` 처럼 하나의 대표값이 아닌 데이터프레임을 출력하지만 원하는 그룹연산이 없는 경우에 사용한다.\n",
        "    \n",
        "* `transform`\n",
        "    * 그룹에 대한 대표값을 만드는 것이 아니라 그룹별 계산을 통해 데이터 자체를 변형한다."
      ]
    },
    {
      "cell_type": "markdown",
      "metadata": {
        "school_cell_uuid": "7e65722c5c4d475d80f9cfbc77ffa975",
        "id": "dhBFhFC4gymp"
      },
      "source": [
        "예를 들어 다음과 같은 데이터가 있을 때 key1의 값(A 또는 B)에 따른 data1의 평균은 어떻게 구할까?"
      ]
    },
    {
      "cell_type": "code",
      "metadata": {
        "school_cell_uuid": "96d20974833c49a3aebcea54bbeb53ef",
        "id": "N_TUPFAegymp"
      },
      "source": [
        "np.random.seed(0)\n",
        "df2 = pd.DataFrame({\n",
        "    'key1': ['A', 'A', 'B', 'B', 'A'],\n",
        "    'key2': ['one', 'two', 'one', 'two', 'one'],\n",
        "    'data1': [1, 2, 3, 4, 5],\n",
        "    'data2': [10, 20, 30, 40, 50]\n",
        "})\n",
        "df2"
      ],
      "execution_count": null,
      "outputs": []
    },
    {
      "cell_type": "markdown",
      "metadata": {
        "school_cell_uuid": "9630f592949a4ac98865787c3877fabf",
        "id": "Bl-aOPhhgymp"
      },
      "source": [
        "`groupby` 명령을 사용하여 그룹 A와 그룹 B로 구분한 그룹 데이터를 만든다."
      ]
    },
    {
      "cell_type": "code",
      "metadata": {
        "id": "4wnKl_A2gymq"
      },
      "source": [
        "groups = df2.groupby(df2.key1)\n",
        "groups"
      ],
      "execution_count": null,
      "outputs": []
    },
    {
      "cell_type": "markdown",
      "metadata": {
        "id": "uOQ2CezQgymq"
      },
      "source": [
        "이 `GroupBy` 클래스 객체에는 각 그룹 데이터의 인덱스를 저장한 `groups` 속성이 있다."
      ]
    },
    {
      "cell_type": "code",
      "metadata": {
        "id": "w014fwBIgymq"
      },
      "source": [
        "groups.groups"
      ],
      "execution_count": null,
      "outputs": []
    },
    {
      "cell_type": "markdown",
      "metadata": {
        "id": "TVGF8XIHgymt"
      },
      "source": [
        "A그룹과 B그룹 데이터의 합계를 구하기 위해 `sum`이라는 그룹연산을 한다."
      ]
    },
    {
      "cell_type": "code",
      "metadata": {
        "school_cell_uuid": "2808b883914b41019243ae192891f057",
        "id": "nnA_j5epgymv"
      },
      "source": [
        "groups.sum()"
      ],
      "execution_count": null,
      "outputs": []
    },
    {
      "cell_type": "markdown",
      "metadata": {
        "school_cell_uuid": "f1ab01ae675d4b1b8afbc6af2b16134b",
        "id": "zmtGvbtIgymw"
      },
      "source": [
        "`GroupBy` 클래스 객체를 명시적으로 얻을 필요가 없다면 `groupby` 메서드와 그룹연산 메서드를 연속으로 호출한다. 다음 예제는 열 `data1`에 대해서만 그룹연산을 하는 코드이다."
      ]
    },
    {
      "cell_type": "code",
      "metadata": {
        "school_cell_uuid": "2808b883914b41019243ae192891f057",
        "id": "gUTU8B7Zgymw"
      },
      "source": [
        "df2.data1.groupby(df2.key1).sum()"
      ],
      "execution_count": null,
      "outputs": []
    },
    {
      "cell_type": "markdown",
      "metadata": {
        "id": "zVvFf2Nvgymx"
      },
      "source": [
        "데이터를 그룹으로 나눈 `GroupBy` 클래스 객체 또는 그룹분석한 결과에서 `data1`만 뽑아도 된다."
      ]
    },
    {
      "cell_type": "code",
      "metadata": {
        "school_cell_uuid": "cf539f8c5d5d45ef99c2bda7002efad4",
        "id": "E0lek5AYgymx"
      },
      "source": [
        "df2.groupby(df2.key1)[\"data1\"].sum()   # `GroupBy` 클래스 객체에서 data1만 선택하여 분석하는 경우"
      ],
      "execution_count": null,
      "outputs": []
    },
    {
      "cell_type": "code",
      "metadata": {
        "school_cell_uuid": "cba7a9ec38c746488abd779bfc2207f8",
        "id": "RaqVn_YEgymy"
      },
      "source": [
        "df2.groupby(df2.key1).sum()[\"data1\"]  # 전체 데이터를 분석한 후 data1만 선택한 경우"
      ],
      "execution_count": null,
      "outputs": []
    },
    {
      "cell_type": "markdown",
      "metadata": {
        "bootstrap": {
          "panel": {
            "class": "panel-default"
          }
        },
        "school_cell_uuid": "4b5f7eb125434f9588e5fcd0e45dd6e9",
        "id": "jOhodpCsgymy"
      },
      "source": [
        "**<스스로> 연습문제**\n",
        "````{admonition} 연습 문제 4.7.1\n",
        "\n",
        "key1의 값을 기준으로 data1의 값을 분류하여 합계를 구한 결과를 시리즈가 아닌 데이터프레임으로 구한다.\n",
        "````"
      ]
    },
    {
      "cell_type": "markdown",
      "metadata": {
        "school_cell_uuid": "33d603706a6a499083ff3758cc15bca1",
        "id": "ZRQAfeA1gymz"
      },
      "source": [
        "이번에는 복합 키 (key1, key2) 값에 따른 data1의 합계를 구하자. \n",
        "분석하고자 하는 키가 복수이면 리스트를 사용한다."
      ]
    },
    {
      "cell_type": "code",
      "metadata": {
        "school_cell_uuid": "c360c8775f9040618f78e52811f52efc",
        "id": "zJm7cnoTgymz"
      },
      "source": [
        "df2.data1.groupby([df2.key1, df2.key2]).sum()"
      ],
      "execution_count": null,
      "outputs": []
    },
    {
      "cell_type": "markdown",
      "metadata": {
        "school_cell_uuid": "2fe61a1eaeb04a87a7122a9cdacdd566",
        "id": "4zc1RAq0gym0"
      },
      "source": [
        "이 결과를 `unstack` 명령으로 피봇 데이블 형태로 만들수도 있다."
      ]
    },
    {
      "cell_type": "code",
      "metadata": {
        "school_cell_uuid": "eaf18468cc3b4d188d18d069a2e39618",
        "id": "70HVkT2ggym0"
      },
      "source": [
        "df2.data1.groupby([df2[\"key1\"], df2[\"key2\"]]).sum().unstack(\"key2\")"
      ],
      "execution_count": null,
      "outputs": []
    },
    {
      "cell_type": "markdown",
      "metadata": {
        "school_cell_uuid": "e41ec2708457473d8ddefac7075e55ef",
        "id": "kRPEyoKagym1"
      },
      "source": [
        "그룹분석 기능을 사용하면 위의 인구 데이터로부터 지역별 합계를 구할 수도 있다."
      ]
    },
    {
      "cell_type": "code",
      "metadata": {
        "school_cell_uuid": "6fdfb59cac404fafba3d23d0bdbb4206",
        "id": "SovRWX2Qgym1"
      },
      "source": [
        "df1[\"인구\"].groupby([df1[\"지역\"], df1[\"연도\"]]).sum().unstack(\"연도\")"
      ],
      "execution_count": null,
      "outputs": []
    },
    {
      "cell_type": "markdown",
      "metadata": {
        "school_cell_uuid": "86f05d6ec2334f4d99a5d05e774d7c96",
        "id": "_wVeOVOCgym1"
      },
      "source": [
        "다음 데이터는 150 송이의 붓꽃(iris)에 대해 붓꽃 종(species)별로 꽃잎길이(sepal_length), 꽃잎폭(sepal_width), 꽃잎폭(sepal_width), 꽃잎폭(sepal_width)을 측정한 데이터이다. "
      ]
    },
    {
      "cell_type": "code",
      "metadata": {
        "school_cell_uuid": "c998ff1907d6438e911ea526efabcdac",
        "id": "L93EcXh9gym2"
      },
      "source": [
        "import seaborn as sns\n",
        "iris = sns.load_dataset(\"iris\")\n",
        "iris"
      ],
      "execution_count": null,
      "outputs": []
    },
    {
      "cell_type": "markdown",
      "metadata": {
        "school_cell_uuid": "a5d1177080f54869ae907b11cd0f6d42",
        "id": "T5OZgg2Xgym2"
      },
      "source": [
        "각 붓꽃 종별로 가장 큰 값과 가장 작은 값의 비율을 구해보자. 이러한 계산을 하는 그룹연산 메서드는 없으므로 직접 만든 후 `agg` 메서드를 적용한다."
      ]
    },
    {
      "cell_type": "code",
      "metadata": {
        "school_cell_uuid": "8b4000bc559947159cf21e78896d9e03",
        "id": "-gCh67jagym2"
      },
      "source": [
        "def peak_to_peak_ratio(x):\n",
        "    return x.max() / x.min()\n",
        "\n",
        "iris.groupby(iris.species).agg(peak_to_peak_ratio)"
      ],
      "execution_count": null,
      "outputs": []
    },
    {
      "cell_type": "markdown",
      "metadata": {
        "id": "JBE9hDiUgym2"
      },
      "source": [
        "```{margin}\n",
        "`describe`\n",
        "```"
      ]
    },
    {
      "cell_type": "markdown",
      "metadata": {
        "school_cell_uuid": "8b83fb8ed916451c8e1db3d64236dffa",
        "id": "B8B-ca9Zgym4"
      },
      "source": [
        "`describe` 메서드를 사용하면 다양한 기술 통계(descriptive statistics)값을 한 번에 구한다. 그룹별로 하나의 스칼라 값이 아니라 하나의 데이터프레임이 생성된다는 점에 주의하라."
      ]
    },
    {
      "cell_type": "code",
      "metadata": {
        "school_cell_uuid": "2b5f4c36cbac43628e0e43f3140a6165",
        "id": "G9OZGUQJgym4"
      },
      "source": [
        "iris.groupby(iris.species).describe().T"
      ],
      "execution_count": null,
      "outputs": []
    },
    {
      "cell_type": "markdown",
      "metadata": {
        "id": "wk18y9Angym5"
      },
      "source": [
        "```{margin}\n",
        "`apply`\n",
        "```"
      ]
    },
    {
      "cell_type": "markdown",
      "metadata": {
        "school_cell_uuid": "584da999b9894543b64e5e21c108baa7",
        "id": "e7nG3IjMgym5"
      },
      "source": [
        "`apply` 메서드를 사용하면 `describe` 메서드처럼 하나의 그룹에 대해 하나의 대표값(스칼라 값)을 구하는 게 아니라 데이터프레임을 만들 수 있다. 예를 들어 다음처럼 각 붓꽃 종별로 가장 꽃잎 길이(petal length)가 큰 3개의 데이터를 뽑아낼 수도 있다."
      ]
    },
    {
      "cell_type": "code",
      "metadata": {
        "school_cell_uuid": "0643604b8876431eb5f7b1d85f722fc3",
        "id": "8jb42mslgym5"
      },
      "source": [
        "def top3_petal_length(df):\n",
        "    return df.sort_values(by=\"petal_length\", ascending=False)[:3]\n",
        "\n",
        "iris.groupby(iris.species).apply(top3_petal_length)"
      ],
      "execution_count": null,
      "outputs": []
    },
    {
      "cell_type": "markdown",
      "metadata": {
        "id": "tBZKaTjfgym6"
      },
      "source": [
        "```{margin}\n",
        "`transform`\n",
        "```"
      ]
    },
    {
      "cell_type": "markdown",
      "metadata": {
        "school_cell_uuid": "237526cb959b4ae6a45b0115f702e21e",
        "id": "9O68LhK-gym6"
      },
      "source": [
        "`transform` 메서드는 그룹별 대표값을 만드는 것이 아니라 그룹별 계산을 통해 데이터프레임 자체를 변화시킨다. 따라서 만들어진 데이터프레임의 크기는 원래 데이터프레임과 같다. 예를 들어 다음처럼 각 붓꽃 꽃잎길이가 해당 종 내에서  대/중/소 어느 것에 해당되는지에 대한 데이터프레임을 만들 수도 있다."
      ]
    },
    {
      "cell_type": "code",
      "metadata": {
        "school_cell_uuid": "de641b5d681545c5be5ce050eec6b6f1",
        "id": "_1bp2TUfgym6"
      },
      "source": [
        "def q3cut(s):\n",
        "    return pd.qcut(s, 3, labels=[\"소\", \"중\", \"대\"]).astype(str)\n",
        "\n",
        "\n",
        "iris[\"petal_length_class\"] = iris.groupby(iris.species).petal_length.transform(q3cut)\n",
        "iris[[\"petal_length\", \"petal_length_class\"]].tail(10)"
      ],
      "execution_count": null,
      "outputs": []
    },
    {
      "cell_type": "markdown",
      "metadata": {
        "bootstrap": {
          "panel": {
            "class": "panel-default"
          }
        },
        "school_cell_uuid": "4b5f7eb125434f9588e5fcd0e45dd6e9",
        "id": "JheSaS-1gym9"
      },
      "source": [
        "**<스스로> 연습문제**\n",
        "````{admonition} 연습 문제 4.7.2\n",
        "\n",
        "붓꽃(iris) 데이터에서 붓꽃 종(species)별로 꽃잎길이(sepal_length), 꽃잎폭(sepal_width) 등의 평균을 구하라.\n",
        "만약 붓꽃 종(species)이 표시되지 않았을 때 이 수치들을 이용하여 붓꽃 종을 찾아낼 수 있을지 생각하라.\n",
        "````"
      ]
    },
    {
      "cell_type": "markdown",
      "metadata": {
        "school_cell_uuid": "bede55f288dc48c3a6f3148b34bf5339",
        "id": "F0ay6kk0gym-"
      },
      "source": [
        "## `pivot_table`"
      ]
    },
    {
      "cell_type": "markdown",
      "metadata": {
        "id": "8qMNhr2Ygym_"
      },
      "source": [
        "```{margin}\n",
        "`pivot_table`\n",
        "```"
      ]
    },
    {
      "cell_type": "markdown",
      "metadata": {
        "school_cell_uuid": "849bac0a30634b639c228cce976dc084",
        "id": "CVN6KJHTgym_"
      },
      "source": [
        "Pandas는 `pivot` 명령과 `groupby` 명령의 중간 성격을 가지는 `pivot_table` 명령도 제공한다.\n",
        "\n",
        "`pivot_table` 명령은 `groupby` 명령처럼 그룹분석을 하지만 최종적으로는 `pivot` 명령처럼 피봇테이블을 만든다. 즉 `groupby` 명령의 결과에 `unstack`을 자동 적용하여 2차원적인 형태로 변형한다. 사용 방법은 다음과 같다.\n",
        "\n",
        "* `pivot_table(data, values=None, index=None, columns=None, aggfunc='mean', fill_value=None, margins=False, margins_name='All')`\n",
        "    * `data`: 분석할 데이터프레임 (메서드일 때는 필요하지 않음)\n",
        "    * `values`: 분석할 데이터프레임에서 분석할 열\n",
        "    * `index`: 행 인덱스로 들어갈 키 열 또는 키 열의 리스트\n",
        "    * `columns`: 열 인덱스로 들어갈 키 열 또는 키 열의 리스트\n",
        "    * `aggfunc`: 분석 메서드\n",
        "    * `fill_value`: NaN 대체 값\n",
        "    * `margins`: 모든 데이터를 분석한 결과를 오른쪽과 아래에 붙일지 여부\n",
        "    * `margins_name`: 마진 열(행)의 이름\n",
        "    \n",
        "만약 조건에 따른 데이터가 유일하게 선택되지 않으면 그룹연산을 하며 이 때 `aggfunc` 인수로 정의된 함수를 수행하여 대표값을 계산한다.\n",
        "\n",
        "`pivot_table`를 메서드로 사용할 때는 객체 자체가 데이터가 되므로 `data` 인수가 필요하지 않다."
      ]
    },
    {
      "cell_type": "markdown",
      "metadata": {
        "school_cell_uuid": "9da1e1d0821949028ebbc11f53e4ca97",
        "id": "hxH8-lHegynA"
      },
      "source": [
        "예를 들어 위에서 만들었던 피봇테이블은 `pivot_table` 명령으로 다음과 같이 만들 수도 있다. 인수의 순서에 주의하라."
      ]
    },
    {
      "cell_type": "code",
      "metadata": {
        "id": "kiME8rKvvdR6"
      },
      "source": [
        "df1"
      ],
      "execution_count": null,
      "outputs": []
    },
    {
      "cell_type": "code",
      "metadata": {
        "school_cell_uuid": "08b76b7daf4c4aabb0cbaa77a66f4e5f",
        "id": "9_lRx3H2gynB"
      },
      "source": [
        "df1.pivot_table(\"인구\", \"도시\", \"연도\")"
      ],
      "execution_count": null,
      "outputs": []
    },
    {
      "cell_type": "markdown",
      "metadata": {
        "id": "oVjaHGmIgynB"
      },
      "source": [
        "`margins=True` 인수를 주면 `aggfunc`로 주어진 분석 방법을 해당 열의 모든 데이터, 해당 행의 모든 데이터 그리고 전체 데이터에 대해 적용한 결과를 같이 보여준다. `aggfunc`가 주어지지 않았으면 평균을 계산한다."
      ]
    },
    {
      "cell_type": "code",
      "metadata": {
        "school_cell_uuid": "484dafe7764e48f8b993790c629b1eb9",
        "id": "T2BRVLYWgynB"
      },
      "source": [
        "df1.pivot_table(\"인구\", \"도시\", \"연도\", margins=True, margins_name=\"합계\")"
      ],
      "execution_count": null,
      "outputs": []
    },
    {
      "cell_type": "markdown",
      "metadata": {
        "id": "tNwBKX_UgynC"
      },
      "source": [
        "이 결과에서 가장 오른쪽 합계 열의 첫번째 값 3451492은 모든 부산 인구 데이터의 평균, 두번째 값 9766113은 모든 서울 인구 데이터의 평균이다. 가장 아래의 합계 행의 첫번째 값은 2005년 데이터의 평균값, 두번째 값은 2010년 데이터의 평균값이다. 가장 오른쪽 아래의 값 5350809는 전체 데이터의 평균값이다. 다음 계산을 통해 이를 확인할 수 있다."
      ]
    },
    {
      "cell_type": "code",
      "metadata": {
        "id": "f_2PpIADgynC"
      },
      "source": [
        "df1[\"인구\"].mean()"
      ],
      "execution_count": null,
      "outputs": []
    },
    {
      "cell_type": "markdown",
      "metadata": {
        "school_cell_uuid": "f8c58621cd594ec3a912c80712aaa0e3",
        "id": "GrgotfhGgynC"
      },
      "source": [
        "행 인덱스나 열 인덱스에 리스트를 넣으면 다중 인덱스 테이블을 만든다."
      ]
    },
    {
      "cell_type": "code",
      "metadata": {
        "school_cell_uuid": "c172b1deec514208b34b4477b6c8c930",
        "id": "ny6mNCQ6gynD"
      },
      "source": [
        "df1.pivot_table(\"인구\", index=[\"연도\", \"도시\"])"
      ],
      "execution_count": null,
      "outputs": []
    },
    {
      "cell_type": "markdown",
      "metadata": {
        "school_cell_uuid": "317ad7281cef43ae98fc2351521798a7",
        "id": "pZQ6fsakgynD"
      },
      "source": [
        "식당에서 식사 후 내는 팁(tip)과 관련된 데이터를 이용하여 좀더 구체적으로 그룹분석 방법을 살펴본다. 우선 Seaborn 패키지에 설치된 샘플 데이터를 로드한다. 이 데이터프레임에서 각각의 컬럼은 다음을 뜻한다.\n",
        "\n",
        "* total_bill: 식사대금\n",
        "* tip: 팁\n",
        "* sex: 성별\n",
        "* smoker: 흡연/금연 여부\n",
        "* day: 요일\n",
        "* time: 시간\n",
        "* size: 인원"
      ]
    },
    {
      "cell_type": "code",
      "metadata": {
        "school_cell_uuid": "cc2f62fa6d454d99a75bb1e98d62ccb6",
        "id": "EWZNzbKtgynD"
      },
      "source": [
        "tips = sns.load_dataset(\"tips\")\n",
        "tips.tail()"
      ],
      "execution_count": null,
      "outputs": []
    },
    {
      "cell_type": "markdown",
      "metadata": {
        "school_cell_uuid": "82ce76a6507244869b36fdb5a3676459",
        "id": "3rD5SBTpgynE"
      },
      "source": [
        "분석의 목표는 식사 대금 대비 팁의 비율이 어떤 경우에 가장 높아지지는 찾는 것이다. 우선 식사대금와 팁의 비율을 나타내는 `tip_pct`를 추가하자."
      ]
    },
    {
      "cell_type": "code",
      "metadata": {
        "school_cell_uuid": "e1cb3432993742789b1fa635862559c8",
        "id": "J9NpaKXNgynE"
      },
      "source": [
        "tips['tip_pct'] = tips['tip'] / tips['total_bill']\n",
        "tips.tail()"
      ],
      "execution_count": null,
      "outputs": []
    },
    {
      "cell_type": "markdown",
      "metadata": {
        "school_cell_uuid": "93213c7480b04e509359b99064e4ca51",
        "id": "Fj_AKrDCgynE"
      },
      "source": [
        "다음으로 각 열의 데이터에 대해 간단히 분포를 알아본다."
      ]
    },
    {
      "cell_type": "code",
      "metadata": {
        "school_cell_uuid": "7b4c0a8e1f21419aa260626237335939",
        "id": "C91KY0i0gynE"
      },
      "source": [
        "tips.describe()"
      ],
      "execution_count": null,
      "outputs": []
    },
    {
      "cell_type": "markdown",
      "metadata": {
        "school_cell_uuid": "c0a99b12bc1f4787b51f049b8f718b1e",
        "id": "1fMCgssvgynF"
      },
      "source": [
        "우선 성별로 나누어 데이터 갯수를 세어본다."
      ]
    },
    {
      "cell_type": "code",
      "metadata": {
        "school_cell_uuid": "473bbbfdbc654cd49cded74d53ec132f",
        "id": "SQckfoFRgynG"
      },
      "source": [
        "tips.groupby(\"sex\").count()"
      ],
      "execution_count": null,
      "outputs": []
    },
    {
      "cell_type": "markdown",
      "metadata": {
        "school_cell_uuid": "2f1574c4c7184b58af083698093bb126",
        "id": "RsgpruvrgynG"
      },
      "source": [
        "데이터 갯수의 경우 NaN 데이터가 없다면 모두 같은 값이 나올 것이다. 이 때는 `size` 명령을 사용하면 더 간단히 표시된다. `size` 명령은 NaN이 있어도 상관하지 않는다."
      ]
    },
    {
      "cell_type": "code",
      "metadata": {
        "school_cell_uuid": "00edc90849654f81acddfd414ffd614e",
        "id": "yr1ycyYngynH"
      },
      "source": [
        "tips.groupby(\"sex\").size()"
      ],
      "execution_count": null,
      "outputs": []
    },
    {
      "cell_type": "markdown",
      "metadata": {
        "school_cell_uuid": "6bf15861c8594a1d80507469741e2eeb",
        "id": "RTvuY8k4gynH"
      },
      "source": [
        "이번에는 성별과 흡연유무로 나누어 데이터의 갯수를 알아본다."
      ]
    },
    {
      "cell_type": "code",
      "metadata": {
        "school_cell_uuid": "51bda88bc0ed402185cf290fdbd5dc47",
        "id": "4Ihvv2B7gynH"
      },
      "source": [
        "tips.groupby([\"sex\", \"smoker\"]).size()"
      ],
      "execution_count": null,
      "outputs": []
    },
    {
      "cell_type": "markdown",
      "metadata": {
        "school_cell_uuid": "347fcac8e82b44abb48018afb58a490a",
        "id": "O-_K1-i5gynI"
      },
      "source": [
        "좀 더 보기 좋도록 피봇 데이블 형태로 바꿀 수도 있다."
      ]
    },
    {
      "cell_type": "code",
      "metadata": {
        "school_cell_uuid": "85e29281c1c34bb0a12e575dbf7412cc",
        "id": "IPyMzAOBgynI"
      },
      "source": [
        "tips.pivot_table(\"tip_pct\", \"sex\", \"smoker\", aggfunc=\"count\", margins=True)"
      ],
      "execution_count": null,
      "outputs": []
    },
    {
      "cell_type": "markdown",
      "metadata": {
        "school_cell_uuid": "82d3d3d82d0e436a8e11bf4cf85f7fe2",
        "id": "u_9U0v2igynI"
      },
      "source": [
        "이제 성별과 흡연 여부에 따른 평균 팁 비율을 살펴본다."
      ]
    },
    {
      "cell_type": "code",
      "metadata": {
        "school_cell_uuid": "04336fd393c544bc91a397754b293b64",
        "id": "dBesA1cNgynI"
      },
      "source": [
        "tips.groupby(\"sex\")[[\"tip_pct\"]].mean()"
      ],
      "execution_count": null,
      "outputs": []
    },
    {
      "cell_type": "code",
      "metadata": {
        "school_cell_uuid": "2a280666382c40f5a87efe9c0520d2f7",
        "id": "05uJS8QrgynJ"
      },
      "source": [
        "tips.groupby(\"smoker\")[[\"tip_pct\"]].mean()"
      ],
      "execution_count": null,
      "outputs": []
    },
    {
      "cell_type": "markdown",
      "metadata": {
        "school_cell_uuid": "e37dfbf27c5c4da081fce3fba6c3591d",
        "id": "2_eXvQ7xgynJ"
      },
      "source": [
        "`pivot_table` 명령을 사용할 수도 있다."
      ]
    },
    {
      "cell_type": "code",
      "metadata": {
        "school_cell_uuid": "0156dd9421664fb08bf8339845ff9271",
        "id": "aTASsGtEgynK"
      },
      "source": [
        "tips.pivot_table(\"tip_pct\", \"sex\")"
      ],
      "execution_count": null,
      "outputs": []
    },
    {
      "cell_type": "code",
      "metadata": {
        "school_cell_uuid": "0156dd9421664fb08bf8339845ff9271",
        "id": "XuSkj4s-gynT"
      },
      "source": [
        "tips.pivot_table(\"tip_pct\", [\"sex\", \"smoker\"])"
      ],
      "execution_count": null,
      "outputs": []
    },
    {
      "cell_type": "code",
      "metadata": {
        "school_cell_uuid": "51bda88bc0ed402185cf290fdbd5dc47",
        "id": "0nK2krO-gynU"
      },
      "source": [
        "tips.pivot_table(\"tip_pct\", \"sex\", \"smoker\")"
      ],
      "execution_count": null,
      "outputs": []
    },
    {
      "cell_type": "markdown",
      "metadata": {
        "school_cell_uuid": "1ab65f483a7b4186b34fe6111e34e7a5",
        "id": "-g6G4z3wgynV"
      },
      "source": [
        "여성 혹은 흡연자의 팁 비율이 높은 것을 볼 수 있다. 하지만 이 데이터에는 평균을 제외한 분산(variance) 등의 다른 통계값이 없으므로 `describe` 명령으로 여러가지 통계값을 한 번에 알아본다."
      ]
    },
    {
      "cell_type": "code",
      "metadata": {
        "school_cell_uuid": "ad7c25500b804bc89c3621ff84a1358c",
        "id": "PwL_zDPRgynV"
      },
      "source": [
        "tips.groupby(\"sex\")[[\"tip_pct\"]].describe()"
      ],
      "execution_count": null,
      "outputs": []
    },
    {
      "cell_type": "code",
      "metadata": {
        "school_cell_uuid": "ad7c25500b804bc89c3621ff84a1358c",
        "id": "UqMYqshSgynW"
      },
      "source": [
        "tips.groupby(\"smoker\")[[\"tip_pct\"]].describe()"
      ],
      "execution_count": null,
      "outputs": []
    },
    {
      "cell_type": "code",
      "metadata": {
        "school_cell_uuid": "ad7c25500b804bc89c3621ff84a1358c",
        "id": "JYdAZ2ZOgynW"
      },
      "source": [
        "tips.groupby([\"sex\", \"smoker\"])[[\"tip_pct\"]].describe()"
      ],
      "execution_count": null,
      "outputs": []
    },
    {
      "cell_type": "markdown",
      "metadata": {
        "bootstrap": {
          "panel": {
            "class": "panel-default"
          }
        },
        "school_cell_uuid": "4b5f7eb125434f9588e5fcd0e45dd6e9",
        "id": "X8NS-2gNgynX"
      },
      "source": [
        "**<스스로> 연습문제**\n",
        "```{admonition} 연습 문제 4.7.3\n",
        "\n",
        "1. 팁의 비율이 요일과 점심/저녁 여부, 인원수에 어떤 영향을 받는지 살펴본다.\n",
        "2. 어떤 요인이 가장 크게 작용하는지 판단할 수 있는 방법이 있는가?\n",
        "````\n"
      ]
    },
    {
      "cell_type": "markdown",
      "metadata": {
        "school_cell_uuid": "84a69283ef6a4ec3914596f5875c050a",
        "id": "Qq7GVMQBgynX"
      },
      "source": [
        "이번에는 각 그룹에서 가장 많은 팁과 가장 적은 팁의 차이를 알아보자. 이 계산을 해 줄 수 있는 그룹연산 함수가 없으므로 함수를 직접 만들고 `agg` 메서드를 사용한다."
      ]
    },
    {
      "cell_type": "code",
      "metadata": {
        "school_cell_uuid": "cf52875b459640fda0a098a3de31174d",
        "id": "ASCXHa5rgynY"
      },
      "source": [
        "def peak_to_peak(x):\n",
        "    return x.max() - x.min()\n",
        "\n",
        "\n",
        "tips.groupby([\"sex\", \"smoker\"])[[\"tip\"]].agg(peak_to_peak)"
      ],
      "execution_count": null,
      "outputs": []
    },
    {
      "cell_type": "markdown",
      "metadata": {
        "school_cell_uuid": "462b6f2e170e44d8aeeceb44d4840103",
        "id": "RECw-25hgynZ"
      },
      "source": [
        "만약 여러가지 그룹연산을 동시에 하고 싶다면 다음과 같이 리스트를 이용한다."
      ]
    },
    {
      "cell_type": "code",
      "metadata": {
        "school_cell_uuid": "72767b4e40c7435b9b59e02b128cf3ad",
        "id": "knFZaGeOgynZ"
      },
      "source": [
        "tips.groupby([\"sex\", \"smoker\"]).agg([\"mean\", peak_to_peak])[[\"total_bill\"]]"
      ],
      "execution_count": null,
      "outputs": []
    },
    {
      "cell_type": "markdown",
      "metadata": {
        "school_cell_uuid": "e53d8189b7204a18bba001c96fd21d46",
        "id": "J0blGaPTgyna"
      },
      "source": [
        "만약 데이터 열마다 다른 연산을 하고 싶다면 열 라벨과 연산 이름(또는 함수)를 딕셔너리로 넣는다."
      ]
    },
    {
      "cell_type": "code",
      "metadata": {
        "school_cell_uuid": "d5fc79aac62c492cb97ded5e24cdee67",
        "id": "cEv1CQfWgyna"
      },
      "source": [
        "tips.groupby([\"sex\", \"smoker\"]).agg(\n",
        "    {'tip_pct': 'mean', 'total_bill': peak_to_peak})"
      ],
      "execution_count": null,
      "outputs": []
    },
    {
      "cell_type": "markdown",
      "metadata": {
        "school_cell_uuid": "843a5523c58a40c9b61cc567153eb6ad",
        "id": "KRKCWYufgynb"
      },
      "source": [
        "다음은 `pivot_table` 명령으로 더 복잡한 분석을 한 예이다."
      ]
    },
    {
      "cell_type": "code",
      "metadata": {
        "school_cell_uuid": "1a47c3400cfb4fa5a21510a9da3cdddb",
        "id": "Rhrz_fJrgynb"
      },
      "source": [
        "tips.pivot_table(['tip_pct', 'size'], ['sex', 'day'], 'smoker')"
      ],
      "execution_count": null,
      "outputs": []
    },
    {
      "cell_type": "code",
      "metadata": {
        "school_cell_uuid": "6c586414bdf04cee8ff35255776fc778",
        "id": "l-7dobSDgync"
      },
      "source": [
        "tips.pivot_table('size', ['time', 'sex', 'smoker'], 'day',\n",
        "                 aggfunc='sum', fill_value=0)"
      ],
      "execution_count": null,
      "outputs": []
    },
    {
      "cell_type": "markdown",
      "metadata": {
        "bootstrap": {
          "panel": {
            "class": "panel-default"
          }
        },
        "school_cell_uuid": "4b5f7eb125434f9588e5fcd0e45dd6e9",
        "id": "adyFzfflgynf"
      },
      "source": [
        "**<스스로> 연습문제**\n",
        "````{admonition} 연습 문제 4.7.4\n",
        "\n",
        "타이타닉 승객 데이터를 이용하여 다음 분석을 실시하라. 데이터는 다음과 같이 받을 수 있다.\n",
        "\n",
        "```\n",
        "titanic = sns.load_dataset(\"titanic\")\n",
        "```\n",
        "\n",
        "1. `qcut` 명령으로 세 개의 나이 그룹을 만든다.\n",
        "2. 성별, 선실, 나이 그룹에 의한 생존율을 데이터프레임으로 계산한다. \n",
        "행에는 성별 및 나이 그룹에 대한 다중 인덱스를 사용하고 열에는 선실 인덱스를 사용한다.\n",
        "생존률은 해당 그룹의 생존 인원수를 전체 인원수로 나눈 값이다.\n",
        "3. 성별 및 선실에 의한 생존율을 피봇 데이터 형태로 만든다.\n",
        "````\n"
      ]
    },
    {
      "cell_type": "code",
      "metadata": {
        "id": "diVDLeN0w7QZ"
      },
      "source": [
        "df = pd.read_csv('student_exam_result.csv')"
      ],
      "execution_count": null,
      "outputs": []
    },
    {
      "cell_type": "code",
      "metadata": {
        "id": "tTmPkdMoxX2R"
      },
      "source": [
        "df"
      ],
      "execution_count": null,
      "outputs": []
    },
    {
      "cell_type": "code",
      "metadata": {
        "id": "BW7-iubDxaIz"
      },
      "source": [
        "df.head()"
      ],
      "execution_count": null,
      "outputs": []
    },
    {
      "cell_type": "code",
      "metadata": {
        "id": "3Htdktdvxbng"
      },
      "source": [
        "df.columns"
      ],
      "execution_count": null,
      "outputs": []
    },
    {
      "cell_type": "code",
      "metadata": {
        "id": "zCSW3LkCxfPR"
      },
      "source": [
        "# aggfunc는 default로 np.means 지정 숫자인 '재시험회수', '점수'의 평균이 출력됨\r\n",
        "df.pivot_table(index=['합격여부'])"
      ],
      "execution_count": null,
      "outputs": []
    },
    {
      "cell_type": "code",
      "metadata": {
        "id": "yBI-oWmJxuFw"
      },
      "source": [
        "# index로 과목 과 합격여부 를 지정하면 멀티 Index 로 지정됨\r\n",
        "df.pivot_table(index=['과목' , '합격여부'])"
      ],
      "execution_count": null,
      "outputs": []
    },
    {
      "cell_type": "code",
      "metadata": {
        "id": "b85G9L3Mx4xc"
      },
      "source": [
        "# columns에 지정된 컬럼은 카테고리화 되는데 , 이 때 수치 값을 가지는 컬럼의 하위 그룹핑이 됨\r\n",
        "#재시험회수는 1,2,3 값으로 분포되어 있으며 , columns 에 지정되어 '점수' 하위 컬럼으로 재매핑\r\n",
        "df.pivot_table(index=['과목', '합격여부'], columns=['재시험회수'])"
      ],
      "execution_count": null,
      "outputs": []
    },
    {
      "cell_type": "code",
      "metadata": {
        "id": "squntmb59haV"
      },
      "source": [
        "#멀티 column도 가능\r\n",
        "#df.pivot_table(index=['과목 ', 합격여부 '], 재시험회수 '])\r\n",
        "df.pivot_table(index=['과목'],  columns=['합격여부', '재시험회수']) # 합격여부를 컬럼으로 옮겨서 표현"
      ],
      "execution_count": null,
      "outputs": []
    },
    {
      "cell_type": "code",
      "metadata": {
        "id": "PEwBt98x92Hb"
      },
      "source": [
        "tf = df.pivot_table(index=['과목'], columns=['합격여부', '재시험회수'], aggfunc= len)[['점수']]\r\n",
        "tf['합계'] = tf['점수'].sum(axis=1) #새로운 컬럼 '합계' 로 결과 저장\r\n",
        "tf"
      ],
      "execution_count": null,
      "outputs": []
    }
  ]
}