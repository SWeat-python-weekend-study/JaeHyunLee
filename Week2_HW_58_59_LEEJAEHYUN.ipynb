{
  "nbformat": 4,
  "nbformat_minor": 0,
  "metadata": {
    "colab": {
      "name": "210214.ipynb의 사본",
      "provenance": [],
      "toc_visible": true,
      "include_colab_link": true
    },
    "kernelspec": {
      "name": "python3",
      "display_name": "Python 3"
    }
  },
  "cells": [
    {
      "cell_type": "markdown",
      "metadata": {
        "id": "view-in-github",
        "colab_type": "text"
      },
      "source": [
        "<a href=\"https://colab.research.google.com/github/SWeat-python-weekend-study/JaeHyunLee/blob/main/Week2_HW_58_59_LEEJAEHYUN.ipynb\" target=\"_parent\"><img src=\"https://colab.research.google.com/assets/colab-badge.svg\" alt=\"Open In Colab\"/></a>"
      ]
    },
    {
      "cell_type": "markdown",
      "metadata": {
        "id": "Kd5NW6jInvAB"
      },
      "source": [
        "**0. Colab**\r\n"
      ]
    },
    {
      "cell_type": "markdown",
      "metadata": {
        "id": "92YNQ4ikoN7o"
      },
      "source": [
        "# **마크다운 실습**\r\n",
        "\r\n",
        "## 글자 크기 조정하기\r\n",
        "\r\n",
        "# ONE\r\n",
        "## TWO\r\n",
        "### THREE\r\n",
        "#### FOUR\r\n",
        "##### FIVE\r\n",
        "###### SIX\r\n",
        "\r\n",
        "## 목록 만들기\r\n",
        "1.   하나\r\n",
        "2.   둘\r\n",
        "\r\n",
        "* 검정 동그라미\r\n",
        "  * 하얀 동그라미\r\n",
        "    * 검정 네모\r\n",
        "\r\n",
        "## 강조하기\r\n",
        "\r\n",
        "*single asterisks*\r\n",
        "\r\n",
        "_single underscores_\r\n",
        "\r\n",
        "**double asterisks**\r\n",
        "\r\n",
        "__double underscores__\r\n",
        "\r\n",
        "~~cancelline~~\r\n",
        "\r\n",
        "## 링크\r\n",
        "[Google](http://www.google.co.kr“구글”)\r\n",
        "\r\n"
      ]
    },
    {
      "cell_type": "code",
      "metadata": {
        "id": "J4PITutpovRx",
        "colab": {
          "base_uri": "https://localhost:8080/"
        },
        "outputId": "2fcef435-004e-4613-c325-eb6432580af8"
      },
      "source": [
        "!pwd"
      ],
      "execution_count": 214,
      "outputs": [
        {
          "output_type": "stream",
          "text": [
            "/content/sample_data\n"
          ],
          "name": "stdout"
        }
      ]
    },
    {
      "cell_type": "code",
      "metadata": {
        "id": "VVwWj__A-02I",
        "colab": {
          "base_uri": "https://localhost:8080/"
        },
        "outputId": "c25525bc-0727-4374-b4fb-c26e464cc825"
      },
      "source": [
        "!ls"
      ],
      "execution_count": 215,
      "outputs": [
        {
          "output_type": "stream",
          "text": [
            "행정구역_시군구_시계열_인구변화\n",
            "행정구역_시군구_별__성별_인구수_2011_2020\n",
            "일별평균대기오염도_2018.csv\n",
            "anscombe.json\n",
            "california_housing_test.csv\n",
            "california_housing_train.csv\n",
            "covid19_patient\n",
            "fiction_kor-1.txt\n",
            "LGU_190530_200729\n",
            "mnist_test.csv\n",
            "mnist_train_small.csv\n",
            "msg_code\n",
            "README.md\n",
            "seoul-district.svg\n",
            "seoul_people_report\n",
            "south-korea.svg\n",
            "student\n",
            "student_exam_result\n",
            "titanic.csv\n",
            "trns_1day_series\n",
            "trns_time_series.txt\n",
            "twitter.png\n",
            "visa-innovations-for-a-cashless-world-2017-report.pdf\n"
          ],
          "name": "stdout"
        }
      ]
    },
    {
      "cell_type": "markdown",
      "metadata": {
        "id": "40VuYJCsCgH8"
      },
      "source": [
        "**1. iterator**\r\n",
        "- iterable: 반복 가능한 객체  \r\n",
        "ex) 문자열, 리스트, 딕셔너리, 집합  \r\n",
        " 요소가 여러개 들어있고, 한 번에 하나씩 꺼낼 수 있는 객체  \r\n",
        "  \r\n",
        "- \\_\\_iter__ 메서드가 해당 객체에 있는지 확인\r\n",
        "\r\n",
        "\r\n"
      ]
    },
    {
      "cell_type": "code",
      "metadata": {
        "id": "xL0Wy8nwCkaB",
        "colab": {
          "base_uri": "https://localhost:8080/"
        },
        "outputId": "b4078813-30fa-4ea6-92e2-2f7de7435988"
      },
      "source": [
        "dir([1,2,3])"
      ],
      "execution_count": 216,
      "outputs": [
        {
          "output_type": "execute_result",
          "data": {
            "text/plain": [
              "['__add__',\n",
              " '__class__',\n",
              " '__contains__',\n",
              " '__delattr__',\n",
              " '__delitem__',\n",
              " '__dir__',\n",
              " '__doc__',\n",
              " '__eq__',\n",
              " '__format__',\n",
              " '__ge__',\n",
              " '__getattribute__',\n",
              " '__getitem__',\n",
              " '__gt__',\n",
              " '__hash__',\n",
              " '__iadd__',\n",
              " '__imul__',\n",
              " '__init__',\n",
              " '__init_subclass__',\n",
              " '__iter__',\n",
              " '__le__',\n",
              " '__len__',\n",
              " '__lt__',\n",
              " '__mul__',\n",
              " '__ne__',\n",
              " '__new__',\n",
              " '__reduce__',\n",
              " '__reduce_ex__',\n",
              " '__repr__',\n",
              " '__reversed__',\n",
              " '__rmul__',\n",
              " '__setattr__',\n",
              " '__setitem__',\n",
              " '__sizeof__',\n",
              " '__str__',\n",
              " '__subclasshook__',\n",
              " 'append',\n",
              " 'clear',\n",
              " 'copy',\n",
              " 'count',\n",
              " 'extend',\n",
              " 'index',\n",
              " 'insert',\n",
              " 'pop',\n",
              " 'remove',\n",
              " 'reverse',\n",
              " 'sort']"
            ]
          },
          "metadata": {
            "tags": []
          },
          "execution_count": 216
        }
      ]
    },
    {
      "cell_type": "code",
      "metadata": {
        "id": "Seq22FxZED_y",
        "colab": {
          "base_uri": "https://localhost:8080/"
        },
        "outputId": "f134ab6a-affe-4210-e1a8-f5ba261932dc"
      },
      "source": [
        "[1, 2, 3].__iter__()"
      ],
      "execution_count": 217,
      "outputs": [
        {
          "output_type": "execute_result",
          "data": {
            "text/plain": [
              "<list_iterator at 0x7f68b99294e0>"
            ]
          },
          "metadata": {
            "tags": []
          },
          "execution_count": 217
        }
      ]
    },
    {
      "cell_type": "markdown",
      "metadata": {
        "id": "03bEx3WeEkFo"
      },
      "source": [
        "\r\n",
        "\r\n",
        "---\r\n",
        "\r\n"
      ]
    },
    {
      "cell_type": "code",
      "metadata": {
        "id": "yHhgKdnaEPVb"
      },
      "source": [
        "it = [1, 2, 3].__iter__() #리스트의 이터레이터를 it 변수에 저장 후 __next__ 메서드 호출"
      ],
      "execution_count": 218,
      "outputs": []
    },
    {
      "cell_type": "code",
      "metadata": {
        "id": "NhJviSOBEW1F",
        "colab": {
          "base_uri": "https://localhost:8080/"
        },
        "outputId": "67cc4634-2371-4de3-f68e-a6a18ac64318"
      },
      "source": [
        "it.__next__()"
      ],
      "execution_count": 219,
      "outputs": [
        {
          "output_type": "execute_result",
          "data": {
            "text/plain": [
              "1"
            ]
          },
          "metadata": {
            "tags": []
          },
          "execution_count": 219
        }
      ]
    },
    {
      "cell_type": "code",
      "metadata": {
        "id": "wpCgno5REYTb",
        "colab": {
          "base_uri": "https://localhost:8080/"
        },
        "outputId": "e25a9c6b-ac3d-49ce-8fee-f490cc9cd695"
      },
      "source": [
        "it.__next__()"
      ],
      "execution_count": 220,
      "outputs": [
        {
          "output_type": "execute_result",
          "data": {
            "text/plain": [
              "2"
            ]
          },
          "metadata": {
            "tags": []
          },
          "execution_count": 220
        }
      ]
    },
    {
      "cell_type": "code",
      "metadata": {
        "id": "cIYp0RHSEZW_",
        "colab": {
          "base_uri": "https://localhost:8080/"
        },
        "outputId": "8b3d0732-5c78-475d-b579-b614eda47c72"
      },
      "source": [
        "it.__next__()"
      ],
      "execution_count": 221,
      "outputs": [
        {
          "output_type": "execute_result",
          "data": {
            "text/plain": [
              "3"
            ]
          },
          "metadata": {
            "tags": []
          },
          "execution_count": 221
        }
      ]
    },
    {
      "cell_type": "code",
      "metadata": {
        "id": "H0WUnqJLEajN"
      },
      "source": [
        "#it.__next__() #더 이상 꺼낼 요소가 없으므로 StopIteration Exception 발생"
      ],
      "execution_count": 222,
      "outputs": []
    },
    {
      "cell_type": "markdown",
      "metadata": {
        "id": "ulPiDxY8EnA2"
      },
      "source": [
        "\r\n",
        "\r\n",
        "---\r\n",
        "\r\n"
      ]
    },
    {
      "cell_type": "code",
      "metadata": {
        "id": "4qgLNDMKEn1M",
        "colab": {
          "base_uri": "https://localhost:8080/"
        },
        "outputId": "89085fef-d881-47ab-baa0-1cd4fe9ffb0b"
      },
      "source": [
        "'Hello, world!'.__iter__()"
      ],
      "execution_count": 223,
      "outputs": [
        {
          "output_type": "execute_result",
          "data": {
            "text/plain": [
              "<str_iterator at 0x7f68b991f550>"
            ]
          },
          "metadata": {
            "tags": []
          },
          "execution_count": 223
        }
      ]
    },
    {
      "cell_type": "code",
      "metadata": {
        "id": "AMwFuE3MExQu",
        "colab": {
          "base_uri": "https://localhost:8080/"
        },
        "outputId": "4121bacb-e812-4a6b-90bc-3aac8d4697d3"
      },
      "source": [
        "{'a': 1, 'b': 2}.__iter__()"
      ],
      "execution_count": 224,
      "outputs": [
        {
          "output_type": "execute_result",
          "data": {
            "text/plain": [
              "<dict_keyiterator at 0x7f68b99262c8>"
            ]
          },
          "metadata": {
            "tags": []
          },
          "execution_count": 224
        }
      ]
    },
    {
      "cell_type": "code",
      "metadata": {
        "id": "VAT2FFb6Ezqm",
        "colab": {
          "base_uri": "https://localhost:8080/"
        },
        "outputId": "54648a2f-b06a-4d2e-dde6-24b6e1dce96b"
      },
      "source": [
        "{1, 2, 3}.__iter__()"
      ],
      "execution_count": 225,
      "outputs": [
        {
          "output_type": "execute_result",
          "data": {
            "text/plain": [
              "<set_iterator at 0x7f68b98c5678>"
            ]
          },
          "metadata": {
            "tags": []
          },
          "execution_count": 225
        }
      ]
    },
    {
      "cell_type": "markdown",
      "metadata": {
        "id": "6y-FsYT1E2ps"
      },
      "source": [
        "\r\n",
        "\r\n",
        "---\r\n",
        "\r\n"
      ]
    },
    {
      "cell_type": "code",
      "metadata": {
        "id": "ZivClKH8E38V"
      },
      "source": [
        "it = range(3).__iter__()"
      ],
      "execution_count": 226,
      "outputs": []
    },
    {
      "cell_type": "markdown",
      "metadata": {
        "id": "wY2OUequJ8pX"
      },
      "source": [
        ""
      ]
    },
    {
      "cell_type": "code",
      "metadata": {
        "id": "O08jvvNZE64-",
        "colab": {
          "base_uri": "https://localhost:8080/"
        },
        "outputId": "e2277c1d-a31a-46be-ff07-99d943bd6d5e"
      },
      "source": [
        "it.__next__()"
      ],
      "execution_count": 227,
      "outputs": [
        {
          "output_type": "execute_result",
          "data": {
            "text/plain": [
              "0"
            ]
          },
          "metadata": {
            "tags": []
          },
          "execution_count": 227
        }
      ]
    },
    {
      "cell_type": "code",
      "metadata": {
        "id": "VAcdtOfAE7QU",
        "colab": {
          "base_uri": "https://localhost:8080/"
        },
        "outputId": "cda48e62-1c75-41c9-ea7a-bace1be9fb35"
      },
      "source": [
        "it.__next__()"
      ],
      "execution_count": 228,
      "outputs": [
        {
          "output_type": "execute_result",
          "data": {
            "text/plain": [
              "1"
            ]
          },
          "metadata": {
            "tags": []
          },
          "execution_count": 228
        }
      ]
    },
    {
      "cell_type": "code",
      "metadata": {
        "id": "NRNd2dluE7k0",
        "colab": {
          "base_uri": "https://localhost:8080/"
        },
        "outputId": "23d473d0-3fb0-4fae-be9e-1989c9be0669"
      },
      "source": [
        "it.__next__()"
      ],
      "execution_count": 229,
      "outputs": [
        {
          "output_type": "execute_result",
          "data": {
            "text/plain": [
              "2"
            ]
          },
          "metadata": {
            "tags": []
          },
          "execution_count": 229
        }
      ]
    },
    {
      "cell_type": "code",
      "metadata": {
        "id": "7e1LVArOE9fK"
      },
      "source": [
        "#it.__next__()"
      ],
      "execution_count": 230,
      "outputs": []
    },
    {
      "cell_type": "markdown",
      "metadata": {
        "id": "obudCleDGA29"
      },
      "source": [
        "**2. Generator**\r\n",
        "\r\n",
        "- generator: iterator를 생성해주는 함수  \r\n",
        "generator는 함수 안에서 yield라는 키워드만 사용하면 됨\r\n",
        "- iterator보다 간단"
      ]
    },
    {
      "cell_type": "code",
      "metadata": {
        "id": "avYPvcnOGjJI",
        "colab": {
          "base_uri": "https://localhost:8080/"
        },
        "outputId": "55668cb7-aa60-4f7a-d92b-80191b62bf96"
      },
      "source": [
        "def number_generator():\r\n",
        "    yield 0\r\n",
        "    yield 1\r\n",
        "    yield 2\r\n",
        " \r\n",
        "for i in number_generator():\r\n",
        "    print(i)"
      ],
      "execution_count": 231,
      "outputs": [
        {
          "output_type": "stream",
          "text": [
            "0\n",
            "1\n",
            "2\n"
          ],
          "name": "stdout"
        }
      ]
    },
    {
      "cell_type": "code",
      "metadata": {
        "id": "PudO8DEdGnG4",
        "colab": {
          "base_uri": "https://localhost:8080/"
        },
        "outputId": "45463878-78ec-4f20-c26e-836f7da85b05"
      },
      "source": [
        "def g ():\r\n",
        "  print('one')\r\n",
        "  yield 1 #첫번째 next 호출 시 여기까지 처리\r\n",
        "  print('two')\r\n",
        "  yield 2 #두번째 next 호출 시 여기까지 처리\r\n",
        "  print('three')\r\n",
        "  yield 3 #세번째 next 호출 시 여기까지 처리\r\n",
        "\r\n",
        "_ = g()\r\n",
        "next(_)\r\n",
        "next(_)\r\n",
        "next(_)"
      ],
      "execution_count": 232,
      "outputs": [
        {
          "output_type": "stream",
          "text": [
            "one\n",
            "two\n",
            "three\n"
          ],
          "name": "stdout"
        },
        {
          "output_type": "execute_result",
          "data": {
            "text/plain": [
              "3"
            ]
          },
          "metadata": {
            "tags": []
          },
          "execution_count": 232
        }
      ]
    },
    {
      "cell_type": "code",
      "metadata": {
        "colab": {
          "base_uri": "https://localhost:8080/"
        },
        "id": "Kt7chR-LZCE8",
        "outputId": "5501f94f-0b3b-4f6a-b1fd-9556092b3f96"
      },
      "source": [
        "x = g()\r\n",
        "next(x)"
      ],
      "execution_count": 233,
      "outputs": [
        {
          "output_type": "stream",
          "text": [
            "one\n"
          ],
          "name": "stdout"
        },
        {
          "output_type": "execute_result",
          "data": {
            "text/plain": [
              "1"
            ]
          },
          "metadata": {
            "tags": []
          },
          "execution_count": 233
        }
      ]
    },
    {
      "cell_type": "code",
      "metadata": {
        "colab": {
          "base_uri": "https://localhost:8080/"
        },
        "id": "4r2jvwJdZNzq",
        "outputId": "d8283a88-c73f-4824-a8d4-5bcf0d1812fb"
      },
      "source": [
        "next(x)"
      ],
      "execution_count": 234,
      "outputs": [
        {
          "output_type": "stream",
          "text": [
            "two\n"
          ],
          "name": "stdout"
        },
        {
          "output_type": "execute_result",
          "data": {
            "text/plain": [
              "2"
            ]
          },
          "metadata": {
            "tags": []
          },
          "execution_count": 234
        }
      ]
    },
    {
      "cell_type": "code",
      "metadata": {
        "colab": {
          "base_uri": "https://localhost:8080/"
        },
        "id": "GCEVbwzQZRPg",
        "outputId": "38ba2b4d-5781-4760-9ace-f4249f581e62"
      },
      "source": [
        "next(x)"
      ],
      "execution_count": 235,
      "outputs": [
        {
          "output_type": "stream",
          "text": [
            "three\n"
          ],
          "name": "stdout"
        },
        {
          "output_type": "execute_result",
          "data": {
            "text/plain": [
              "3"
            ]
          },
          "metadata": {
            "tags": []
          },
          "execution_count": 235
        }
      ]
    },
    {
      "cell_type": "code",
      "metadata": {
        "id": "HSsicq3IHJBS",
        "colab": {
          "base_uri": "https://localhost:8080/"
        },
        "outputId": "bf2cc280-05c9-48e2-9fad-1c82490aa9c8"
      },
      "source": [
        "#반복문 처리 시 활용\r\n",
        "def g():\r\n",
        "  A = [1,2,3,4,5]\r\n",
        "  for _ in A:\r\n",
        "    yield _\r\n",
        "\r\n",
        "for _ in g():\r\n",
        "  print( _ * 2)"
      ],
      "execution_count": 236,
      "outputs": [
        {
          "output_type": "stream",
          "text": [
            "2\n",
            "4\n",
            "6\n",
            "8\n",
            "10\n"
          ],
          "name": "stdout"
        }
      ]
    },
    {
      "cell_type": "markdown",
      "metadata": {
        "id": "gl32tx5GIbvg"
      },
      "source": [
        "\r\n",
        "\r\n",
        "---\r\n",
        "\r\n"
      ]
    },
    {
      "cell_type": "code",
      "metadata": {
        "id": "TaPj6IWIIcq8",
        "colab": {
          "base_uri": "https://localhost:8080/"
        },
        "outputId": "dd83e286-0d96-4a2a-cefa-0492b6969592"
      },
      "source": [
        "g = number_generator()\r\n",
        "g"
      ],
      "execution_count": 237,
      "outputs": [
        {
          "output_type": "execute_result",
          "data": {
            "text/plain": [
              "<generator object number_generator at 0x7f68b992a3b8>"
            ]
          },
          "metadata": {
            "tags": []
          },
          "execution_count": 237
        }
      ]
    },
    {
      "cell_type": "code",
      "metadata": {
        "id": "XQdD2eKMIgNU",
        "colab": {
          "base_uri": "https://localhost:8080/"
        },
        "outputId": "d849155f-0cc1-436b-d009-973a70cb5f55"
      },
      "source": [
        "g.__next__()"
      ],
      "execution_count": 238,
      "outputs": [
        {
          "output_type": "execute_result",
          "data": {
            "text/plain": [
              "0"
            ]
          },
          "metadata": {
            "tags": []
          },
          "execution_count": 238
        }
      ]
    },
    {
      "cell_type": "code",
      "metadata": {
        "id": "tzsFc0XKIhxv",
        "colab": {
          "base_uri": "https://localhost:8080/"
        },
        "outputId": "0e42500b-c9f5-4b2a-9cdc-e54c6d2b7886"
      },
      "source": [
        "g.__next__()"
      ],
      "execution_count": 239,
      "outputs": [
        {
          "output_type": "execute_result",
          "data": {
            "text/plain": [
              "1"
            ]
          },
          "metadata": {
            "tags": []
          },
          "execution_count": 239
        }
      ]
    },
    {
      "cell_type": "code",
      "metadata": {
        "id": "eiZndpQeIivH",
        "colab": {
          "base_uri": "https://localhost:8080/"
        },
        "outputId": "ed1198ce-c32b-4be9-94e7-b87eae273129"
      },
      "source": [
        "g.__next__()"
      ],
      "execution_count": 240,
      "outputs": [
        {
          "output_type": "execute_result",
          "data": {
            "text/plain": [
              "2"
            ]
          },
          "metadata": {
            "tags": []
          },
          "execution_count": 240
        }
      ]
    },
    {
      "cell_type": "code",
      "metadata": {
        "id": "ch5Par4dIlA5"
      },
      "source": [
        "#g.__next__()"
      ],
      "execution_count": 241,
      "outputs": []
    },
    {
      "cell_type": "markdown",
      "metadata": {
        "id": "WO6d1hVqI1Pb"
      },
      "source": [
        "- yield를 사용하면 값을 함수 바깥으로 전달하면서 코드 실행을 함수 바깥에 양보"
      ]
    },
    {
      "cell_type": "markdown",
      "metadata": {
        "id": "X4rQZNx3JMVT"
      },
      "source": [
        "**3. 한 줄 조건문**"
      ]
    },
    {
      "cell_type": "code",
      "metadata": {
        "id": "ZV7-pjIZI7X7"
      },
      "source": [
        "def confirm(x):\r\n",
        "  return '1입니다' if x==1 else\\\r\n",
        "          '5입니다' if x==5 else\\\r\n",
        "          '1도 5도 아닙니다'\r\n",
        "\r\n",
        "# def confirm(x):\r\n",
        "#   if x == 1:\r\n",
        "#     return 1입니다\r\n",
        "#   elif x == 5:\r\n",
        "#     return 5\r\n",
        "#   else:\r\n",
        "#     return 1도 5도 아니다"
      ],
      "execution_count": 242,
      "outputs": []
    },
    {
      "cell_type": "code",
      "metadata": {
        "id": "aqVlFIgBJ0cH",
        "colab": {
          "base_uri": "https://localhost:8080/",
          "height": 35
        },
        "outputId": "ab861bf9-3f0d-415e-8be1-3474294eb108"
      },
      "source": [
        "confirm(1)"
      ],
      "execution_count": 243,
      "outputs": [
        {
          "output_type": "execute_result",
          "data": {
            "application/vnd.google.colaboratory.intrinsic+json": {
              "type": "string"
            },
            "text/plain": [
              "'1입니다'"
            ]
          },
          "metadata": {
            "tags": []
          },
          "execution_count": 243
        }
      ]
    },
    {
      "cell_type": "code",
      "metadata": {
        "id": "8pB7VoWPJ3jo",
        "colab": {
          "base_uri": "https://localhost:8080/",
          "height": 35
        },
        "outputId": "8090c0d2-b1eb-4e67-dc24-d3b72527481b"
      },
      "source": [
        "confirm(3)"
      ],
      "execution_count": 244,
      "outputs": [
        {
          "output_type": "execute_result",
          "data": {
            "application/vnd.google.colaboratory.intrinsic+json": {
              "type": "string"
            },
            "text/plain": [
              "'1도 5도 아닙니다'"
            ]
          },
          "metadata": {
            "tags": []
          },
          "execution_count": 244
        }
      ]
    },
    {
      "cell_type": "code",
      "metadata": {
        "id": "5I-1xgCvJ47c",
        "colab": {
          "base_uri": "https://localhost:8080/",
          "height": 35
        },
        "outputId": "14fe6e94-0e6e-4ffe-9aab-cc24a2ac1042"
      },
      "source": [
        "confirm(5)"
      ],
      "execution_count": 245,
      "outputs": [
        {
          "output_type": "execute_result",
          "data": {
            "application/vnd.google.colaboratory.intrinsic+json": {
              "type": "string"
            },
            "text/plain": [
              "'5입니다'"
            ]
          },
          "metadata": {
            "tags": []
          },
          "execution_count": 245
        }
      ]
    },
    {
      "cell_type": "markdown",
      "metadata": {
        "id": "CJg7bMneKC8E"
      },
      "source": [
        "**4. 리스트**"
      ]
    },
    {
      "cell_type": "markdown",
      "metadata": {
        "id": "hMqA6hYnKI1W"
      },
      "source": [
        "- 리스트 기본  \r\n",
        "[ ] 대괄호 안에 쉽표, 구분자로 분리"
      ]
    },
    {
      "cell_type": "code",
      "metadata": {
        "id": "JAwtJBogKMU0"
      },
      "source": [
        "A = [1,2,3,4,5]"
      ],
      "execution_count": 246,
      "outputs": []
    },
    {
      "cell_type": "markdown",
      "metadata": {
        "id": "jXseLfABKZqc"
      },
      "source": [
        "- 리스트는 추가하고 삭제 가능"
      ]
    },
    {
      "cell_type": "code",
      "metadata": {
        "id": "23ca_didKcLZ",
        "colab": {
          "base_uri": "https://localhost:8080/"
        },
        "outputId": "74bf914d-1244-45de-9aea-1055defe66e8"
      },
      "source": [
        "A.append(6)\r\n",
        "A"
      ],
      "execution_count": 247,
      "outputs": [
        {
          "output_type": "execute_result",
          "data": {
            "text/plain": [
              "[1, 2, 3, 4, 5, 6]"
            ]
          },
          "metadata": {
            "tags": []
          },
          "execution_count": 247
        }
      ]
    },
    {
      "cell_type": "code",
      "metadata": {
        "id": "9sCAriE-KgVe",
        "colab": {
          "base_uri": "https://localhost:8080/"
        },
        "outputId": "6bedcef0-2845-4780-a8a4-1f7f96417c37"
      },
      "source": [
        "del(A[0])\r\n",
        "A"
      ],
      "execution_count": 248,
      "outputs": [
        {
          "output_type": "execute_result",
          "data": {
            "text/plain": [
              "[2, 3, 4, 5, 6]"
            ]
          },
          "metadata": {
            "tags": []
          },
          "execution_count": 248
        }
      ]
    },
    {
      "cell_type": "markdown",
      "metadata": {
        "id": "ZoQYBAXoKpJG"
      },
      "source": [
        "- 리스트 슬라이싱"
      ]
    },
    {
      "cell_type": "code",
      "metadata": {
        "id": "ssraydeJKm1z",
        "colab": {
          "base_uri": "https://localhost:8080/"
        },
        "outputId": "7881a189-68cd-449b-a5ed-2ad3e336c888"
      },
      "source": [
        "A = [1,2,3,4,5]\r\n",
        "A[:2]"
      ],
      "execution_count": 249,
      "outputs": [
        {
          "output_type": "execute_result",
          "data": {
            "text/plain": [
              "[1, 2]"
            ]
          },
          "metadata": {
            "tags": []
          },
          "execution_count": 249
        }
      ]
    },
    {
      "cell_type": "markdown",
      "metadata": {
        "id": "YZtNU67ZKzLf"
      },
      "source": [
        "**5. 리스트 표현식**"
      ]
    },
    {
      "cell_type": "code",
      "metadata": {
        "id": "9ztgdUrpK9Vk"
      },
      "source": [
        "A = list(range(10)) # [0,1,2,3,4,5,6,7,8,9] 할당"
      ],
      "execution_count": 250,
      "outputs": []
    },
    {
      "cell_type": "code",
      "metadata": {
        "colab": {
          "base_uri": "https://localhost:8080/"
        },
        "id": "G0c0A3m9d0MV",
        "outputId": "d0b46126-28e5-4552-9abf-aab9755e4982"
      },
      "source": [
        "A"
      ],
      "execution_count": 251,
      "outputs": [
        {
          "output_type": "execute_result",
          "data": {
            "text/plain": [
              "[0, 1, 2, 3, 4, 5, 6, 7, 8, 9]"
            ]
          },
          "metadata": {
            "tags": []
          },
          "execution_count": 251
        }
      ]
    },
    {
      "cell_type": "code",
      "metadata": {
        "id": "uaMx5XI2LOZC"
      },
      "source": [
        "#파이썬에서 _ 문자를 변수명으로 사용 가능함 . 쓰고 버리는 의미 없는 임시변수 표현"
      ],
      "execution_count": 252,
      "outputs": []
    },
    {
      "cell_type": "code",
      "metadata": {
        "id": "yS_TcZywLQAy",
        "colab": {
          "base_uri": "https://localhost:8080/"
        },
        "outputId": "dfd01d03-7ea5-4e91-b48e-3998369a8633"
      },
      "source": [
        "B = [_ for _ in A]\r\n",
        "# B = [x for x in A]\r\n",
        "B\r\n",
        "# for _ in A:\r\n",
        "#   B.append(_)"
      ],
      "execution_count": 253,
      "outputs": [
        {
          "output_type": "execute_result",
          "data": {
            "text/plain": [
              "[0, 1, 2, 3, 4, 5, 6, 7, 8, 9]"
            ]
          },
          "metadata": {
            "tags": []
          },
          "execution_count": 253
        }
      ]
    },
    {
      "cell_type": "code",
      "metadata": {
        "colab": {
          "base_uri": "https://localhost:8080/"
        },
        "id": "2b1Fg7cQeUIo",
        "outputId": "faba441d-ab48-4a87-e084-20aacc62d928"
      },
      "source": [
        "X = [0 for i in range(5)]\r\n",
        "X"
      ],
      "execution_count": 254,
      "outputs": [
        {
          "output_type": "execute_result",
          "data": {
            "text/plain": [
              "[0, 0, 0, 0, 0]"
            ]
          },
          "metadata": {
            "tags": []
          },
          "execution_count": 254
        }
      ]
    },
    {
      "cell_type": "code",
      "metadata": {
        "colab": {
          "base_uri": "https://localhost:8080/"
        },
        "id": "ozoBbV0-eh5X",
        "outputId": "162ed25f-1f2e-4f19-b4dd-8cdf5719e041"
      },
      "source": [
        "x = ['3', '5', '2']\r\n",
        "Y = [int(i) for i in x]\r\n",
        "Y"
      ],
      "execution_count": 255,
      "outputs": [
        {
          "output_type": "execute_result",
          "data": {
            "text/plain": [
              "[3, 5, 2]"
            ]
          },
          "metadata": {
            "tags": []
          },
          "execution_count": 255
        }
      ]
    },
    {
      "cell_type": "code",
      "metadata": {
        "id": "xsscCpR_Lqt3",
        "outputId": "8b5acf4d-8f68-4409-cf08-befc35f6bf53",
        "colab": {
          "base_uri": "https://localhost:8080/"
        }
      },
      "source": [
        "C =[x for x in A if x > 5 ] # [6,7,8,9] 할당 = 5 보다 큰 값 할당 필터링 역할\r\n",
        "C"
      ],
      "execution_count": 256,
      "outputs": [
        {
          "output_type": "execute_result",
          "data": {
            "text/plain": [
              "[6, 7, 8, 9]"
            ]
          },
          "metadata": {
            "tags": []
          },
          "execution_count": 256
        }
      ]
    },
    {
      "cell_type": "markdown",
      "metadata": {
        "id": "IOS8Bg2nMMm7"
      },
      "source": [
        "\r\n",
        "\r\n",
        "---\r\n",
        "\r\n"
      ]
    },
    {
      "cell_type": "code",
      "metadata": {
        "id": "rcRJW5mNMHEL",
        "colab": {
          "base_uri": "https://localhost:8080/"
        },
        "outputId": "8f9c262a-485d-403f-befe-2c7d7178d36d"
      },
      "source": [
        "D = [x for x in A if x > 5 and x % 2 == 0 ]\r\n",
        "D"
      ],
      "execution_count": 257,
      "outputs": [
        {
          "output_type": "execute_result",
          "data": {
            "text/plain": [
              "[6, 8]"
            ]
          },
          "metadata": {
            "tags": []
          },
          "execution_count": 257
        }
      ]
    },
    {
      "cell_type": "markdown",
      "metadata": {
        "id": "vq4NguC-MtdH"
      },
      "source": [
        "**6. 함수**"
      ]
    },
    {
      "cell_type": "code",
      "metadata": {
        "id": "U5_HCtF6MYxe"
      },
      "source": [
        "# F(n) = F(n-1) + F(n-2) 단, n > 2일 경우\r\n",
        "\r\n",
        "def F(n):\r\n",
        "  if n <= 2:\r\n",
        "    return 1\r\n",
        "  else:\r\n",
        "    return F(n-1) + F(n-2) # 재귀(recursive)"
      ],
      "execution_count": 258,
      "outputs": []
    },
    {
      "cell_type": "code",
      "metadata": {
        "id": "vdbxbtv9NBGa",
        "colab": {
          "base_uri": "https://localhost:8080/"
        },
        "outputId": "eb407aed-c0a4-4068-de59-b77e6517e841"
      },
      "source": [
        "R = [F(n) for n in range(1, 10)]\r\n",
        "print(R) #F(1)에서 F(9)까지 구하기"
      ],
      "execution_count": 259,
      "outputs": [
        {
          "output_type": "stream",
          "text": [
            "[1, 1, 2, 3, 5, 8, 13, 21, 34]\n"
          ],
          "name": "stdout"
        }
      ]
    },
    {
      "cell_type": "markdown",
      "metadata": {
        "id": "Jh2el3OANd8Z"
      },
      "source": [
        "**7. 람다(lambda) 함수**\r\n",
        "- 익명함수(Anonymous Function)\r\n",
        "- 함수 정의를 한 줄로 생략하는 방식"
      ]
    },
    {
      "cell_type": "code",
      "metadata": {
        "id": "BvKJeMBHNhI0"
      },
      "source": [
        "A =lambda x : x*2\r\n",
        "A(5) #10 값\r\n",
        "\r\n",
        "def lamb(x):\r\n",
        "  return x*2"
      ],
      "execution_count": 260,
      "outputs": []
    },
    {
      "cell_type": "code",
      "metadata": {
        "id": "0C79zrtsQcnF",
        "colab": {
          "base_uri": "https://localhost:8080/"
        },
        "outputId": "b31a7bad-a185-410a-f114-12519834e0a6"
      },
      "source": [
        "F = lambda n : F(n-1) + F(n-2) if n > 2 else 1\r\n",
        "R = [F(n) for n in range(1,10)]\r\n",
        "print(R) #[1, 1, 2, 3, 5, 8, 13, 21, 34]"
      ],
      "execution_count": 261,
      "outputs": [
        {
          "output_type": "stream",
          "text": [
            "[1, 1, 2, 3, 5, 8, 13, 21, 34]\n"
          ],
          "name": "stdout"
        }
      ]
    },
    {
      "cell_type": "code",
      "metadata": {
        "id": "eYPsgVaBQ71_",
        "colab": {
          "base_uri": "https://localhost:8080/"
        },
        "outputId": "fec8364b-ee9b-4086-cc5c-b6db92b2ec4b"
      },
      "source": [
        "A = lambda x : x * 2\r\n",
        "B = lambda x : x * 3\r\n",
        "C = lambda x : x * 4\r\n",
        "D = lambda x : x * 5\r\n",
        "\r\n",
        "L = [A,B,C,D]\r\n",
        "\r\n",
        "for f in L:\r\n",
        "  print(f(2))"
      ],
      "execution_count": 262,
      "outputs": [
        {
          "output_type": "stream",
          "text": [
            "4\n",
            "6\n",
            "8\n",
            "10\n"
          ],
          "name": "stdout"
        }
      ]
    },
    {
      "cell_type": "code",
      "metadata": {
        "id": "4DGzMdEWRPLc",
        "colab": {
          "base_uri": "https://localhost:8080/"
        },
        "outputId": "c2500431-b4b5-42a5-9c09-92ae3f5a7379"
      },
      "source": [
        "F = lambda n : [f(n) for f in L]\r\n",
        "F(2)"
      ],
      "execution_count": 263,
      "outputs": [
        {
          "output_type": "execute_result",
          "data": {
            "text/plain": [
              "[4, 6, 8, 10]"
            ]
          },
          "metadata": {
            "tags": []
          },
          "execution_count": 263
        }
      ]
    },
    {
      "cell_type": "markdown",
      "metadata": {
        "id": "JyeOM6MxROcc"
      },
      "source": [
        "- <스스로>48페이지 예제 해보기"
      ]
    },
    {
      "cell_type": "code",
      "metadata": {
        "id": "1ZMZbIUBKGs8"
      },
      "source": [
        "# 48페이지 예제 해보기\r\n",
        "\r\n",
        "def process(string,code):\r\n",
        "  func_dict = { 'U':lambda x:x.upper(),\r\n",
        "               'L':lambda x:x.lower(),\r\n",
        "               'C':lambda x:x.capitalize()}\r\n",
        "  F = func_dict[code]\r\n",
        "  return F(string)"
      ],
      "execution_count": 264,
      "outputs": []
    },
    {
      "cell_type": "code",
      "metadata": {
        "id": "fHKSBH6oKmql"
      },
      "source": [
        "def process(string,code):\r\n",
        "  return { 'U':lambda x:x.upper(),\r\n",
        "          'L':lambda x:x.lower(),\r\n",
        "          'C':lambda x:x.capitalize()\r\n",
        "         } [code](string)"
      ],
      "execution_count": 265,
      "outputs": []
    },
    {
      "cell_type": "code",
      "metadata": {
        "colab": {
          "base_uri": "https://localhost:8080/",
          "height": 35
        },
        "id": "82sBZ2hiK34x",
        "outputId": "4334f847-7bc9-4278-d095-8df9c560a97e"
      },
      "source": [
        "process('hello', 'U')"
      ],
      "execution_count": 266,
      "outputs": [
        {
          "output_type": "execute_result",
          "data": {
            "application/vnd.google.colaboratory.intrinsic+json": {
              "type": "string"
            },
            "text/plain": [
              "'HELLO'"
            ]
          },
          "metadata": {
            "tags": []
          },
          "execution_count": 266
        }
      ]
    },
    {
      "cell_type": "code",
      "metadata": {
        "colab": {
          "base_uri": "https://localhost:8080/",
          "height": 35
        },
        "id": "St_P7Pw_K-BY",
        "outputId": "278380dd-f34f-4ba6-80a3-cafd4101eb5e"
      },
      "source": [
        "process('Hello','L')"
      ],
      "execution_count": 267,
      "outputs": [
        {
          "output_type": "execute_result",
          "data": {
            "application/vnd.google.colaboratory.intrinsic+json": {
              "type": "string"
            },
            "text/plain": [
              "'hello'"
            ]
          },
          "metadata": {
            "tags": []
          },
          "execution_count": 267
        }
      ]
    },
    {
      "cell_type": "code",
      "metadata": {
        "colab": {
          "base_uri": "https://localhost:8080/",
          "height": 35
        },
        "id": "pS3br4V-LBff",
        "outputId": "ef250027-71e6-4779-d85e-7bec275ca788"
      },
      "source": [
        "process('hello','C')"
      ],
      "execution_count": 268,
      "outputs": [
        {
          "output_type": "execute_result",
          "data": {
            "application/vnd.google.colaboratory.intrinsic+json": {
              "type": "string"
            },
            "text/plain": [
              "'Hello'"
            ]
          },
          "metadata": {
            "tags": []
          },
          "execution_count": 268
        }
      ]
    },
    {
      "cell_type": "markdown",
      "metadata": {
        "id": "Bz_p6rPdTD2K"
      },
      "source": [
        "**8. \\***args 와 \\****kwargs 이용한 람다**\r\n",
        "- *args 표현식  \r\n",
        ": 함수의 매개변수 * 문자는 임의의 복수의 매개변수가 오는 것으로 정의\r\n",
        "- ***kwargs 표현식  \r\n",
        ": 함수의 매개변수에 ** 문자는 임의의 key=value 형태의 복수의 매개변수가 오는 것으로 정의\r\n"
      ]
    },
    {
      "cell_type": "code",
      "metadata": {
        "id": "kmOsR7JMTx-_",
        "colab": {
          "base_uri": "https://localhost:8080/",
          "height": 35
        },
        "outputId": "08f87ddf-65b3-46b7-dd1c-615c6232d577"
      },
      "source": [
        "F = lambda * x : ''.join(x) # 문자열을 붙여주는 함수\r\n",
        "F('파이썬', '코딩', '쉽네') # '파이썬코딩쉽네'"
      ],
      "execution_count": 269,
      "outputs": [
        {
          "output_type": "execute_result",
          "data": {
            "application/vnd.google.colaboratory.intrinsic+json": {
              "type": "string"
            },
            "text/plain": [
              "'파이썬코딩쉽네'"
            ]
          },
          "metadata": {
            "tags": []
          },
          "execution_count": 269
        }
      ]
    },
    {
      "cell_type": "code",
      "metadata": {
        "id": "krOjP8OZUBT-",
        "colab": {
          "base_uri": "https://localhost:8080/"
        },
        "outputId": "7f28a93e-4bf6-4888-f137-72a6d9621b7e"
      },
      "source": [
        "F = lambda **x : [(v,k) for k, v in x.items()] #key, value를 서로 바꿔서 dictionary 생성\r\n",
        "D = F(A='파이썬', B='코딩', C='쉽네') #dict 생성 (A, '파이썬') -> ('파이썬', A)\r\n",
        "print(D)\r\n",
        "\r\n",
        "D = dict(D)\r\n",
        "print(D['파이썬'])\r\n"
      ],
      "execution_count": 270,
      "outputs": [
        {
          "output_type": "stream",
          "text": [
            "[('파이썬', 'A'), ('코딩', 'B'), ('쉽네', 'C')]\n",
            "A\n"
          ],
          "name": "stdout"
        }
      ]
    },
    {
      "cell_type": "markdown",
      "metadata": {
        "id": "SrhsIPhUXGi_"
      },
      "source": [
        "\r\n",
        "\r\n",
        "---\r\n",
        "\r\n"
      ]
    },
    {
      "cell_type": "code",
      "metadata": {
        "id": "seFUZvfQWVXB"
      },
      "source": [
        "F = lambda **x : sum(x['data']) if 'type' in x and x['type'] == 'sum' else 0"
      ],
      "execution_count": 271,
      "outputs": []
    },
    {
      "cell_type": "code",
      "metadata": {
        "id": "b4dtmR0nWgYC",
        "colab": {
          "base_uri": "https://localhost:8080/"
        },
        "outputId": "44d03dd9-b06a-4011-f711-7991be4292b4"
      },
      "source": [
        "F(type='sum', data=[1,2,3,4])"
      ],
      "execution_count": 272,
      "outputs": [
        {
          "output_type": "execute_result",
          "data": {
            "text/plain": [
              "10"
            ]
          },
          "metadata": {
            "tags": []
          },
          "execution_count": 272
        }
      ]
    },
    {
      "cell_type": "code",
      "metadata": {
        "id": "Otxl5b5bW8d9",
        "colab": {
          "base_uri": "https://localhost:8080/"
        },
        "outputId": "51610138-2b65-40f1-ce67-defcf666a8f3"
      },
      "source": [
        "F(data=[1,2,3,4,5])"
      ],
      "execution_count": 273,
      "outputs": [
        {
          "output_type": "execute_result",
          "data": {
            "text/plain": [
              "0"
            ]
          },
          "metadata": {
            "tags": []
          },
          "execution_count": 273
        }
      ]
    },
    {
      "cell_type": "code",
      "metadata": {
        "id": "3kYxqB_kW-SZ",
        "colab": {
          "base_uri": "https://localhost:8080/"
        },
        "outputId": "da125233-bd27-4428-8986-c74786709199"
      },
      "source": [
        "F(type='mul', data=[1,2,3,4,5])"
      ],
      "execution_count": 274,
      "outputs": [
        {
          "output_type": "execute_result",
          "data": {
            "text/plain": [
              "0"
            ]
          },
          "metadata": {
            "tags": []
          },
          "execution_count": 274
        }
      ]
    },
    {
      "cell_type": "markdown",
      "metadata": {
        "id": "x8-FAeaaXI-V"
      },
      "source": [
        "**9. 파일 입출력**"
      ]
    },
    {
      "cell_type": "markdown",
      "metadata": {
        "id": "OLHXVRBwXV5m"
      },
      "source": [
        "- student 파일 읽기 예제"
      ]
    },
    {
      "cell_type": "code",
      "metadata": {
        "colab": {
          "base_uri": "https://localhost:8080/",
          "height": 35
        },
        "id": "8Cc95F4jlAYX",
        "outputId": "f337d67a-4796-4e9f-956c-989194b7fa2e"
      },
      "source": [
        "pwd"
      ],
      "execution_count": 275,
      "outputs": [
        {
          "output_type": "execute_result",
          "data": {
            "application/vnd.google.colaboratory.intrinsic+json": {
              "type": "string"
            },
            "text/plain": [
              "'/content/sample_data'"
            ]
          },
          "metadata": {
            "tags": []
          },
          "execution_count": 275
        }
      ]
    },
    {
      "cell_type": "code",
      "metadata": {
        "colab": {
          "base_uri": "https://localhost:8080/"
        },
        "id": "UlXpxIJElDzh",
        "outputId": "33e2e650-b2b9-47ca-d11a-3cd8054746c0"
      },
      "source": [
        "ls"
      ],
      "execution_count": 276,
      "outputs": [
        {
          "output_type": "stream",
          "text": [
            "행정구역_시군구_시계열_인구변화\n",
            "행정구역_시군구_별__성별_인구수_2011_2020\n",
            "일별평균대기오염도_2018.csv\n",
            "\u001b[0m\u001b[01;32manscombe.json\u001b[0m*\n",
            "california_housing_test.csv\n",
            "california_housing_train.csv\n",
            "covid19_patient\n",
            "fiction_kor-1.txt\n",
            "LGU_190530_200729\n",
            "mnist_test.csv\n",
            "mnist_train_small.csv\n",
            "msg_code\n",
            "\u001b[01;32mREADME.md\u001b[0m*\n",
            "seoul-district.svg\n",
            "seoul_people_report\n",
            "south-korea.svg\n",
            "student\n",
            "student_exam_result\n",
            "titanic.csv\n",
            "trns_1day_series\n",
            "trns_time_series.txt\n",
            "twitter.png\n",
            "visa-innovations-for-a-cashless-world-2017-report.pdf\n"
          ],
          "name": "stdout"
        }
      ]
    },
    {
      "cell_type": "code",
      "metadata": {
        "id": "mQYS6QOCXBBh",
        "outputId": "cf9315b8-7f6a-467e-f321-bed766868ffa",
        "colab": {
          "base_uri": "https://localhost:8080/"
        }
      },
      "source": [
        "cd sample_data/"
      ],
      "execution_count": 279,
      "outputs": [
        {
          "output_type": "stream",
          "text": [
            "[Errno 2] No such file or directory: 'sample_data'\n",
            "/content/sample_data\n"
          ],
          "name": "stdout"
        }
      ]
    },
    {
      "cell_type": "code",
      "metadata": {
        "id": "5TJNq7EEX1gg",
        "colab": {
          "base_uri": "https://localhost:8080/",
          "height": 186
        },
        "outputId": "07add466-dc5c-4398-a153-476802208207"
      },
      "source": [
        "with open('student.txt', 'r', encoding='euc-kr') as fr:\r\n",
        "  print(fr.readline())"
      ],
      "execution_count": 280,
      "outputs": [
        {
          "output_type": "error",
          "ename": "FileNotFoundError",
          "evalue": "ignored",
          "traceback": [
            "\u001b[0;31m---------------------------------------------------------------------------\u001b[0m",
            "\u001b[0;31mFileNotFoundError\u001b[0m                         Traceback (most recent call last)",
            "\u001b[0;32m<ipython-input-280-4b28c99f2317>\u001b[0m in \u001b[0;36m<module>\u001b[0;34m()\u001b[0m\n\u001b[0;32m----> 1\u001b[0;31m \u001b[0;32mwith\u001b[0m \u001b[0mopen\u001b[0m\u001b[0;34m(\u001b[0m\u001b[0;34m'student.txt'\u001b[0m\u001b[0;34m,\u001b[0m \u001b[0;34m'r'\u001b[0m\u001b[0;34m,\u001b[0m \u001b[0mencoding\u001b[0m\u001b[0;34m=\u001b[0m\u001b[0;34m'euc-kr'\u001b[0m\u001b[0;34m)\u001b[0m \u001b[0;32mas\u001b[0m \u001b[0mfr\u001b[0m\u001b[0;34m:\u001b[0m\u001b[0;34m\u001b[0m\u001b[0;34m\u001b[0m\u001b[0m\n\u001b[0m\u001b[1;32m      2\u001b[0m   \u001b[0mprint\u001b[0m\u001b[0;34m(\u001b[0m\u001b[0mfr\u001b[0m\u001b[0;34m.\u001b[0m\u001b[0mreadline\u001b[0m\u001b[0;34m(\u001b[0m\u001b[0;34m)\u001b[0m\u001b[0;34m)\u001b[0m\u001b[0;34m\u001b[0m\u001b[0;34m\u001b[0m\u001b[0m\n",
            "\u001b[0;31mFileNotFoundError\u001b[0m: [Errno 2] No such file or directory: 'student.txt'"
          ]
        }
      ]
    },
    {
      "cell_type": "markdown",
      "metadata": {
        "id": "KQEdEn4DY4sL"
      },
      "source": [
        "- 이름(첫 번째)를 제외한 **숫자 문자열**들만 추출"
      ]
    },
    {
      "cell_type": "code",
      "metadata": {
        "id": "NhsdIykmYGRl"
      },
      "source": [
        "F = lambda x : x.split(';')[1:]\r\n",
        "F('태서연;54;72;60;78')"
      ],
      "execution_count": null,
      "outputs": []
    },
    {
      "cell_type": "code",
      "metadata": {
        "id": "8naBCARtYwj0"
      },
      "source": [
        "F = lambda x : x.split(';')\r\n",
        "F('태서연;54;72;60;78')"
      ],
      "execution_count": null,
      "outputs": []
    },
    {
      "cell_type": "markdown",
      "metadata": {
        "id": "IWsNEPtXZB4v"
      },
      "source": [
        "- 입력 문자열을 숫자로만 추출하기(list comprehension)"
      ]
    },
    {
      "cell_type": "code",
      "metadata": {
        "id": "2LZvQBNDZFV2"
      },
      "source": [
        "F = lambda x : [int(i) for i in x.split(';')[1:]]\r\n",
        "F('태서연;54;72;60;78')"
      ],
      "execution_count": null,
      "outputs": []
    },
    {
      "cell_type": "markdown",
      "metadata": {
        "id": "xDAGircnZzzK"
      },
      "source": [
        "- 입력 문자열을 합계"
      ]
    },
    {
      "cell_type": "code",
      "metadata": {
        "id": "emVNFioGZRwr"
      },
      "source": [
        "F = lambda x : sum([int(i) for i in x.split(';')[1:]])\r\n",
        "F('태서연;54;72;60;78')"
      ],
      "execution_count": null,
      "outputs": []
    },
    {
      "cell_type": "markdown",
      "metadata": {
        "id": "lHWBaFnLZ-IY"
      },
      "source": [
        "- 이름, 과목별 점수 합계 리턴"
      ]
    },
    {
      "cell_type": "code",
      "metadata": {
        "id": "U-dfGaM8aAaq"
      },
      "source": [
        "F = lambda x : (x.split(';')[0], sum([int(i) for i in x.split(';')[1:]]))\r\n",
        "name, total = F('태서연;54;72;60;78')\r\n",
        "print(name, total)"
      ],
      "execution_count": null,
      "outputs": []
    },
    {
      "cell_type": "markdown",
      "metadata": {
        "id": "pXM_edmyaS7z"
      },
      "source": [
        "- 입력 문자열을 미리 split 하여서 리스트로 넘긴다고 가정"
      ]
    },
    {
      "cell_type": "code",
      "metadata": {
        "id": "TzXf_5Kya4bW"
      },
      "source": [
        "F = lambda L : [int(x) for x in L[1:]]\r\n",
        "F('태서연;54;72;60;78'.split(';'))"
      ],
      "execution_count": null,
      "outputs": []
    },
    {
      "cell_type": "markdown",
      "metadata": {
        "id": "y0PsavSPaYMg"
      },
      "source": [
        "- 이름, 점수 합계를 리턴하는 방법"
      ]
    },
    {
      "cell_type": "code",
      "metadata": {
        "id": "5JrhJUubbHx7"
      },
      "source": [
        "F = lambda L : (L[0], sum([int(x) for x in L[1:]]))\r\n",
        "\r\n",
        "name, total = F('태서연;54;72;60;78'.split(';'))\r\n",
        "\r\n",
        "print(name, total)"
      ],
      "execution_count": null,
      "outputs": []
    },
    {
      "cell_type": "markdown",
      "metadata": {
        "id": "uPZ8H3oHadjU"
      },
      "source": [
        "- 타입별(이름, 합계), (이름, 평균)을 나타내는 함수"
      ]
    },
    {
      "cell_type": "code",
      "metadata": {
        "id": "kIvesDZ6bXZR"
      },
      "source": [
        "F = lambda L, T : (L[0], sum([int(x) for x in L[1:]])) if T==\"sum\" else\\\r\n",
        "                  (L[0], sum([int(x) for x in L[1:]])/len(L[1:])) if T==\"avg\" else\\\r\n",
        "                  (L[0], None)\r\n",
        "name, value = F('태서연;54;72;60;78'.split(';'), \"sum\")\r\n",
        "print(name, value)"
      ],
      "execution_count": null,
      "outputs": []
    },
    {
      "cell_type": "code",
      "metadata": {
        "id": "UaUISnNhcCwg"
      },
      "source": [
        "name, value = F('태서연;54;72;60;78'.split(';'), \"avg\")\r\n",
        "print(name, value)"
      ],
      "execution_count": null,
      "outputs": []
    },
    {
      "cell_type": "code",
      "metadata": {
        "id": "AAtwXd57cIzV"
      },
      "source": [
        "name, value = F('태서연;54;72;60;78'.split(';'), \"mul\")\r\n",
        "print(name, value)"
      ],
      "execution_count": null,
      "outputs": []
    },
    {
      "cell_type": "markdown",
      "metadata": {
        "id": "BQ1uovT-pGgd"
      },
      "source": [
        "\r\n",
        "2월 14일\r\n",
        "---\r\n",
        "\r\n"
      ]
    },
    {
      "cell_type": "markdown",
      "metadata": {
        "id": "bTALua5hcQ7G"
      },
      "source": [
        "- 파일을 읽어서 이름;합계;평균을 내는 student_result 파일로 저장"
      ]
    },
    {
      "cell_type": "code",
      "metadata": {
        "id": "f0snxEL0cWAV"
      },
      "source": [
        "with open('student.txt', 'r', encoding='euc-kr') as fr, open('student_result.txt', 'w') as fw:\r\n",
        "  for line in fr:\r\n",
        "    name, total_sum = F(line.split(';'), 'sum')\r\n",
        "    name, total_avg = F(line.split(';'), 'avg')\r\n",
        "\r\n",
        "    #문자열 앞에 f를 붙이면 문자열 내부에 {}를 이용하여 변수를 바인딩 할 수 있음.  f-string\r\n",
        "    result = f\"{name};{total_sum};{total_avg}\\n\"\r\n",
        "    fw.write(result)"
      ],
      "execution_count": null,
      "outputs": []
    },
    {
      "cell_type": "markdown",
      "metadata": {
        "id": "Krp1HvKgdKj0"
      },
      "source": [
        "- student_result 파일에 저장된 내용 확인"
      ]
    },
    {
      "cell_type": "code",
      "metadata": {
        "id": "K1jopXfPc8uu"
      },
      "source": [
        "with open('student_result.txt') as fr:\r\n",
        "  print(fr.readline())\r\n",
        "  print(fr.readline())\r\n",
        "  print(fr.readline())"
      ],
      "execution_count": null,
      "outputs": []
    },
    {
      "cell_type": "markdown",
      "metadata": {
        "id": "qhaeKDXidcgA"
      },
      "source": [
        "**10. 데이터를 json파일/텍스트로 변환**"
      ]
    },
    {
      "cell_type": "code",
      "metadata": {
        "id": "qiN_zYzrdscw"
      },
      "source": [
        "import json\r\n",
        "person_dict = {}\r\n",
        "\r\n",
        "with open('student.txt', 'r', encoding='euc-kr') as fr:\r\n",
        "  for line in fr:\r\n",
        "    data = line.strip().split(';') #불필요 공백 제거 후 문자로 문자열 분리\r\n",
        "    name = data[0]\r\n",
        "\r\n",
        "    # kor, eng, mat, sci = int(data[1]), int(data[2]), int(data[3]), int(data[4])\r\n",
        "    kor, eng, mat, sci = (int(x) for x in data[1:])\r\n",
        "    person_dict[name] = {'국어':kor, '영어':eng, '수학':mat, '과학':sci}\r\n",
        "\r\n",
        "with open('student_json', 'w') as fw:\r\n",
        "  json.dump(person_dict, fw, ensure_ascii=False, indent=4) #딕셔너리를 JSON으로 변환하여 파일로 저장\r\n",
        "\r\n",
        "json_data = json.dumps(person_dict)\r\n",
        "print(json_data)\r\n",
        "\r\n"
      ],
      "execution_count": null,
      "outputs": []
    },
    {
      "cell_type": "markdown",
      "metadata": {
        "id": "HcaBAZfofw04"
      },
      "source": [
        "**11. 파이썬 오브젝트를 json 텍스트로 변환**"
      ]
    },
    {
      "cell_type": "code",
      "metadata": {
        "id": "m32C18N9fbbX"
      },
      "source": [
        "import json\r\n",
        "person_dict = {}\r\n",
        "\r\n",
        "with open('student.txt','r',encoding='euc-kr') as fr:\r\n",
        "  for line in fr:\r\n",
        "    data = line.strip().split(';') #불필요 공백 제거 후 문자로 문자열 분리\r\n",
        "    name = data[0] #이름\r\n",
        "\r\n",
        "    # kor, eng, mat, sci = int(data[1]), int(data[2]), int(data[3]), int(data[4])\r\n",
        "    kor, eng, mat, sci = (int(x) for x in data[1:])\r\n",
        "    person_dict[name] = {'국어':kor, '영어':eng, '수학':mat, '과학':sci}\r\n",
        "\r\n",
        "json_data = json.dumps(person_dict, ensure_ascii=False, indent=4) #한글 보존, indent 추가\r\n",
        "print(json_data)"
      ],
      "execution_count": null,
      "outputs": []
    },
    {
      "cell_type": "markdown",
      "metadata": {
        "id": "O1mnAj-rf2vC"
      },
      "source": [
        "**12. json 텍스트를 파이썬 오브젝트로 변환**\r\n",
        " - ''.join( list ) : 리스트에서 문자열으로"
      ]
    },
    {
      "cell_type": "code",
      "metadata": {
        "id": "_elQ1GRYf8ct"
      },
      "source": [
        "with open('student_json', 'r', encoding=\"UTF-8-sig\") as fr:\r\n",
        "  json_data = json.load(fr) #파일에 저장된 JSON 텍스트를 파이썬 오브젝트로 변환\r\n",
        "print(json_data['태서연'])\r\n",
        "\r\n",
        "with open('student_json', 'r', encoding=\"UTF-8-sig\") as fr:\r\n",
        "  json_text = ''.join(fr.readlines())\r\n",
        "\r\n",
        "json_data = json.loads(json_text) #JSON 형태의 텍스트를 파이썬 오브젝트로 변환\r\n",
        "print(json_data[\"태서연\"])"
      ],
      "execution_count": null,
      "outputs": []
    },
    {
      "cell_type": "markdown",
      "metadata": {
        "id": "q1GZDlkzlo7v"
      },
      "source": [
        "**13. pickle 데이터 직렬화 저장 로딩**"
      ]
    },
    {
      "cell_type": "markdown",
      "metadata": {
        "id": "Tk-k51pim6LC"
      },
      "source": [
        "텍스트 상태의 데이터가 아닌 파이썬 객체 자체를 파일로 저장하는 것 입니다.\r\n",
        "\r\n",
        "\r\n",
        "\r\n",
        "\r\n",
        "\r\n",
        "**그러면 무엇이 좋나요?**\r\n",
        "\r\n",
        "\r\n",
        "\r\n",
        "만약 우리가 10GB 짜리 raw text 파일을 파싱하여 필요한 부분을 빼내서 사용한다고 해봅시다\r\n",
        "\r\n",
        "\r\n",
        "\r\n",
        "raw text 에 있는 내용을 프로그램을 돌릴 때 마다 파싱하여 필요한 부분을 뺀다면 비효율 적이겠죠?\r\n",
        "\r\n",
        "\r\n",
        "\r\n",
        "그래서 미리 필요한 부분을 딕셔너리 던, 리스트 던, 튜플 이던 저장을 해놓는 것 입니다..\r\n",
        "\r\n",
        "\r\n",
        "\r\n",
        "근데 문자열이 아닌 객체를 파일에 쓸 수 없기에,\r\n",
        "\r\n",
        "\r\n",
        "\r\n",
        "pickle 모듈을 활용해 그 객체 자체를 바이너리로 저장하는 것 입니다 !! ㅎㅎ\r\n",
        "\r\n",
        "\r\n",
        "\r\n",
        "\r\n",
        "\r\n",
        "그럼 pickle 모듈로 저장된 파일을 그냥 불러오기만 하면 되기에 속도도 훨씬 빠르겠지요\r\n",
        "\r\n",
        "\r\n",
        "\r\n",
        "출처: https://korbillgates.tistory.com/173 [생물정보학자의 블로그]"
      ]
    },
    {
      "cell_type": "code",
      "metadata": {
        "id": "bM4b6QiAi7wC"
      },
      "source": [
        "import json\r\n",
        "import pickle\r\n",
        "\r\n",
        "with open ('student_json', 'r', encoding='UTF-8-sig') as fr:\r\n",
        "  json_data = json.load(fr)\r\n",
        "\r\n",
        "with open ('student_pickle', 'wb') as fw:\r\n",
        "  pickle.dump(json_data, fw)\r\n",
        "\r\n",
        "with open ('student_pickle', 'rb') as fr:\r\n",
        "  pickle_data = pickle.load(fr)\r\n",
        "\r\n",
        "print(pickle_data['태서연'])"
      ],
      "execution_count": null,
      "outputs": []
    },
    {
      "cell_type": "markdown",
      "metadata": {
        "id": "HeQfHuCknTGG"
      },
      "source": [
        "**<스스로>14. 서울시 인구 통계 분석(실습)**\r\n",
        "- seoul_people_report (CSV) 파일을 기반으로 구명을 key 값을 가지는 딕셔너리로 변경\r\n",
        "\r\n",
        "- 구별 '외국인 비율', '6 세이상고령자 비율' 을 계산 후 각각 key( 외국인비율 , 고령자비율에 저장"
      ]
    },
    {
      "cell_type": "code",
      "metadata": {
        "id": "Ele6jJHLXKm5",
        "outputId": "a0a2f5c5-aa42-4fd6-d13c-d995decc7d09",
        "colab": {
          "base_uri": "https://localhost:8080/"
        }
      },
      "source": [
        "import json\r\n",
        "\r\n",
        "with open('seoul_people_report', 'r' , encoding='UTF-8-sig') as fr:\r\n",
        "  raw_list = [ _.strip() for _ in fr.readlines() ] #라인별로 분할\r\n",
        "  raw_split = [_.split(',') for _ in raw_list ] #각 라인을 , 로 분할\r\n",
        "\r\n",
        "dict = {}\r\n",
        "count = 0\r\n",
        "\r\n",
        "for data in raw_split[1:]:\r\n",
        "\r\n",
        "  dict[data[0]] = {}\r\n",
        "  dict[data[0]] = {}\r\n",
        "\r\n",
        "  dict[data[0]]['외국인비율'] = int(data[4]) / int(data[1])\r\n",
        "  dict[data[0]]['고령자비율'] = int(data[5]) / int(data[1])\r\n",
        "\r\n",
        "for k, v in dict.items():\r\n",
        "  print(k, v)\r\n",
        "\r\n",
        "with open('seoul_people_json', 'w') as fw:\r\n",
        "  json.dump(dict, fw, ensure_ascii = False, indent=4)"
      ],
      "execution_count": 284,
      "outputs": [
        {
          "output_type": "stream",
          "text": [
            "합계 {'외국인비율': 0.02797404896312392, '고령자비율': 0.15161495942441722}\n",
            "종로구 {'외국인비율': 0.06646952785460293, '고령자비율': 0.17330724022125643}\n",
            "중구 {'외국인비율': 0.07543105027515407, '고령자비율': 0.17435461533388535}\n",
            "용산구 {'외국인비율': 0.06737757195377085, '고령자비율': 0.1602136778177239}\n",
            "성동구 {'외국인비율': 0.026533807736504413, '고령자비율': 0.14560227609353077}\n",
            "광진구 {'외국인비율': 0.04255034290554387, '고령자비율': 0.13385338397223967}\n",
            "동대문구 {'외국인비율': 0.04585810641329904, '고령자비율': 0.16639516197942078}\n",
            "중랑구 {'외국인비율': 0.012626098762597397, '고령자비율': 0.1666275662751636}\n",
            "성북구 {'외국인비율': 0.026484383937764557, '고령자비율': 0.1587830999797594}\n",
            "강북구 {'외국인비율': 0.011886345698500394, '고령자비율': 0.19466456195737963}\n",
            "도봉구 {'외국인비율': 0.006767717656936386, '고령자비율': 0.17998170887119747}\n",
            "노원구 {'외국인비율': 0.008325007703153158, '고령자비율': 0.15440293560163962}\n",
            "은평구 {'외국인비율': 0.009305525907288776, '고령자비율': 0.17045277911914597}\n",
            "서대문구 {'외국인비율': 0.04060759493670886, '고령자비율': 0.16275565784426543}\n",
            "마포구 {'외국인비율': 0.029827551374564217, '고령자비율': 0.13800811218225992}\n",
            "양천구 {'외국인비율': 0.009104687622141349, '고령자비율': 0.13627934649492326}\n",
            "강서구 {'외국인비율': 0.010745287500650492, '고령자비율': 0.14435381389719373}\n",
            "구로구 {'외국인비율': 0.07408260857661736, '고령자비율': 0.15384615384615385}\n",
            "금천구 {'외국인비율': 0.07473843338504993, '고령자비율': 0.15319250507220433}\n",
            "영등포구 {'외국인비율': 0.08119011972349456, '고령자비율': 0.1466847511895762}\n",
            "동작구 {'외국인비율': 0.03135835528025856, '고령자비율': 0.155413656627481}\n",
            "관악구 {'외국인비율': 0.033460947389202224, '고령자비율': 0.14838327571990972}\n",
            "서초구 {'외국인비율': 0.009735488188849612, '고령자비율': 0.13415792511976743}\n",
            "강남구 {'외국인비율': 0.00926353614670357, '고령자비율': 0.132028121578911}\n",
            "송파구 {'외국인비율': 0.009969407372485434, '고령자비율': 0.13150423787934198}\n",
            "강동구 {'외국인비율': 0.009618372053334268, '고령자비율': 0.14528424083563435}\n"
          ],
          "name": "stdout"
        }
      ]
    }
  ]
}