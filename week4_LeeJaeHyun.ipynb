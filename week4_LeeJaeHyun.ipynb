{
  "nbformat": 4,
  "nbformat_minor": 0,
  "metadata": {
    "colab": {
      "name": "week4_LeeJaeHyun",
      "provenance": [],
      "authorship_tag": "ABX9TyOZUYxiugKUJnDkM0k0dVDr",
      "include_colab_link": true
    },
    "kernelspec": {
      "name": "python3",
      "display_name": "Python 3"
    }
  },
  "cells": [
    {
      "cell_type": "markdown",
      "metadata": {
        "id": "view-in-github",
        "colab_type": "text"
      },
      "source": [
        "<a href=\"https://colab.research.google.com/github/SWeat-python-weekend-study/JaeHyunLee/blob/main/week4_LeeJaeHyun.ipynb\" target=\"_parent\"><img src=\"https://colab.research.google.com/assets/colab-badge.svg\" alt=\"Open In Colab\"/></a>"
      ]
    },
    {
      "cell_type": "markdown",
      "metadata": {
        "id": "NSY51krS4qsW"
      },
      "source": [
        "1. 하루 승인 거래 건수 분석"
      ]
    },
    {
      "cell_type": "code",
      "metadata": {
        "colab": {
          "base_uri": "https://localhost:8080/"
        },
        "id": "fAoFX1Lk42CS",
        "outputId": "fd22c08d-dd8e-475f-c779-95c9762b9ceb"
      },
      "source": [
        "cd sample_data/"
      ],
      "execution_count": 91,
      "outputs": [
        {
          "output_type": "stream",
          "text": [
            "[Errno 2] No such file or directory: 'sample_data/'\n",
            "/content/sample_data\n"
          ],
          "name": "stdout"
        }
      ]
    },
    {
      "cell_type": "code",
      "metadata": {
        "colab": {
          "base_uri": "https://localhost:8080/",
          "height": 35
        },
        "id": "Gg2j4JlT489w",
        "outputId": "d1d5aa72-1596-470e-b1be-5427db08c4bb"
      },
      "source": [
        "pwd"
      ],
      "execution_count": 92,
      "outputs": [
        {
          "output_type": "execute_result",
          "data": {
            "application/vnd.google.colaboratory.intrinsic+json": {
              "type": "string"
            },
            "text/plain": [
              "'/content/sample_data'"
            ]
          },
          "metadata": {
            "tags": []
          },
          "execution_count": 92
        }
      ]
    },
    {
      "cell_type": "code",
      "metadata": {
        "colab": {
          "base_uri": "https://localhost:8080/"
        },
        "id": "fXSTzBoF4-9Y",
        "outputId": "2d16b060-c3b7-497e-8ce8-49bee2ac684d"
      },
      "source": [
        "ls"
      ],
      "execution_count": 93,
      "outputs": [
        {
          "output_type": "stream",
          "text": [
            "행정구역_시군구_별__성별_인구수_2011_2020.csv  \u001b[0m\u001b[01;32mREADME.md\u001b[0m*\n",
            "\u001b[01;32manscombe.json\u001b[0m*                                 trns_1day_series.csv\n",
            "california_housing_test.csv                    trns_firm_info.csv\n",
            "california_housing_train.csv                   trns_msg_info.csv\n",
            "mnist_test.csv                                 trns_msg_log.csv\n",
            "mnist_train_small.csv                          trns_msg_resp_code_info.csv\n"
          ],
          "name": "stdout"
        }
      ]
    },
    {
      "cell_type": "code",
      "metadata": {
        "colab": {
          "base_uri": "https://localhost:8080/",
          "height": 194
        },
        "id": "JFVKHsQA4_oB",
        "outputId": "6eb1b499-1889-414e-d324-85ddc8ff7be0"
      },
      "source": [
        "import pandas as pd\r\n",
        "import numpy as np\r\n",
        "\r\n",
        "df = pd.read_csv('trns_1day_series.csv')\r\n",
        "df.head()"
      ],
      "execution_count": 94,
      "outputs": [
        {
          "output_type": "execute_result",
          "data": {
            "text/html": [
              "<div>\n",
              "<style scoped>\n",
              "    .dataframe tbody tr th:only-of-type {\n",
              "        vertical-align: middle;\n",
              "    }\n",
              "\n",
              "    .dataframe tbody tr th {\n",
              "        vertical-align: top;\n",
              "    }\n",
              "\n",
              "    .dataframe thead th {\n",
              "        text-align: right;\n",
              "    }\n",
              "</style>\n",
              "<table border=\"1\" class=\"dataframe\">\n",
              "  <thead>\n",
              "    <tr style=\"text-align: right;\">\n",
              "      <th></th>\n",
              "      <th>SEND</th>\n",
              "      <th>RECV</th>\n",
              "      <th>APPROVAL</th>\n",
              "      <th>REJECT</th>\n",
              "    </tr>\n",
              "  </thead>\n",
              "  <tbody>\n",
              "    <tr>\n",
              "      <th>0</th>\n",
              "      <td>4779</td>\n",
              "      <td>5045</td>\n",
              "      <td>4024</td>\n",
              "      <td>755</td>\n",
              "    </tr>\n",
              "    <tr>\n",
              "      <th>1</th>\n",
              "      <td>5103</td>\n",
              "      <td>5055</td>\n",
              "      <td>4196</td>\n",
              "      <td>907</td>\n",
              "    </tr>\n",
              "    <tr>\n",
              "      <th>2</th>\n",
              "      <td>5035</td>\n",
              "      <td>5073</td>\n",
              "      <td>4653</td>\n",
              "      <td>382</td>\n",
              "    </tr>\n",
              "    <tr>\n",
              "      <th>3</th>\n",
              "      <td>4757</td>\n",
              "      <td>4762</td>\n",
              "      <td>4530</td>\n",
              "      <td>227</td>\n",
              "    </tr>\n",
              "    <tr>\n",
              "      <th>4</th>\n",
              "      <td>4639</td>\n",
              "      <td>4664</td>\n",
              "      <td>4425</td>\n",
              "      <td>214</td>\n",
              "    </tr>\n",
              "  </tbody>\n",
              "</table>\n",
              "</div>"
            ],
            "text/plain": [
              "   SEND  RECV  APPROVAL  REJECT\n",
              "0  4779  5045      4024     755\n",
              "1  5103  5055      4196     907\n",
              "2  5035  5073      4653     382\n",
              "3  4757  4762      4530     227\n",
              "4  4639  4664      4425     214"
            ]
          },
          "metadata": {
            "tags": []
          },
          "execution_count": 94
        }
      ]
    },
    {
      "cell_type": "code",
      "metadata": {
        "colab": {
          "base_uri": "https://localhost:8080/",
          "height": 282
        },
        "id": "8uxdjML_5KwH",
        "outputId": "0f294207-317a-4ea7-aaa9-2a87745000ec"
      },
      "source": [
        "df.describe()"
      ],
      "execution_count": 95,
      "outputs": [
        {
          "output_type": "execute_result",
          "data": {
            "text/html": [
              "<div>\n",
              "<style scoped>\n",
              "    .dataframe tbody tr th:only-of-type {\n",
              "        vertical-align: middle;\n",
              "    }\n",
              "\n",
              "    .dataframe tbody tr th {\n",
              "        vertical-align: top;\n",
              "    }\n",
              "\n",
              "    .dataframe thead th {\n",
              "        text-align: right;\n",
              "    }\n",
              "</style>\n",
              "<table border=\"1\" class=\"dataframe\">\n",
              "  <thead>\n",
              "    <tr style=\"text-align: right;\">\n",
              "      <th></th>\n",
              "      <th>SEND</th>\n",
              "      <th>RECV</th>\n",
              "      <th>APPROVAL</th>\n",
              "      <th>REJECT</th>\n",
              "    </tr>\n",
              "  </thead>\n",
              "  <tbody>\n",
              "    <tr>\n",
              "      <th>count</th>\n",
              "      <td>1440.000000</td>\n",
              "      <td>1440.000000</td>\n",
              "      <td>1440.000000</td>\n",
              "      <td>1440.000000</td>\n",
              "    </tr>\n",
              "    <tr>\n",
              "      <th>mean</th>\n",
              "      <td>10274.082639</td>\n",
              "      <td>10274.831944</td>\n",
              "      <td>10062.034722</td>\n",
              "      <td>212.047917</td>\n",
              "    </tr>\n",
              "    <tr>\n",
              "      <th>std</th>\n",
              "      <td>6683.456958</td>\n",
              "      <td>6683.442065</td>\n",
              "      <td>6584.390468</td>\n",
              "      <td>135.078228</td>\n",
              "    </tr>\n",
              "    <tr>\n",
              "      <th>min</th>\n",
              "      <td>769.000000</td>\n",
              "      <td>769.000000</td>\n",
              "      <td>714.000000</td>\n",
              "      <td>16.000000</td>\n",
              "    </tr>\n",
              "    <tr>\n",
              "      <th>25%</th>\n",
              "      <td>3580.750000</td>\n",
              "      <td>3579.250000</td>\n",
              "      <td>3469.000000</td>\n",
              "      <td>84.000000</td>\n",
              "    </tr>\n",
              "    <tr>\n",
              "      <th>50%</th>\n",
              "      <td>11115.000000</td>\n",
              "      <td>11133.500000</td>\n",
              "      <td>10901.500000</td>\n",
              "      <td>210.500000</td>\n",
              "    </tr>\n",
              "    <tr>\n",
              "      <th>75%</th>\n",
              "      <td>15745.000000</td>\n",
              "      <td>15729.250000</td>\n",
              "      <td>15451.000000</td>\n",
              "      <td>305.000000</td>\n",
              "    </tr>\n",
              "    <tr>\n",
              "      <th>max</th>\n",
              "      <td>24859.000000</td>\n",
              "      <td>24911.000000</td>\n",
              "      <td>24565.000000</td>\n",
              "      <td>907.000000</td>\n",
              "    </tr>\n",
              "  </tbody>\n",
              "</table>\n",
              "</div>"
            ],
            "text/plain": [
              "               SEND          RECV      APPROVAL       REJECT\n",
              "count   1440.000000   1440.000000   1440.000000  1440.000000\n",
              "mean   10274.082639  10274.831944  10062.034722   212.047917\n",
              "std     6683.456958   6683.442065   6584.390468   135.078228\n",
              "min      769.000000    769.000000    714.000000    16.000000\n",
              "25%     3580.750000   3579.250000   3469.000000    84.000000\n",
              "50%    11115.000000  11133.500000  10901.500000   210.500000\n",
              "75%    15745.000000  15729.250000  15451.000000   305.000000\n",
              "max    24859.000000  24911.000000  24565.000000   907.000000"
            ]
          },
          "metadata": {
            "tags": []
          },
          "execution_count": 95
        }
      ]
    },
    {
      "cell_type": "code",
      "metadata": {
        "colab": {
          "base_uri": "https://localhost:8080/"
        },
        "id": "GDoE_a_P59fq",
        "outputId": "b75c4a01-212f-428e-f790-3e8eacdc27dc"
      },
      "source": [
        "len(df)"
      ],
      "execution_count": 96,
      "outputs": [
        {
          "output_type": "execute_result",
          "data": {
            "text/plain": [
              "1440"
            ]
          },
          "metadata": {
            "tags": []
          },
          "execution_count": 96
        }
      ]
    },
    {
      "cell_type": "code",
      "metadata": {
        "colab": {
          "base_uri": "https://localhost:8080/"
        },
        "id": "2OT0vrbA5-mE",
        "outputId": "d088bcf9-8c7e-49d2-d792-ed5356637266"
      },
      "source": [
        "pd.date_range('00:00', '23:59', freq = '1min')"
      ],
      "execution_count": 97,
      "outputs": [
        {
          "output_type": "execute_result",
          "data": {
            "text/plain": [
              "DatetimeIndex(['2021-03-08 00:00:00', '2021-03-08 00:01:00',\n",
              "               '2021-03-08 00:02:00', '2021-03-08 00:03:00',\n",
              "               '2021-03-08 00:04:00', '2021-03-08 00:05:00',\n",
              "               '2021-03-08 00:06:00', '2021-03-08 00:07:00',\n",
              "               '2021-03-08 00:08:00', '2021-03-08 00:09:00',\n",
              "               ...\n",
              "               '2021-03-08 23:50:00', '2021-03-08 23:51:00',\n",
              "               '2021-03-08 23:52:00', '2021-03-08 23:53:00',\n",
              "               '2021-03-08 23:54:00', '2021-03-08 23:55:00',\n",
              "               '2021-03-08 23:56:00', '2021-03-08 23:57:00',\n",
              "               '2021-03-08 23:58:00', '2021-03-08 23:59:00'],\n",
              "              dtype='datetime64[ns]', length=1440, freq='T')"
            ]
          },
          "metadata": {
            "tags": []
          },
          "execution_count": 97
        }
      ]
    },
    {
      "cell_type": "code",
      "metadata": {
        "colab": {
          "base_uri": "https://localhost:8080/",
          "height": 428
        },
        "id": "kWOdiVTw6DiF",
        "outputId": "acec8312-6893-466b-cf13-19d639409c5d"
      },
      "source": [
        "df['TIME'] = pd.date_range('00:00', '23:59', freq = '1min')\r\n",
        "df = df.set_index('TIME')\r\n",
        "df"
      ],
      "execution_count": 98,
      "outputs": [
        {
          "output_type": "execute_result",
          "data": {
            "text/html": [
              "<div>\n",
              "<style scoped>\n",
              "    .dataframe tbody tr th:only-of-type {\n",
              "        vertical-align: middle;\n",
              "    }\n",
              "\n",
              "    .dataframe tbody tr th {\n",
              "        vertical-align: top;\n",
              "    }\n",
              "\n",
              "    .dataframe thead th {\n",
              "        text-align: right;\n",
              "    }\n",
              "</style>\n",
              "<table border=\"1\" class=\"dataframe\">\n",
              "  <thead>\n",
              "    <tr style=\"text-align: right;\">\n",
              "      <th></th>\n",
              "      <th>SEND</th>\n",
              "      <th>RECV</th>\n",
              "      <th>APPROVAL</th>\n",
              "      <th>REJECT</th>\n",
              "    </tr>\n",
              "    <tr>\n",
              "      <th>TIME</th>\n",
              "      <th></th>\n",
              "      <th></th>\n",
              "      <th></th>\n",
              "      <th></th>\n",
              "    </tr>\n",
              "  </thead>\n",
              "  <tbody>\n",
              "    <tr>\n",
              "      <th>2021-03-08 00:00:00</th>\n",
              "      <td>4779</td>\n",
              "      <td>5045</td>\n",
              "      <td>4024</td>\n",
              "      <td>755</td>\n",
              "    </tr>\n",
              "    <tr>\n",
              "      <th>2021-03-08 00:01:00</th>\n",
              "      <td>5103</td>\n",
              "      <td>5055</td>\n",
              "      <td>4196</td>\n",
              "      <td>907</td>\n",
              "    </tr>\n",
              "    <tr>\n",
              "      <th>2021-03-08 00:02:00</th>\n",
              "      <td>5035</td>\n",
              "      <td>5073</td>\n",
              "      <td>4653</td>\n",
              "      <td>382</td>\n",
              "    </tr>\n",
              "    <tr>\n",
              "      <th>2021-03-08 00:03:00</th>\n",
              "      <td>4757</td>\n",
              "      <td>4762</td>\n",
              "      <td>4530</td>\n",
              "      <td>227</td>\n",
              "    </tr>\n",
              "    <tr>\n",
              "      <th>2021-03-08 00:04:00</th>\n",
              "      <td>4639</td>\n",
              "      <td>4664</td>\n",
              "      <td>4425</td>\n",
              "      <td>214</td>\n",
              "    </tr>\n",
              "    <tr>\n",
              "      <th>...</th>\n",
              "      <td>...</td>\n",
              "      <td>...</td>\n",
              "      <td>...</td>\n",
              "      <td>...</td>\n",
              "    </tr>\n",
              "    <tr>\n",
              "      <th>2021-03-08 23:55:00</th>\n",
              "      <td>5280</td>\n",
              "      <td>5269</td>\n",
              "      <td>5110</td>\n",
              "      <td>170</td>\n",
              "    </tr>\n",
              "    <tr>\n",
              "      <th>2021-03-08 23:56:00</th>\n",
              "      <td>5202</td>\n",
              "      <td>5210</td>\n",
              "      <td>5056</td>\n",
              "      <td>146</td>\n",
              "    </tr>\n",
              "    <tr>\n",
              "      <th>2021-03-08 23:57:00</th>\n",
              "      <td>5210</td>\n",
              "      <td>5221</td>\n",
              "      <td>5006</td>\n",
              "      <td>204</td>\n",
              "    </tr>\n",
              "    <tr>\n",
              "      <th>2021-03-08 23:58:00</th>\n",
              "      <td>5111</td>\n",
              "      <td>5097</td>\n",
              "      <td>4935</td>\n",
              "      <td>176</td>\n",
              "    </tr>\n",
              "    <tr>\n",
              "      <th>2021-03-08 23:59:00</th>\n",
              "      <td>5202</td>\n",
              "      <td>5199</td>\n",
              "      <td>4940</td>\n",
              "      <td>262</td>\n",
              "    </tr>\n",
              "  </tbody>\n",
              "</table>\n",
              "<p>1440 rows × 4 columns</p>\n",
              "</div>"
            ],
            "text/plain": [
              "                     SEND  RECV  APPROVAL  REJECT\n",
              "TIME                                             \n",
              "2021-03-08 00:00:00  4779  5045      4024     755\n",
              "2021-03-08 00:01:00  5103  5055      4196     907\n",
              "2021-03-08 00:02:00  5035  5073      4653     382\n",
              "2021-03-08 00:03:00  4757  4762      4530     227\n",
              "2021-03-08 00:04:00  4639  4664      4425     214\n",
              "...                   ...   ...       ...     ...\n",
              "2021-03-08 23:55:00  5280  5269      5110     170\n",
              "2021-03-08 23:56:00  5202  5210      5056     146\n",
              "2021-03-08 23:57:00  5210  5221      5006     204\n",
              "2021-03-08 23:58:00  5111  5097      4935     176\n",
              "2021-03-08 23:59:00  5202  5199      4940     262\n",
              "\n",
              "[1440 rows x 4 columns]"
            ]
          },
          "metadata": {
            "tags": []
          },
          "execution_count": 98
        }
      ]
    },
    {
      "cell_type": "code",
      "metadata": {
        "colab": {
          "base_uri": "https://localhost:8080/",
          "height": 573
        },
        "id": "8Hu10ppk6NX2",
        "outputId": "62175f51-c341-4ce8-8238-184449461a08"
      },
      "source": [
        "df['GAP'] = np.abs(df.SEND - df.RECV)\r\n",
        "df.plot(y = 'GAP')"
      ],
      "execution_count": 99,
      "outputs": [
        {
          "output_type": "execute_result",
          "data": {
            "text/plain": [
              "<matplotlib.axes._subplots.AxesSubplot at 0x7f30da256dd0>"
            ]
          },
          "metadata": {
            "tags": []
          },
          "execution_count": 99
        },
        {
          "output_type": "stream",
          "text": [
            "findfont: Font family ['sans-serif'] not found. Falling back to DejaVu Sans.\n",
            "findfont: Font family ['sans-serif'] not found. Falling back to DejaVu Sans.\n"
          ],
          "name": "stderr"
        },
        {
          "output_type": "display_data",
          "data": {
            "image/png": "[encoded data removed]",
            "text/plain": [
              "<Figure size 1080x720 with 1 Axes>"
            ]
          },
          "metadata": {
            "tags": [],
            "needs_background": "light"
          }
        }
      ]
    },
    {
      "cell_type": "code",
      "metadata": {
        "colab": {
          "base_uri": "https://localhost:8080/",
          "height": 533
        },
        "id": "Ge6sqjFA6bJF",
        "outputId": "029832d9-e329-4682-ceea-fc2ed1844490"
      },
      "source": [
        "df['REJECT_AVG'] = df.REJECT / (df.APPROVAL + df.REJECT) * 100\r\n",
        "df.plot(y = 'REJECT_AVG')"
      ],
      "execution_count": 100,
      "outputs": [
        {
          "output_type": "execute_result",
          "data": {
            "text/plain": [
              "<matplotlib.axes._subplots.AxesSubplot at 0x7f30da1db410>"
            ]
          },
          "metadata": {
            "tags": []
          },
          "execution_count": 100
        },
        {
          "output_type": "display_data",
          "data": {
            "image/png": "[encoded data removed]",
            "text/plain": [
              "<Figure size 1080x720 with 1 Axes>"
            ]
          },
          "metadata": {
            "tags": [],
            "needs_background": "light"
          }
        }
      ]
    },
    {
      "cell_type": "code",
      "metadata": {
        "colab": {
          "base_uri": "https://localhost:8080/"
        },
        "id": "4hvVJoDu6nkN",
        "outputId": "10eb634a-a69f-4ba1-8303-95c4d5557fd3"
      },
      "source": [
        "len(df)"
      ],
      "execution_count": 101,
      "outputs": [
        {
          "output_type": "execute_result",
          "data": {
            "text/plain": [
              "1440"
            ]
          },
          "metadata": {
            "tags": []
          },
          "execution_count": 101
        }
      ]
    },
    {
      "cell_type": "code",
      "metadata": {
        "colab": {
          "base_uri": "https://localhost:8080/"
        },
        "id": "k7CGPWXR6oaV",
        "outputId": "40e50e38-5441-4c6f-c4a2-9acf0167ed6c"
      },
      "source": [
        "np.arange(0, len(df))"
      ],
      "execution_count": 102,
      "outputs": [
        {
          "output_type": "execute_result",
          "data": {
            "text/plain": [
              "array([   0,    1,    2, ..., 1437, 1438, 1439])"
            ]
          },
          "metadata": {
            "tags": []
          },
          "execution_count": 102
        }
      ]
    },
    {
      "cell_type": "code",
      "metadata": {
        "colab": {
          "base_uri": "https://localhost:8080/"
        },
        "id": "mMGYXSOo6qAo",
        "outputId": "88e72a87-80d3-4258-d163-ef595033a760"
      },
      "source": [
        "np.array(df.APPROVAL)"
      ],
      "execution_count": 103,
      "outputs": [
        {
          "output_type": "execute_result",
          "data": {
            "text/plain": [
              "array([4024, 4196, 4653, ..., 5006, 4935, 4940])"
            ]
          },
          "metadata": {
            "tags": []
          },
          "execution_count": 103
        }
      ]
    },
    {
      "cell_type": "code",
      "metadata": {
        "colab": {
          "base_uri": "https://localhost:8080/",
          "height": 528
        },
        "id": "Z2YYlYiP6r_s",
        "outputId": "fd4cca7b-573b-468b-e438-4bf685996604"
      },
      "source": [
        "fp = np.polyfit(np.arange(0, len(df)), np.array(df.APPROVAL), 8)\r\n",
        "fd = np.poly1d(fp)\r\n",
        "df['REGRESSION'] = fd(np.arange(0, len(df)))\r\n",
        "df.plot(y = ['APPROVAL', 'REGRESSION'])"
      ],
      "execution_count": 104,
      "outputs": [
        {
          "output_type": "execute_result",
          "data": {
            "text/plain": [
              "<matplotlib.axes._subplots.AxesSubplot at 0x7f30d9173b50>"
            ]
          },
          "metadata": {
            "tags": []
          },
          "execution_count": 104
        },
        {
          "output_type": "display_data",
          "data": {
            "image/png": "[encoded data removed]",
            "text/plain": [
              "<Figure size 1080x720 with 1 Axes>"
            ]
          },
          "metadata": {
            "tags": [],
            "needs_background": "light"
          }
        }
      ]
    },
    {
      "cell_type": "code",
      "metadata": {
        "colab": {
          "base_uri": "https://localhost:8080/"
        },
        "id": "xcwmJcHZ6_Zy",
        "outputId": "97ab48d3-0ab0-45a1-84ee-09f2a3601f0e"
      },
      "source": [
        "((df.APPROVAL - df.REGRESSION) ** 2).sum() / 1440"
      ],
      "execution_count": 105,
      "outputs": [
        {
          "output_type": "execute_result",
          "data": {
            "text/plain": [
              "2289273.532760827"
            ]
          },
          "metadata": {
            "tags": []
          },
          "execution_count": 105
        }
      ]
    },
    {
      "cell_type": "code",
      "metadata": {
        "colab": {
          "base_uri": "https://localhost:8080/"
        },
        "id": "ANwLTjzS7G6_",
        "outputId": "d88c7313-57ee-4e22-f394-8a7c5203bc0a"
      },
      "source": [
        "((df.APPROVAL - df.REGRESSION) ** 2).mean() / 1440"
      ],
      "execution_count": 106,
      "outputs": [
        {
          "output_type": "execute_result",
          "data": {
            "text/plain": [
              "1589.7732866394638"
            ]
          },
          "metadata": {
            "tags": []
          },
          "execution_count": 106
        }
      ]
    },
    {
      "cell_type": "code",
      "metadata": {
        "colab": {
          "base_uri": "https://localhost:8080/"
        },
        "id": "9gCMVg6A7LVd",
        "outputId": "3f0c38ed-05cf-447c-d947-8202572ae28f"
      },
      "source": [
        "mse = ((df.APPROVAL - df.REGRESSION) **2).mean()\r\n",
        "rmse = np.sqrt(mse)\r\n",
        "rmse, mse"
      ],
      "execution_count": 107,
      "outputs": [
        {
          "output_type": "execute_result",
          "data": {
            "text/plain": [
              "(1513.0345444704255, 2289273.532760828)"
            ]
          },
          "metadata": {
            "tags": []
          },
          "execution_count": 107
        }
      ]
    },
    {
      "cell_type": "code",
      "metadata": {
        "id": "auNQaVt97f3V"
      },
      "source": [
        "hh_list = np.array( df.APPROVAL ).reshape(24, 60) "
      ],
      "execution_count": 108,
      "outputs": []
    },
    {
      "cell_type": "code",
      "metadata": {
        "colab": {
          "base_uri": "https://localhost:8080/"
        },
        "id": "gBtB4GvT7hj9",
        "outputId": "7029cc89-c217-464c-b3bb-76866811970b"
      },
      "source": [
        "hh_list.shape"
      ],
      "execution_count": 109,
      "outputs": [
        {
          "output_type": "execute_result",
          "data": {
            "text/plain": [
              "(24, 60)"
            ]
          },
          "metadata": {
            "tags": []
          },
          "execution_count": 109
        }
      ]
    },
    {
      "cell_type": "code",
      "metadata": {
        "colab": {
          "base_uri": "https://localhost:8080/",
          "height": 528
        },
        "id": "OPGxSGHS7jSz",
        "outputId": "d06acc1a-0535-4688-a456-6632cc584718"
      },
      "source": [
        "reg_list = []\r\n",
        "for mm_list in hh_list: \r\n",
        "  x = np.arange(0, 60) \r\n",
        "  y = mm_list \r\n",
        "  fp = np.polyfit(x, y, 4)\r\n",
        "  fn = np.poly1d(fp)\r\n",
        "  reg_list.append(fn(x)) \r\n",
        "\r\n",
        "df['REGRESSION_H'] = np.array(reg_list).flatten()\r\n",
        "df.plot(y=['REGRESSION', 'REGRESSION_H'])"
      ],
      "execution_count": 110,
      "outputs": [
        {
          "output_type": "execute_result",
          "data": {
            "text/plain": [
              "<matplotlib.axes._subplots.AxesSubplot at 0x7f30d886ab90>"
            ]
          },
          "metadata": {
            "tags": []
          },
          "execution_count": 110
        },
        {
          "output_type": "display_data",
          "data": {
            "image/png": "[encoded data removed]",
            "text/plain": [
              "<Figure size 1080x720 with 1 Axes>"
            ]
          },
          "metadata": {
            "tags": [],
            "needs_background": "light"
          }
        }
      ]
    },
    {
      "cell_type": "markdown",
      "metadata": {
        "id": "ztq2XTKh7ux-"
      },
      "source": [
        "2. 전문 거래 로그 분석"
      ]
    },
    {
      "cell_type": "code",
      "metadata": {
        "id": "f_tdYDm67trr"
      },
      "source": [
        "log_df = pd.read_csv('trns_msg_log.csv', sep=':', dtype=str)"
      ],
      "execution_count": 111,
      "outputs": []
    },
    {
      "cell_type": "code",
      "metadata": {
        "id": "e38fBXDd8Dmn"
      },
      "source": [
        "msg_df = pd.read_csv('trns_msg_info.csv', dtype=str)"
      ],
      "execution_count": 112,
      "outputs": []
    },
    {
      "cell_type": "code",
      "metadata": {
        "id": "8JX8ZfG-86OV"
      },
      "source": [
        "firm_df = pd.read_csv('trns_firm_info.csv', dtype=str)"
      ],
      "execution_count": 113,
      "outputs": []
    },
    {
      "cell_type": "code",
      "metadata": {
        "id": "hfKQy8Yu9MYE"
      },
      "source": [
        "resp_df = pd.read_csv('trns_msg_resp_code_info.csv', dtype=str)"
      ],
      "execution_count": 114,
      "outputs": []
    },
    {
      "cell_type": "code",
      "metadata": {
        "id": "_aovkWnQ9OcN"
      },
      "source": [
        "tf1 = pd.merge(log_df, msg_df, on=['MSG_CODE'], how='left')\r\n",
        "tf2 = pd.merge(tf1 , firm_df, on=['FIRM_CODE'], how='left')\r\n",
        "tf3 = pd.merge(tf2 , resp_df, on=['RESP_CODE'], how='left') "
      ],
      "execution_count": 115,
      "outputs": []
    },
    {
      "cell_type": "code",
      "metadata": {
        "id": "IRmHP-YQ9Svz"
      },
      "source": [
        "tf3.loc[tf3.TRNS == '1', 'TRNS'] = 'SEND'\r\n",
        "tf3.loc[tf3.TRNS == '2', 'TRNS'] = 'RECV'"
      ],
      "execution_count": 116,
      "outputs": []
    },
    {
      "cell_type": "code",
      "metadata": {
        "colab": {
          "base_uri": "https://localhost:8080/",
          "height": 419
        },
        "id": "cuzub9WQ9V04",
        "outputId": "2178795e-940c-446d-cfd0-96dbf10fdd0b"
      },
      "source": [
        "send_df = log_df[log_df.TRNS=='1']\r\n",
        "recv_df = log_df[log_df.TRNS =='2']\r\n",
        "\r\n",
        "tf = pd.merge(send_df, recv_df, on=['FIRM_CODE', 'SEQ'], how='outer')\r\n",
        "tf"
      ],
      "execution_count": 117,
      "outputs": [
        {
          "output_type": "execute_result",
          "data": {
            "text/html": [
              "<div>\n",
              "<style scoped>\n",
              "    .dataframe tbody tr th:only-of-type {\n",
              "        vertical-align: middle;\n",
              "    }\n",
              "\n",
              "    .dataframe tbody tr th {\n",
              "        vertical-align: top;\n",
              "    }\n",
              "\n",
              "    .dataframe thead th {\n",
              "        text-align: right;\n",
              "    }\n",
              "</style>\n",
              "<table border=\"1\" class=\"dataframe\">\n",
              "  <thead>\n",
              "    <tr style=\"text-align: right;\">\n",
              "      <th></th>\n",
              "      <th>TRNS_x</th>\n",
              "      <th>MSG_CODE_x</th>\n",
              "      <th>TIME_x</th>\n",
              "      <th>RESP_CODE_x</th>\n",
              "      <th>FIRM_CODE</th>\n",
              "      <th>SEQ</th>\n",
              "      <th>TRNS_y</th>\n",
              "      <th>MSG_CODE_y</th>\n",
              "      <th>TIME_y</th>\n",
              "      <th>RESP_CODE_y</th>\n",
              "    </tr>\n",
              "  </thead>\n",
              "  <tbody>\n",
              "    <tr>\n",
              "      <th>0</th>\n",
              "      <td>1</td>\n",
              "      <td>0100</td>\n",
              "      <td>133000</td>\n",
              "      <td></td>\n",
              "      <td>03</td>\n",
              "      <td>2e65c202e525e90e1d95</td>\n",
              "      <td>2</td>\n",
              "      <td>0110</td>\n",
              "      <td>133005</td>\n",
              "      <td>01</td>\n",
              "    </tr>\n",
              "    <tr>\n",
              "      <th>1</th>\n",
              "      <td>1</td>\n",
              "      <td>0300</td>\n",
              "      <td>133000</td>\n",
              "      <td></td>\n",
              "      <td>48</td>\n",
              "      <td>802407d045fa5d1a8287</td>\n",
              "      <td>2</td>\n",
              "      <td>0310</td>\n",
              "      <td>133001</td>\n",
              "      <td>01</td>\n",
              "    </tr>\n",
              "    <tr>\n",
              "      <th>2</th>\n",
              "      <td>1</td>\n",
              "      <td>0200</td>\n",
              "      <td>133000</td>\n",
              "      <td></td>\n",
              "      <td>03</td>\n",
              "      <td>a1d3e524e4751b450a20</td>\n",
              "      <td>2</td>\n",
              "      <td>0210</td>\n",
              "      <td>133000</td>\n",
              "      <td>01</td>\n",
              "    </tr>\n",
              "    <tr>\n",
              "      <th>3</th>\n",
              "      <td>1</td>\n",
              "      <td>0200</td>\n",
              "      <td>133000</td>\n",
              "      <td></td>\n",
              "      <td>11</td>\n",
              "      <td>ed976e8de9708d167a64</td>\n",
              "      <td>2</td>\n",
              "      <td>0210</td>\n",
              "      <td>133008</td>\n",
              "      <td>00</td>\n",
              "    </tr>\n",
              "    <tr>\n",
              "      <th>4</th>\n",
              "      <td>1</td>\n",
              "      <td>9300</td>\n",
              "      <td>133000</td>\n",
              "      <td></td>\n",
              "      <td>03</td>\n",
              "      <td>b7a878a4ff5d3076dd4b</td>\n",
              "      <td>2</td>\n",
              "      <td>9310</td>\n",
              "      <td>133003</td>\n",
              "      <td>01</td>\n",
              "    </tr>\n",
              "    <tr>\n",
              "      <th>...</th>\n",
              "      <td>...</td>\n",
              "      <td>...</td>\n",
              "      <td>...</td>\n",
              "      <td>...</td>\n",
              "      <td>...</td>\n",
              "      <td>...</td>\n",
              "      <td>...</td>\n",
              "      <td>...</td>\n",
              "      <td>...</td>\n",
              "      <td>...</td>\n",
              "    </tr>\n",
              "    <tr>\n",
              "      <th>995</th>\n",
              "      <td>1</td>\n",
              "      <td>0420</td>\n",
              "      <td>133059</td>\n",
              "      <td></td>\n",
              "      <td>03</td>\n",
              "      <td>226c76440f927213fc35</td>\n",
              "      <td>2</td>\n",
              "      <td>0430</td>\n",
              "      <td>133100</td>\n",
              "      <td>00</td>\n",
              "    </tr>\n",
              "    <tr>\n",
              "      <th>996</th>\n",
              "      <td>1</td>\n",
              "      <td>0420</td>\n",
              "      <td>133059</td>\n",
              "      <td></td>\n",
              "      <td>23</td>\n",
              "      <td>4a0813a414e8a43ae594</td>\n",
              "      <td>2</td>\n",
              "      <td>0430</td>\n",
              "      <td>133103</td>\n",
              "      <td>00</td>\n",
              "    </tr>\n",
              "    <tr>\n",
              "      <th>997</th>\n",
              "      <td>1</td>\n",
              "      <td>0420</td>\n",
              "      <td>133059</td>\n",
              "      <td></td>\n",
              "      <td>20</td>\n",
              "      <td>f9951616122039cadea7</td>\n",
              "      <td>2</td>\n",
              "      <td>0430</td>\n",
              "      <td>133108</td>\n",
              "      <td>00</td>\n",
              "    </tr>\n",
              "    <tr>\n",
              "      <th>998</th>\n",
              "      <td>1</td>\n",
              "      <td>0420</td>\n",
              "      <td>133059</td>\n",
              "      <td></td>\n",
              "      <td>72</td>\n",
              "      <td>917057d635b367f53749</td>\n",
              "      <td>2</td>\n",
              "      <td>0430</td>\n",
              "      <td>133107</td>\n",
              "      <td>00</td>\n",
              "    </tr>\n",
              "    <tr>\n",
              "      <th>999</th>\n",
              "      <td>1</td>\n",
              "      <td>0100</td>\n",
              "      <td>133059</td>\n",
              "      <td></td>\n",
              "      <td>03</td>\n",
              "      <td>ccf851df69182c5e024d</td>\n",
              "      <td>2</td>\n",
              "      <td>0110</td>\n",
              "      <td>133059</td>\n",
              "      <td>00</td>\n",
              "    </tr>\n",
              "  </tbody>\n",
              "</table>\n",
              "<p>1000 rows × 10 columns</p>\n",
              "</div>"
            ],
            "text/plain": [
              "    TRNS_x MSG_CODE_x  TIME_x RESP_CODE_x  ... TRNS_y MSG_CODE_y  TIME_y RESP_CODE_y\n",
              "0        1       0100  133000              ...      2       0110  133005          01\n",
              "1        1       0300  133000              ...      2       0310  133001          01\n",
              "2        1       0200  133000              ...      2       0210  133000          01\n",
              "3        1       0200  133000              ...      2       0210  133008          00\n",
              "4        1       9300  133000              ...      2       9310  133003          01\n",
              "..     ...        ...     ...         ...  ...    ...        ...     ...         ...\n",
              "995      1       0420  133059              ...      2       0430  133100          00\n",
              "996      1       0420  133059              ...      2       0430  133103          00\n",
              "997      1       0420  133059              ...      2       0430  133108          00\n",
              "998      1       0420  133059              ...      2       0430  133107          00\n",
              "999      1       0100  133059              ...      2       0110  133059          00\n",
              "\n",
              "[1000 rows x 10 columns]"
            ]
          },
          "metadata": {
            "tags": []
          },
          "execution_count": 117
        }
      ]
    },
    {
      "cell_type": "code",
      "metadata": {
        "colab": {
          "base_uri": "https://localhost:8080/",
          "height": 399
        },
        "id": "mI2AOs7B9dYs",
        "outputId": "6d69e2bd-2052-47fa-c6b4-2e6b6d3083f2"
      },
      "source": [
        "tf = tf [['SEQ', 'FIRM_CODE', 'MSG_CODE_x', 'TIME_x', 'TIME_y','RESP_CODE_y']]\r\n",
        "tf = tf.rename(columns={'MSG_CODE_x':'MSG_CODE', 'TIME_x':'SEND_TIME', 'TIME_y':'RECV_TIME', \r\n",
        "'RESP_CODE_y':'RESP_CODE'})\r\n",
        "tf"
      ],
      "execution_count": 118,
      "outputs": [
        {
          "output_type": "execute_result",
          "data": {
            "text/html": [
              "<div>\n",
              "<style scoped>\n",
              "    .dataframe tbody tr th:only-of-type {\n",
              "        vertical-align: middle;\n",
              "    }\n",
              "\n",
              "    .dataframe tbody tr th {\n",
              "        vertical-align: top;\n",
              "    }\n",
              "\n",
              "    .dataframe thead th {\n",
              "        text-align: right;\n",
              "    }\n",
              "</style>\n",
              "<table border=\"1\" class=\"dataframe\">\n",
              "  <thead>\n",
              "    <tr style=\"text-align: right;\">\n",
              "      <th></th>\n",
              "      <th>SEQ</th>\n",
              "      <th>FIRM_CODE</th>\n",
              "      <th>MSG_CODE</th>\n",
              "      <th>SEND_TIME</th>\n",
              "      <th>RECV_TIME</th>\n",
              "      <th>RESP_CODE</th>\n",
              "    </tr>\n",
              "  </thead>\n",
              "  <tbody>\n",
              "    <tr>\n",
              "      <th>0</th>\n",
              "      <td>2e65c202e525e90e1d95</td>\n",
              "      <td>03</td>\n",
              "      <td>0100</td>\n",
              "      <td>133000</td>\n",
              "      <td>133005</td>\n",
              "      <td>01</td>\n",
              "    </tr>\n",
              "    <tr>\n",
              "      <th>1</th>\n",
              "      <td>802407d045fa5d1a8287</td>\n",
              "      <td>48</td>\n",
              "      <td>0300</td>\n",
              "      <td>133000</td>\n",
              "      <td>133001</td>\n",
              "      <td>01</td>\n",
              "    </tr>\n",
              "    <tr>\n",
              "      <th>2</th>\n",
              "      <td>a1d3e524e4751b450a20</td>\n",
              "      <td>03</td>\n",
              "      <td>0200</td>\n",
              "      <td>133000</td>\n",
              "      <td>133000</td>\n",
              "      <td>01</td>\n",
              "    </tr>\n",
              "    <tr>\n",
              "      <th>3</th>\n",
              "      <td>ed976e8de9708d167a64</td>\n",
              "      <td>11</td>\n",
              "      <td>0200</td>\n",
              "      <td>133000</td>\n",
              "      <td>133008</td>\n",
              "      <td>00</td>\n",
              "    </tr>\n",
              "    <tr>\n",
              "      <th>4</th>\n",
              "      <td>b7a878a4ff5d3076dd4b</td>\n",
              "      <td>03</td>\n",
              "      <td>9300</td>\n",
              "      <td>133000</td>\n",
              "      <td>133003</td>\n",
              "      <td>01</td>\n",
              "    </tr>\n",
              "    <tr>\n",
              "      <th>...</th>\n",
              "      <td>...</td>\n",
              "      <td>...</td>\n",
              "      <td>...</td>\n",
              "      <td>...</td>\n",
              "      <td>...</td>\n",
              "      <td>...</td>\n",
              "    </tr>\n",
              "    <tr>\n",
              "      <th>995</th>\n",
              "      <td>226c76440f927213fc35</td>\n",
              "      <td>03</td>\n",
              "      <td>0420</td>\n",
              "      <td>133059</td>\n",
              "      <td>133100</td>\n",
              "      <td>00</td>\n",
              "    </tr>\n",
              "    <tr>\n",
              "      <th>996</th>\n",
              "      <td>4a0813a414e8a43ae594</td>\n",
              "      <td>23</td>\n",
              "      <td>0420</td>\n",
              "      <td>133059</td>\n",
              "      <td>133103</td>\n",
              "      <td>00</td>\n",
              "    </tr>\n",
              "    <tr>\n",
              "      <th>997</th>\n",
              "      <td>f9951616122039cadea7</td>\n",
              "      <td>20</td>\n",
              "      <td>0420</td>\n",
              "      <td>133059</td>\n",
              "      <td>133108</td>\n",
              "      <td>00</td>\n",
              "    </tr>\n",
              "    <tr>\n",
              "      <th>998</th>\n",
              "      <td>917057d635b367f53749</td>\n",
              "      <td>72</td>\n",
              "      <td>0420</td>\n",
              "      <td>133059</td>\n",
              "      <td>133107</td>\n",
              "      <td>00</td>\n",
              "    </tr>\n",
              "    <tr>\n",
              "      <th>999</th>\n",
              "      <td>ccf851df69182c5e024d</td>\n",
              "      <td>03</td>\n",
              "      <td>0100</td>\n",
              "      <td>133059</td>\n",
              "      <td>133059</td>\n",
              "      <td>00</td>\n",
              "    </tr>\n",
              "  </tbody>\n",
              "</table>\n",
              "<p>1000 rows × 6 columns</p>\n",
              "</div>"
            ],
            "text/plain": [
              "                      SEQ FIRM_CODE MSG_CODE SEND_TIME RECV_TIME RESP_CODE\n",
              "0    2e65c202e525e90e1d95        03     0100    133000    133005        01\n",
              "1    802407d045fa5d1a8287        48     0300    133000    133001        01\n",
              "2    a1d3e524e4751b450a20        03     0200    133000    133000        01\n",
              "3    ed976e8de9708d167a64        11     0200    133000    133008        00\n",
              "4    b7a878a4ff5d3076dd4b        03     9300    133000    133003        01\n",
              "..                    ...       ...      ...       ...       ...       ...\n",
              "995  226c76440f927213fc35        03     0420    133059    133100        00\n",
              "996  4a0813a414e8a43ae594        23     0420    133059    133103        00\n",
              "997  f9951616122039cadea7        20     0420    133059    133108        00\n",
              "998  917057d635b367f53749        72     0420    133059    133107        00\n",
              "999  ccf851df69182c5e024d        03     0100    133059    133059        00\n",
              "\n",
              "[1000 rows x 6 columns]"
            ]
          },
          "metadata": {
            "tags": []
          },
          "execution_count": 118
        }
      ]
    },
    {
      "cell_type": "code",
      "metadata": {
        "colab": {
          "base_uri": "https://localhost:8080/",
          "height": 588
        },
        "id": "etW7HdfJ9hKi",
        "outputId": "e2af08bd-81ca-449b-a54e-125041f4815f"
      },
      "source": [
        "tf['S_DATETIME'] = pd.to_datetime(tf.SEND_TIME, format='%H%M%S')\r\n",
        "tf['R_DATETIME'] = pd.to_datetime(tf.RECV_TIME, format='%H%M%S')\r\n",
        "tf"
      ],
      "execution_count": 119,
      "outputs": [
        {
          "output_type": "execute_result",
          "data": {
            "text/html": [
              "<div>\n",
              "<style scoped>\n",
              "    .dataframe tbody tr th:only-of-type {\n",
              "        vertical-align: middle;\n",
              "    }\n",
              "\n",
              "    .dataframe tbody tr th {\n",
              "        vertical-align: top;\n",
              "    }\n",
              "\n",
              "    .dataframe thead th {\n",
              "        text-align: right;\n",
              "    }\n",
              "</style>\n",
              "<table border=\"1\" class=\"dataframe\">\n",
              "  <thead>\n",
              "    <tr style=\"text-align: right;\">\n",
              "      <th></th>\n",
              "      <th>SEQ</th>\n",
              "      <th>FIRM_CODE</th>\n",
              "      <th>MSG_CODE</th>\n",
              "      <th>SEND_TIME</th>\n",
              "      <th>RECV_TIME</th>\n",
              "      <th>RESP_CODE</th>\n",
              "      <th>S_DATETIME</th>\n",
              "      <th>R_DATETIME</th>\n",
              "    </tr>\n",
              "  </thead>\n",
              "  <tbody>\n",
              "    <tr>\n",
              "      <th>0</th>\n",
              "      <td>2e65c202e525e90e1d95</td>\n",
              "      <td>03</td>\n",
              "      <td>0100</td>\n",
              "      <td>133000</td>\n",
              "      <td>133005</td>\n",
              "      <td>01</td>\n",
              "      <td>1900-01-01 13:30:00</td>\n",
              "      <td>1900-01-01 13:30:05</td>\n",
              "    </tr>\n",
              "    <tr>\n",
              "      <th>1</th>\n",
              "      <td>802407d045fa5d1a8287</td>\n",
              "      <td>48</td>\n",
              "      <td>0300</td>\n",
              "      <td>133000</td>\n",
              "      <td>133001</td>\n",
              "      <td>01</td>\n",
              "      <td>1900-01-01 13:30:00</td>\n",
              "      <td>1900-01-01 13:30:01</td>\n",
              "    </tr>\n",
              "    <tr>\n",
              "      <th>2</th>\n",
              "      <td>a1d3e524e4751b450a20</td>\n",
              "      <td>03</td>\n",
              "      <td>0200</td>\n",
              "      <td>133000</td>\n",
              "      <td>133000</td>\n",
              "      <td>01</td>\n",
              "      <td>1900-01-01 13:30:00</td>\n",
              "      <td>1900-01-01 13:30:00</td>\n",
              "    </tr>\n",
              "    <tr>\n",
              "      <th>3</th>\n",
              "      <td>ed976e8de9708d167a64</td>\n",
              "      <td>11</td>\n",
              "      <td>0200</td>\n",
              "      <td>133000</td>\n",
              "      <td>133008</td>\n",
              "      <td>00</td>\n",
              "      <td>1900-01-01 13:30:00</td>\n",
              "      <td>1900-01-01 13:30:08</td>\n",
              "    </tr>\n",
              "    <tr>\n",
              "      <th>4</th>\n",
              "      <td>b7a878a4ff5d3076dd4b</td>\n",
              "      <td>03</td>\n",
              "      <td>9300</td>\n",
              "      <td>133000</td>\n",
              "      <td>133003</td>\n",
              "      <td>01</td>\n",
              "      <td>1900-01-01 13:30:00</td>\n",
              "      <td>1900-01-01 13:30:03</td>\n",
              "    </tr>\n",
              "    <tr>\n",
              "      <th>...</th>\n",
              "      <td>...</td>\n",
              "      <td>...</td>\n",
              "      <td>...</td>\n",
              "      <td>...</td>\n",
              "      <td>...</td>\n",
              "      <td>...</td>\n",
              "      <td>...</td>\n",
              "      <td>...</td>\n",
              "    </tr>\n",
              "    <tr>\n",
              "      <th>995</th>\n",
              "      <td>226c76440f927213fc35</td>\n",
              "      <td>03</td>\n",
              "      <td>0420</td>\n",
              "      <td>133059</td>\n",
              "      <td>133100</td>\n",
              "      <td>00</td>\n",
              "      <td>1900-01-01 13:30:59</td>\n",
              "      <td>1900-01-01 13:31:00</td>\n",
              "    </tr>\n",
              "    <tr>\n",
              "      <th>996</th>\n",
              "      <td>4a0813a414e8a43ae594</td>\n",
              "      <td>23</td>\n",
              "      <td>0420</td>\n",
              "      <td>133059</td>\n",
              "      <td>133103</td>\n",
              "      <td>00</td>\n",
              "      <td>1900-01-01 13:30:59</td>\n",
              "      <td>1900-01-01 13:31:03</td>\n",
              "    </tr>\n",
              "    <tr>\n",
              "      <th>997</th>\n",
              "      <td>f9951616122039cadea7</td>\n",
              "      <td>20</td>\n",
              "      <td>0420</td>\n",
              "      <td>133059</td>\n",
              "      <td>133108</td>\n",
              "      <td>00</td>\n",
              "      <td>1900-01-01 13:30:59</td>\n",
              "      <td>1900-01-01 13:31:08</td>\n",
              "    </tr>\n",
              "    <tr>\n",
              "      <th>998</th>\n",
              "      <td>917057d635b367f53749</td>\n",
              "      <td>72</td>\n",
              "      <td>0420</td>\n",
              "      <td>133059</td>\n",
              "      <td>133107</td>\n",
              "      <td>00</td>\n",
              "      <td>1900-01-01 13:30:59</td>\n",
              "      <td>1900-01-01 13:31:07</td>\n",
              "    </tr>\n",
              "    <tr>\n",
              "      <th>999</th>\n",
              "      <td>ccf851df69182c5e024d</td>\n",
              "      <td>03</td>\n",
              "      <td>0100</td>\n",
              "      <td>133059</td>\n",
              "      <td>133059</td>\n",
              "      <td>00</td>\n",
              "      <td>1900-01-01 13:30:59</td>\n",
              "      <td>1900-01-01 13:30:59</td>\n",
              "    </tr>\n",
              "  </tbody>\n",
              "</table>\n",
              "<p>1000 rows × 8 columns</p>\n",
              "</div>"
            ],
            "text/plain": [
              "                      SEQ FIRM_CODE  ...          S_DATETIME          R_DATETIME\n",
              "0    2e65c202e525e90e1d95        03  ... 1900-01-01 13:30:00 1900-01-01 13:30:05\n",
              "1    802407d045fa5d1a8287        48  ... 1900-01-01 13:30:00 1900-01-01 13:30:01\n",
              "2    a1d3e524e4751b450a20        03  ... 1900-01-01 13:30:00 1900-01-01 13:30:00\n",
              "3    ed976e8de9708d167a64        11  ... 1900-01-01 13:30:00 1900-01-01 13:30:08\n",
              "4    b7a878a4ff5d3076dd4b        03  ... 1900-01-01 13:30:00 1900-01-01 13:30:03\n",
              "..                    ...       ...  ...                 ...                 ...\n",
              "995  226c76440f927213fc35        03  ... 1900-01-01 13:30:59 1900-01-01 13:31:00\n",
              "996  4a0813a414e8a43ae594        23  ... 1900-01-01 13:30:59 1900-01-01 13:31:03\n",
              "997  f9951616122039cadea7        20  ... 1900-01-01 13:30:59 1900-01-01 13:31:08\n",
              "998  917057d635b367f53749        72  ... 1900-01-01 13:30:59 1900-01-01 13:31:07\n",
              "999  ccf851df69182c5e024d        03  ... 1900-01-01 13:30:59 1900-01-01 13:30:59\n",
              "\n",
              "[1000 rows x 8 columns]"
            ]
          },
          "metadata": {
            "tags": []
          },
          "execution_count": 119
        }
      ]
    },
    {
      "cell_type": "code",
      "metadata": {
        "id": "v4Dq7gSX9ivb"
      },
      "source": [
        "tf['TIME_GAP'] = tf.R_DATETIME - tf.S_DATETIME"
      ],
      "execution_count": 120,
      "outputs": []
    },
    {
      "cell_type": "code",
      "metadata": {
        "colab": {
          "base_uri": "https://localhost:8080/",
          "height": 568
        },
        "id": "ecekVK709lCL",
        "outputId": "2d6fd2d8-eb8b-4878-c7d8-fb2954750a05"
      },
      "source": [
        "tf = tf.drop(['S_DATETIME','R_DATETIME'], axis=1)\r\n",
        "tf"
      ],
      "execution_count": 121,
      "outputs": [
        {
          "output_type": "execute_result",
          "data": {
            "text/html": [
              "<div>\n",
              "<style scoped>\n",
              "    .dataframe tbody tr th:only-of-type {\n",
              "        vertical-align: middle;\n",
              "    }\n",
              "\n",
              "    .dataframe tbody tr th {\n",
              "        vertical-align: top;\n",
              "    }\n",
              "\n",
              "    .dataframe thead th {\n",
              "        text-align: right;\n",
              "    }\n",
              "</style>\n",
              "<table border=\"1\" class=\"dataframe\">\n",
              "  <thead>\n",
              "    <tr style=\"text-align: right;\">\n",
              "      <th></th>\n",
              "      <th>SEQ</th>\n",
              "      <th>FIRM_CODE</th>\n",
              "      <th>MSG_CODE</th>\n",
              "      <th>SEND_TIME</th>\n",
              "      <th>RECV_TIME</th>\n",
              "      <th>RESP_CODE</th>\n",
              "      <th>TIME_GAP</th>\n",
              "    </tr>\n",
              "  </thead>\n",
              "  <tbody>\n",
              "    <tr>\n",
              "      <th>0</th>\n",
              "      <td>2e65c202e525e90e1d95</td>\n",
              "      <td>03</td>\n",
              "      <td>0100</td>\n",
              "      <td>133000</td>\n",
              "      <td>133005</td>\n",
              "      <td>01</td>\n",
              "      <td>0 days 00:00:05</td>\n",
              "    </tr>\n",
              "    <tr>\n",
              "      <th>1</th>\n",
              "      <td>802407d045fa5d1a8287</td>\n",
              "      <td>48</td>\n",
              "      <td>0300</td>\n",
              "      <td>133000</td>\n",
              "      <td>133001</td>\n",
              "      <td>01</td>\n",
              "      <td>0 days 00:00:01</td>\n",
              "    </tr>\n",
              "    <tr>\n",
              "      <th>2</th>\n",
              "      <td>a1d3e524e4751b450a20</td>\n",
              "      <td>03</td>\n",
              "      <td>0200</td>\n",
              "      <td>133000</td>\n",
              "      <td>133000</td>\n",
              "      <td>01</td>\n",
              "      <td>0 days 00:00:00</td>\n",
              "    </tr>\n",
              "    <tr>\n",
              "      <th>3</th>\n",
              "      <td>ed976e8de9708d167a64</td>\n",
              "      <td>11</td>\n",
              "      <td>0200</td>\n",
              "      <td>133000</td>\n",
              "      <td>133008</td>\n",
              "      <td>00</td>\n",
              "      <td>0 days 00:00:08</td>\n",
              "    </tr>\n",
              "    <tr>\n",
              "      <th>4</th>\n",
              "      <td>b7a878a4ff5d3076dd4b</td>\n",
              "      <td>03</td>\n",
              "      <td>9300</td>\n",
              "      <td>133000</td>\n",
              "      <td>133003</td>\n",
              "      <td>01</td>\n",
              "      <td>0 days 00:00:03</td>\n",
              "    </tr>\n",
              "    <tr>\n",
              "      <th>...</th>\n",
              "      <td>...</td>\n",
              "      <td>...</td>\n",
              "      <td>...</td>\n",
              "      <td>...</td>\n",
              "      <td>...</td>\n",
              "      <td>...</td>\n",
              "      <td>...</td>\n",
              "    </tr>\n",
              "    <tr>\n",
              "      <th>995</th>\n",
              "      <td>226c76440f927213fc35</td>\n",
              "      <td>03</td>\n",
              "      <td>0420</td>\n",
              "      <td>133059</td>\n",
              "      <td>133100</td>\n",
              "      <td>00</td>\n",
              "      <td>0 days 00:00:01</td>\n",
              "    </tr>\n",
              "    <tr>\n",
              "      <th>996</th>\n",
              "      <td>4a0813a414e8a43ae594</td>\n",
              "      <td>23</td>\n",
              "      <td>0420</td>\n",
              "      <td>133059</td>\n",
              "      <td>133103</td>\n",
              "      <td>00</td>\n",
              "      <td>0 days 00:00:04</td>\n",
              "    </tr>\n",
              "    <tr>\n",
              "      <th>997</th>\n",
              "      <td>f9951616122039cadea7</td>\n",
              "      <td>20</td>\n",
              "      <td>0420</td>\n",
              "      <td>133059</td>\n",
              "      <td>133108</td>\n",
              "      <td>00</td>\n",
              "      <td>0 days 00:00:09</td>\n",
              "    </tr>\n",
              "    <tr>\n",
              "      <th>998</th>\n",
              "      <td>917057d635b367f53749</td>\n",
              "      <td>72</td>\n",
              "      <td>0420</td>\n",
              "      <td>133059</td>\n",
              "      <td>133107</td>\n",
              "      <td>00</td>\n",
              "      <td>0 days 00:00:08</td>\n",
              "    </tr>\n",
              "    <tr>\n",
              "      <th>999</th>\n",
              "      <td>ccf851df69182c5e024d</td>\n",
              "      <td>03</td>\n",
              "      <td>0100</td>\n",
              "      <td>133059</td>\n",
              "      <td>133059</td>\n",
              "      <td>00</td>\n",
              "      <td>0 days 00:00:00</td>\n",
              "    </tr>\n",
              "  </tbody>\n",
              "</table>\n",
              "<p>1000 rows × 7 columns</p>\n",
              "</div>"
            ],
            "text/plain": [
              "                      SEQ FIRM_CODE  ... RESP_CODE        TIME_GAP\n",
              "0    2e65c202e525e90e1d95        03  ...        01 0 days 00:00:05\n",
              "1    802407d045fa5d1a8287        48  ...        01 0 days 00:00:01\n",
              "2    a1d3e524e4751b450a20        03  ...        01 0 days 00:00:00\n",
              "3    ed976e8de9708d167a64        11  ...        00 0 days 00:00:08\n",
              "4    b7a878a4ff5d3076dd4b        03  ...        01 0 days 00:00:03\n",
              "..                    ...       ...  ...       ...             ...\n",
              "995  226c76440f927213fc35        03  ...        00 0 days 00:00:01\n",
              "996  4a0813a414e8a43ae594        23  ...        00 0 days 00:00:04\n",
              "997  f9951616122039cadea7        20  ...        00 0 days 00:00:09\n",
              "998  917057d635b367f53749        72  ...        00 0 days 00:00:08\n",
              "999  ccf851df69182c5e024d        03  ...        00 0 days 00:00:00\n",
              "\n",
              "[1000 rows x 7 columns]"
            ]
          },
          "metadata": {
            "tags": []
          },
          "execution_count": 121
        }
      ]
    },
    {
      "cell_type": "code",
      "metadata": {
        "colab": {
          "base_uri": "https://localhost:8080/",
          "height": 588
        },
        "id": "097sNz1I9mIC",
        "outputId": "4596755b-ffb5-48c0-d986-bb007f4a14c0"
      },
      "source": [
        "tf['SEC_GAP'] = tf['TIME_GAP'].dt.seconds\r\n",
        "tf['COUNT'] = 1\r\n",
        "tf"
      ],
      "execution_count": 122,
      "outputs": [
        {
          "output_type": "execute_result",
          "data": {
            "text/html": [
              "<div>\n",
              "<style scoped>\n",
              "    .dataframe tbody tr th:only-of-type {\n",
              "        vertical-align: middle;\n",
              "    }\n",
              "\n",
              "    .dataframe tbody tr th {\n",
              "        vertical-align: top;\n",
              "    }\n",
              "\n",
              "    .dataframe thead th {\n",
              "        text-align: right;\n",
              "    }\n",
              "</style>\n",
              "<table border=\"1\" class=\"dataframe\">\n",
              "  <thead>\n",
              "    <tr style=\"text-align: right;\">\n",
              "      <th></th>\n",
              "      <th>SEQ</th>\n",
              "      <th>FIRM_CODE</th>\n",
              "      <th>MSG_CODE</th>\n",
              "      <th>SEND_TIME</th>\n",
              "      <th>RECV_TIME</th>\n",
              "      <th>RESP_CODE</th>\n",
              "      <th>TIME_GAP</th>\n",
              "      <th>SEC_GAP</th>\n",
              "      <th>COUNT</th>\n",
              "    </tr>\n",
              "  </thead>\n",
              "  <tbody>\n",
              "    <tr>\n",
              "      <th>0</th>\n",
              "      <td>2e65c202e525e90e1d95</td>\n",
              "      <td>03</td>\n",
              "      <td>0100</td>\n",
              "      <td>133000</td>\n",
              "      <td>133005</td>\n",
              "      <td>01</td>\n",
              "      <td>0 days 00:00:05</td>\n",
              "      <td>5</td>\n",
              "      <td>1</td>\n",
              "    </tr>\n",
              "    <tr>\n",
              "      <th>1</th>\n",
              "      <td>802407d045fa5d1a8287</td>\n",
              "      <td>48</td>\n",
              "      <td>0300</td>\n",
              "      <td>133000</td>\n",
              "      <td>133001</td>\n",
              "      <td>01</td>\n",
              "      <td>0 days 00:00:01</td>\n",
              "      <td>1</td>\n",
              "      <td>1</td>\n",
              "    </tr>\n",
              "    <tr>\n",
              "      <th>2</th>\n",
              "      <td>a1d3e524e4751b450a20</td>\n",
              "      <td>03</td>\n",
              "      <td>0200</td>\n",
              "      <td>133000</td>\n",
              "      <td>133000</td>\n",
              "      <td>01</td>\n",
              "      <td>0 days 00:00:00</td>\n",
              "      <td>0</td>\n",
              "      <td>1</td>\n",
              "    </tr>\n",
              "    <tr>\n",
              "      <th>3</th>\n",
              "      <td>ed976e8de9708d167a64</td>\n",
              "      <td>11</td>\n",
              "      <td>0200</td>\n",
              "      <td>133000</td>\n",
              "      <td>133008</td>\n",
              "      <td>00</td>\n",
              "      <td>0 days 00:00:08</td>\n",
              "      <td>8</td>\n",
              "      <td>1</td>\n",
              "    </tr>\n",
              "    <tr>\n",
              "      <th>4</th>\n",
              "      <td>b7a878a4ff5d3076dd4b</td>\n",
              "      <td>03</td>\n",
              "      <td>9300</td>\n",
              "      <td>133000</td>\n",
              "      <td>133003</td>\n",
              "      <td>01</td>\n",
              "      <td>0 days 00:00:03</td>\n",
              "      <td>3</td>\n",
              "      <td>1</td>\n",
              "    </tr>\n",
              "    <tr>\n",
              "      <th>...</th>\n",
              "      <td>...</td>\n",
              "      <td>...</td>\n",
              "      <td>...</td>\n",
              "      <td>...</td>\n",
              "      <td>...</td>\n",
              "      <td>...</td>\n",
              "      <td>...</td>\n",
              "      <td>...</td>\n",
              "      <td>...</td>\n",
              "    </tr>\n",
              "    <tr>\n",
              "      <th>995</th>\n",
              "      <td>226c76440f927213fc35</td>\n",
              "      <td>03</td>\n",
              "      <td>0420</td>\n",
              "      <td>133059</td>\n",
              "      <td>133100</td>\n",
              "      <td>00</td>\n",
              "      <td>0 days 00:00:01</td>\n",
              "      <td>1</td>\n",
              "      <td>1</td>\n",
              "    </tr>\n",
              "    <tr>\n",
              "      <th>996</th>\n",
              "      <td>4a0813a414e8a43ae594</td>\n",
              "      <td>23</td>\n",
              "      <td>0420</td>\n",
              "      <td>133059</td>\n",
              "      <td>133103</td>\n",
              "      <td>00</td>\n",
              "      <td>0 days 00:00:04</td>\n",
              "      <td>4</td>\n",
              "      <td>1</td>\n",
              "    </tr>\n",
              "    <tr>\n",
              "      <th>997</th>\n",
              "      <td>f9951616122039cadea7</td>\n",
              "      <td>20</td>\n",
              "      <td>0420</td>\n",
              "      <td>133059</td>\n",
              "      <td>133108</td>\n",
              "      <td>00</td>\n",
              "      <td>0 days 00:00:09</td>\n",
              "      <td>9</td>\n",
              "      <td>1</td>\n",
              "    </tr>\n",
              "    <tr>\n",
              "      <th>998</th>\n",
              "      <td>917057d635b367f53749</td>\n",
              "      <td>72</td>\n",
              "      <td>0420</td>\n",
              "      <td>133059</td>\n",
              "      <td>133107</td>\n",
              "      <td>00</td>\n",
              "      <td>0 days 00:00:08</td>\n",
              "      <td>8</td>\n",
              "      <td>1</td>\n",
              "    </tr>\n",
              "    <tr>\n",
              "      <th>999</th>\n",
              "      <td>ccf851df69182c5e024d</td>\n",
              "      <td>03</td>\n",
              "      <td>0100</td>\n",
              "      <td>133059</td>\n",
              "      <td>133059</td>\n",
              "      <td>00</td>\n",
              "      <td>0 days 00:00:00</td>\n",
              "      <td>0</td>\n",
              "      <td>1</td>\n",
              "    </tr>\n",
              "  </tbody>\n",
              "</table>\n",
              "<p>1000 rows × 9 columns</p>\n",
              "</div>"
            ],
            "text/plain": [
              "                      SEQ FIRM_CODE MSG_CODE  ...        TIME_GAP SEC_GAP COUNT\n",
              "0    2e65c202e525e90e1d95        03     0100  ... 0 days 00:00:05       5     1\n",
              "1    802407d045fa5d1a8287        48     0300  ... 0 days 00:00:01       1     1\n",
              "2    a1d3e524e4751b450a20        03     0200  ... 0 days 00:00:00       0     1\n",
              "3    ed976e8de9708d167a64        11     0200  ... 0 days 00:00:08       8     1\n",
              "4    b7a878a4ff5d3076dd4b        03     9300  ... 0 days 00:00:03       3     1\n",
              "..                    ...       ...      ...  ...             ...     ...   ...\n",
              "995  226c76440f927213fc35        03     0420  ... 0 days 00:00:01       1     1\n",
              "996  4a0813a414e8a43ae594        23     0420  ... 0 days 00:00:04       4     1\n",
              "997  f9951616122039cadea7        20     0420  ... 0 days 00:00:09       9     1\n",
              "998  917057d635b367f53749        72     0420  ... 0 days 00:00:08       8     1\n",
              "999  ccf851df69182c5e024d        03     0100  ... 0 days 00:00:00       0     1\n",
              "\n",
              "[1000 rows x 9 columns]"
            ]
          },
          "metadata": {
            "tags": []
          },
          "execution_count": 122
        }
      ]
    },
    {
      "cell_type": "code",
      "metadata": {
        "colab": {
          "base_uri": "https://localhost:8080/",
          "height": 370
        },
        "id": "xh8qG9609ogM",
        "outputId": "b414a48b-e0cc-44c7-ae1c-11450d48ec0c"
      },
      "source": [
        "tf.groupby('SEC_GAP').sum()"
      ],
      "execution_count": 123,
      "outputs": [
        {
          "output_type": "execute_result",
          "data": {
            "text/html": [
              "<div>\n",
              "<style scoped>\n",
              "    .dataframe tbody tr th:only-of-type {\n",
              "        vertical-align: middle;\n",
              "    }\n",
              "\n",
              "    .dataframe tbody tr th {\n",
              "        vertical-align: top;\n",
              "    }\n",
              "\n",
              "    .dataframe thead th {\n",
              "        text-align: right;\n",
              "    }\n",
              "</style>\n",
              "<table border=\"1\" class=\"dataframe\">\n",
              "  <thead>\n",
              "    <tr style=\"text-align: right;\">\n",
              "      <th></th>\n",
              "      <th>COUNT</th>\n",
              "    </tr>\n",
              "    <tr>\n",
              "      <th>SEC_GAP</th>\n",
              "      <th></th>\n",
              "    </tr>\n",
              "  </thead>\n",
              "  <tbody>\n",
              "    <tr>\n",
              "      <th>0</th>\n",
              "      <td>91</td>\n",
              "    </tr>\n",
              "    <tr>\n",
              "      <th>1</th>\n",
              "      <td>96</td>\n",
              "    </tr>\n",
              "    <tr>\n",
              "      <th>2</th>\n",
              "      <td>112</td>\n",
              "    </tr>\n",
              "    <tr>\n",
              "      <th>3</th>\n",
              "      <td>96</td>\n",
              "    </tr>\n",
              "    <tr>\n",
              "      <th>4</th>\n",
              "      <td>99</td>\n",
              "    </tr>\n",
              "    <tr>\n",
              "      <th>5</th>\n",
              "      <td>106</td>\n",
              "    </tr>\n",
              "    <tr>\n",
              "      <th>6</th>\n",
              "      <td>99</td>\n",
              "    </tr>\n",
              "    <tr>\n",
              "      <th>7</th>\n",
              "      <td>94</td>\n",
              "    </tr>\n",
              "    <tr>\n",
              "      <th>8</th>\n",
              "      <td>104</td>\n",
              "    </tr>\n",
              "    <tr>\n",
              "      <th>9</th>\n",
              "      <td>103</td>\n",
              "    </tr>\n",
              "  </tbody>\n",
              "</table>\n",
              "</div>"
            ],
            "text/plain": [
              "         COUNT\n",
              "SEC_GAP       \n",
              "0           91\n",
              "1           96\n",
              "2          112\n",
              "3           96\n",
              "4           99\n",
              "5          106\n",
              "6           99\n",
              "7           94\n",
              "8          104\n",
              "9          103"
            ]
          },
          "metadata": {
            "tags": []
          },
          "execution_count": 123
        }
      ]
    },
    {
      "cell_type": "code",
      "metadata": {
        "colab": {
          "base_uri": "https://localhost:8080/",
          "height": 1000
        },
        "id": "CRKTn0oc9qjr",
        "outputId": "8107adc9-0d79-47e0-80b1-5f535b51aad9"
      },
      "source": [
        "df = tf.groupby('SEC_GAP') \r\n",
        "df.plot()"
      ],
      "execution_count": 124,
      "outputs": [
        {
          "output_type": "execute_result",
          "data": {
            "text/plain": [
              "SEC_GAP\n",
              "0    AxesSubplot(0.125,0.125;0.775x0.755)\n",
              "1    AxesSubplot(0.125,0.125;0.775x0.755)\n",
              "2    AxesSubplot(0.125,0.125;0.775x0.755)\n",
              "3    AxesSubplot(0.125,0.125;0.775x0.755)\n",
              "4    AxesSubplot(0.125,0.125;0.775x0.755)\n",
              "5    AxesSubplot(0.125,0.125;0.775x0.755)\n",
              "6    AxesSubplot(0.125,0.125;0.775x0.755)\n",
              "7    AxesSubplot(0.125,0.125;0.775x0.755)\n",
              "8    AxesSubplot(0.125,0.125;0.775x0.755)\n",
              "9    AxesSubplot(0.125,0.125;0.775x0.755)\n",
              "dtype: object"
            ]
          },
          "metadata": {
            "tags": []
          },
          "execution_count": 124
        },
        {
          "output_type": "display_data",
          "data": {
            "image/png": "[encoded data removed]",
            "text/plain": [
              "<Figure size 1080x720 with 1 Axes>"
            ]
          },
          "metadata": {
            "tags": [],
            "needs_background": "light"
          }
        },
        {
          "output_type": "display_data",
          "data": {
            "image/png": "[encoded data removed]",
            "text/plain": [
              "<Figure size 1080x720 with 1 Axes>"
            ]
          },
          "metadata": {
            "tags": [],
            "needs_background": "light"
          }
        },
        {
          "output_type": "display_data",
          "data": {
            "image/png": "[encoded data removed]",
            "text/plain": [
              "<Figure size 1080x720 with 1 Axes>"
            ]
          },
          "metadata": {
            "tags": [],
            "needs_background": "light"
          }
        },
        {
          "output_type": "display_data",
          "data": {
            "image/png": "[encoded data removed]",
            "text/plain": [
              "<Figure size 1080x720 with 1 Axes>"
            ]
          },
          "metadata": {
            "tags": [],
            "needs_background": "light"
          }
        },
        {
          "output_type": "display_data",
          "data": {
            "image/png": "[encoded data removed]",
            "text/plain": [
              "<Figure size 1080x720 with 1 Axes>"
            ]
          },
          "metadata": {
            "tags": [],
            "needs_background": "light"
          }
        },
        {
          "output_type": "display_data",
          "data": {
            "image/png": "[encoded data removed]",
            "text/plain": [
              "<Figure size 1080x720 with 1 Axes>"
            ]
          },
          "metadata": {
            "tags": [],
            "needs_background": "light"
          }
        },
        {
          "output_type": "display_data",
          "data": {
            "image/png": "[encoded data removed]",
            "text/plain": [
              "<Figure size 1080x720 with 1 Axes>"
            ]
          },
          "metadata": {
            "tags": [],
            "needs_background": "light"
          }
        },
        {
          "output_type": "display_data",
          "data": {
            "image/png": "[encoded data removed]",
            "text/plain": [
              "<Figure size 1080x720 with 1 Axes>"
            ]
          },
          "metadata": {
            "tags": [],
            "needs_background": "light"
          }
        },
        {
          "output_type": "display_data",
          "data": {
            "image/png": "[encoded data removed]",
            "text/plain": [
              "<Figure size 1080x720 with 1 Axes>"
            ]
          },
          "metadata": {
            "tags": [],
            "needs_background": "light"
          }
        },
        {
          "output_type": "display_data",
          "data": {
            "image/png": "[encoded data removed]",
            "text/plain": [
              "<Figure size 1080x720 with 1 Axes>"
            ]
          },
          "metadata": {
            "tags": [],
            "needs_background": "light"
          }
        }
      ]
    },
    {
      "cell_type": "code",
      "metadata": {
        "colab": {
          "base_uri": "https://localhost:8080/",
          "height": 337
        },
        "id": "h1cRz3yV-MK-",
        "outputId": "8144923d-b768-4696-ca23-2ac76bc934e8"
      },
      "source": [
        "tf.groupby(['FIRM_CODE','TIME_GAP']).count()\r\n",
        "tf.groupby(['FIRM_CODE','TIME_GAP']).count().rename(columns={'SEQ':'COUNT'})\r\n",
        "tf.groupby(['FIRM_CODE','TIME_GAP']).count().rename(columns={'SEQ':'COUNT'}) [['COUNT']]\r\n",
        "df = tf.groupby(['FIRM_CODE', 'TIME_GAP']).count().rename(columns={'SEQ':'COUNT'}) [['COUNT']]\r\n",
        "df.plot(kind='bar', figsize=(15,4))"
      ],
      "execution_count": 125,
      "outputs": [
        {
          "output_type": "execute_result",
          "data": {
            "text/plain": [
              "<matplotlib.axes._subplots.AxesSubplot at 0x7f30e9f6bdd0>"
            ]
          },
          "metadata": {
            "tags": []
          },
          "execution_count": 125
        },
        {
          "output_type": "display_data",
          "data": {
            "image/png": "[encoded data removed]",
            "text/plain": [
              "<Figure size 1080x288 with 1 Axes>"
            ]
          },
          "metadata": {
            "tags": [],
            "needs_background": "light"
          }
        }
      ]
    },
    {
      "cell_type": "code",
      "metadata": {
        "colab": {
          "base_uri": "https://localhost:8080/",
          "height": 394
        },
        "id": "ZH0IjCE99swN",
        "outputId": "0780a9ea-ebf1-4439-ee21-46e548b039ce"
      },
      "source": [
        "zf = tf[['FIRM_CODE','MSG_CODE','TIME_GAP']] \r\n",
        "max_df = zf.groupby(['FIRM_CODE','MSG_CODE']).max().rename(columns={'TIME_GAP':'MAX_GAP'})\r\n",
        "min_df = zf.groupby(['FIRM_CODE','MSG_CODE']).min().rename(columns={'TIME_GAP':'MIN_GAP'})\r\n",
        "max_df = max_df.reset_index() \r\n",
        "min_df = min_df.reset_index() \r\n",
        "df = pd.merge(max_df, min_df)\r\n",
        "df['MAX_GAP'] = df.MAX_GAP.dt.seconds \r\n",
        "df['MIN_GAP'] = df.MIN_GAP.dt.seconds \r\n",
        "df.set_index(['FIRM_CODE','MSG_CODE']).plot(kind='bar', figsize=(10,5))"
      ],
      "execution_count": 126,
      "outputs": [
        {
          "output_type": "execute_result",
          "data": {
            "text/plain": [
              "<matplotlib.axes._subplots.AxesSubplot at 0x7f30d80e9d90>"
            ]
          },
          "metadata": {
            "tags": []
          },
          "execution_count": 126
        },
        {
          "output_type": "display_data",
          "data": {
            "image/png": "[encoded data removed]",
            "text/plain": [
              "<Figure size 720x360 with 1 Axes>"
            ]
          },
          "metadata": {
            "tags": [],
            "needs_background": "light"
          }
        }
      ]
    },
    {
      "cell_type": "markdown",
      "metadata": {
        "id": "IFZAD9os-eAc"
      },
      "source": [
        "3. 행정구역별 인구변화 분석"
      ]
    },
    {
      "cell_type": "code",
      "metadata": {
        "id": "xOBLv9kg-bOJ"
      },
      "source": [
        "%matplotlib inline\r\n",
        "import pandas as pd\r\n",
        "from matplotlib import rcParams\r\n",
        "rcParams['font.sans-serif'] = 'Malgun Gothic'\r\n",
        "rcParams['font.weight']='regular'\r\n",
        "rcParams['figure.figsize'] = 15,10"
      ],
      "execution_count": 127,
      "outputs": []
    },
    {
      "cell_type": "code",
      "metadata": {
        "colab": {
          "base_uri": "https://localhost:8080/",
          "height": 496
        },
        "id": "NedvxPZw-zQV",
        "outputId": "0342dd0b-78a8-4e8e-8faf-f903223c9735"
      },
      "source": [
        "df = pd.read_csv('행정구역_시군구_별__성별_인구수_2011_2020.csv', header=[0,1], index_col=0, encoding = 'UTF-8')\r\n",
        "df.head()"
      ],
      "execution_count": 128,
      "outputs": [
        {
          "output_type": "error",
          "ename": "UnicodeDecodeError",
          "evalue": "ignored",
          "traceback": [
            "\u001b[0;31m---------------------------------------------------------------------------\u001b[0m",
            "\u001b[0;31mUnicodeDecodeError\u001b[0m                        Traceback (most recent call last)",
            "\u001b[0;32m<ipython-input-128-7eab2fa83110>\u001b[0m in \u001b[0;36m<module>\u001b[0;34m()\u001b[0m\n\u001b[0;32m----> 1\u001b[0;31m \u001b[0mdf\u001b[0m \u001b[0;34m=\u001b[0m \u001b[0mpd\u001b[0m\u001b[0;34m.\u001b[0m\u001b[0mread_csv\u001b[0m\u001b[0;34m(\u001b[0m\u001b[0;34m'행정구역_시군구_별__성별_인구수_2011_2020.csv'\u001b[0m\u001b[0;34m,\u001b[0m \u001b[0mheader\u001b[0m\u001b[0;34m=\u001b[0m\u001b[0;34m[\u001b[0m\u001b[0;36m0\u001b[0m\u001b[0;34m,\u001b[0m\u001b[0;36m1\u001b[0m\u001b[0;34m]\u001b[0m\u001b[0;34m,\u001b[0m \u001b[0mindex_col\u001b[0m\u001b[0;34m=\u001b[0m\u001b[0;36m0\u001b[0m\u001b[0;34m,\u001b[0m \u001b[0mencoding\u001b[0m \u001b[0;34m=\u001b[0m \u001b[0;34m'UTF-8'\u001b[0m\u001b[0;34m)\u001b[0m\u001b[0;34m\u001b[0m\u001b[0;34m\u001b[0m\u001b[0m\n\u001b[0m\u001b[1;32m      2\u001b[0m \u001b[0mdf\u001b[0m\u001b[0;34m.\u001b[0m\u001b[0mhead\u001b[0m\u001b[0;34m(\u001b[0m\u001b[0;34m)\u001b[0m\u001b[0;34m\u001b[0m\u001b[0;34m\u001b[0m\u001b[0m\n",
            "\u001b[0;32m/usr/local/lib/python3.7/dist-packages/pandas/io/parsers.py\u001b[0m in \u001b[0;36mread_csv\u001b[0;34m(filepath_or_buffer, sep, delimiter, header, names, index_col, usecols, squeeze, prefix, mangle_dupe_cols, dtype, engine, converters, true_values, false_values, skipinitialspace, skiprows, skipfooter, nrows, na_values, keep_default_na, na_filter, verbose, skip_blank_lines, parse_dates, infer_datetime_format, keep_date_col, date_parser, dayfirst, cache_dates, iterator, chunksize, compression, thousands, decimal, lineterminator, quotechar, quoting, doublequote, escapechar, comment, encoding, dialect, error_bad_lines, warn_bad_lines, delim_whitespace, low_memory, memory_map, float_precision)\u001b[0m\n\u001b[1;32m    686\u001b[0m     )\n\u001b[1;32m    687\u001b[0m \u001b[0;34m\u001b[0m\u001b[0m\n\u001b[0;32m--> 688\u001b[0;31m     \u001b[0;32mreturn\u001b[0m \u001b[0m_read\u001b[0m\u001b[0;34m(\u001b[0m\u001b[0mfilepath_or_buffer\u001b[0m\u001b[0;34m,\u001b[0m \u001b[0mkwds\u001b[0m\u001b[0;34m)\u001b[0m\u001b[0;34m\u001b[0m\u001b[0;34m\u001b[0m\u001b[0m\n\u001b[0m\u001b[1;32m    689\u001b[0m \u001b[0;34m\u001b[0m\u001b[0m\n\u001b[1;32m    690\u001b[0m \u001b[0;34m\u001b[0m\u001b[0m\n",
            "\u001b[0;32m/usr/local/lib/python3.7/dist-packages/pandas/io/parsers.py\u001b[0m in \u001b[0;36m_read\u001b[0;34m(filepath_or_buffer, kwds)\u001b[0m\n\u001b[1;32m    452\u001b[0m \u001b[0;34m\u001b[0m\u001b[0m\n\u001b[1;32m    453\u001b[0m     \u001b[0;31m# Create the parser.\u001b[0m\u001b[0;34m\u001b[0m\u001b[0;34m\u001b[0m\u001b[0;34m\u001b[0m\u001b[0m\n\u001b[0;32m--> 454\u001b[0;31m     \u001b[0mparser\u001b[0m \u001b[0;34m=\u001b[0m \u001b[0mTextFileReader\u001b[0m\u001b[0;34m(\u001b[0m\u001b[0mfp_or_buf\u001b[0m\u001b[0;34m,\u001b[0m \u001b[0;34m**\u001b[0m\u001b[0mkwds\u001b[0m\u001b[0;34m)\u001b[0m\u001b[0;34m\u001b[0m\u001b[0;34m\u001b[0m\u001b[0m\n\u001b[0m\u001b[1;32m    455\u001b[0m \u001b[0;34m\u001b[0m\u001b[0m\n\u001b[1;32m    456\u001b[0m     \u001b[0;32mif\u001b[0m \u001b[0mchunksize\u001b[0m \u001b[0;32mor\u001b[0m \u001b[0miterator\u001b[0m\u001b[0;34m:\u001b[0m\u001b[0;34m\u001b[0m\u001b[0;34m\u001b[0m\u001b[0m\n",
            "\u001b[0;32m/usr/local/lib/python3.7/dist-packages/pandas/io/parsers.py\u001b[0m in \u001b[0;36m__init__\u001b[0;34m(self, f, engine, **kwds)\u001b[0m\n\u001b[1;32m    946\u001b[0m             \u001b[0mself\u001b[0m\u001b[0;34m.\u001b[0m\u001b[0moptions\u001b[0m\u001b[0;34m[\u001b[0m\u001b[0;34m\"has_index_names\"\u001b[0m\u001b[0;34m]\u001b[0m \u001b[0;34m=\u001b[0m \u001b[0mkwds\u001b[0m\u001b[0;34m[\u001b[0m\u001b[0;34m\"has_index_names\"\u001b[0m\u001b[0;34m]\u001b[0m\u001b[0;34m\u001b[0m\u001b[0;34m\u001b[0m\u001b[0m\n\u001b[1;32m    947\u001b[0m \u001b[0;34m\u001b[0m\u001b[0m\n\u001b[0;32m--> 948\u001b[0;31m         \u001b[0mself\u001b[0m\u001b[0;34m.\u001b[0m\u001b[0m_make_engine\u001b[0m\u001b[0;34m(\u001b[0m\u001b[0mself\u001b[0m\u001b[0;34m.\u001b[0m\u001b[0mengine\u001b[0m\u001b[0;34m)\u001b[0m\u001b[0;34m\u001b[0m\u001b[0;34m\u001b[0m\u001b[0m\n\u001b[0m\u001b[1;32m    949\u001b[0m \u001b[0;34m\u001b[0m\u001b[0m\n\u001b[1;32m    950\u001b[0m     \u001b[0;32mdef\u001b[0m \u001b[0mclose\u001b[0m\u001b[0;34m(\u001b[0m\u001b[0mself\u001b[0m\u001b[0;34m)\u001b[0m\u001b[0;34m:\u001b[0m\u001b[0;34m\u001b[0m\u001b[0;34m\u001b[0m\u001b[0m\n",
            "\u001b[0;32m/usr/local/lib/python3.7/dist-packages/pandas/io/parsers.py\u001b[0m in \u001b[0;36m_make_engine\u001b[0;34m(self, engine)\u001b[0m\n\u001b[1;32m   1178\u001b[0m     \u001b[0;32mdef\u001b[0m \u001b[0m_make_engine\u001b[0m\u001b[0;34m(\u001b[0m\u001b[0mself\u001b[0m\u001b[0;34m,\u001b[0m \u001b[0mengine\u001b[0m\u001b[0;34m=\u001b[0m\u001b[0;34m\"c\"\u001b[0m\u001b[0;34m)\u001b[0m\u001b[0;34m:\u001b[0m\u001b[0;34m\u001b[0m\u001b[0;34m\u001b[0m\u001b[0m\n\u001b[1;32m   1179\u001b[0m         \u001b[0;32mif\u001b[0m \u001b[0mengine\u001b[0m \u001b[0;34m==\u001b[0m \u001b[0;34m\"c\"\u001b[0m\u001b[0;34m:\u001b[0m\u001b[0;34m\u001b[0m\u001b[0;34m\u001b[0m\u001b[0m\n\u001b[0;32m-> 1180\u001b[0;31m             \u001b[0mself\u001b[0m\u001b[0;34m.\u001b[0m\u001b[0m_engine\u001b[0m \u001b[0;34m=\u001b[0m \u001b[0mCParserWrapper\u001b[0m\u001b[0;34m(\u001b[0m\u001b[0mself\u001b[0m\u001b[0;34m.\u001b[0m\u001b[0mf\u001b[0m\u001b[0;34m,\u001b[0m \u001b[0;34m**\u001b[0m\u001b[0mself\u001b[0m\u001b[0;34m.\u001b[0m\u001b[0moptions\u001b[0m\u001b[0;34m)\u001b[0m\u001b[0;34m\u001b[0m\u001b[0;34m\u001b[0m\u001b[0m\n\u001b[0m\u001b[1;32m   1181\u001b[0m         \u001b[0;32melse\u001b[0m\u001b[0;34m:\u001b[0m\u001b[0;34m\u001b[0m\u001b[0;34m\u001b[0m\u001b[0m\n\u001b[1;32m   1182\u001b[0m             \u001b[0;32mif\u001b[0m \u001b[0mengine\u001b[0m \u001b[0;34m==\u001b[0m \u001b[0;34m\"python\"\u001b[0m\u001b[0;34m:\u001b[0m\u001b[0;34m\u001b[0m\u001b[0;34m\u001b[0m\u001b[0m\n",
            "\u001b[0;32m/usr/local/lib/python3.7/dist-packages/pandas/io/parsers.py\u001b[0m in \u001b[0;36m__init__\u001b[0;34m(self, src, **kwds)\u001b[0m\n\u001b[1;32m   2008\u001b[0m         \u001b[0mkwds\u001b[0m\u001b[0;34m[\u001b[0m\u001b[0;34m\"usecols\"\u001b[0m\u001b[0;34m]\u001b[0m \u001b[0;34m=\u001b[0m \u001b[0mself\u001b[0m\u001b[0;34m.\u001b[0m\u001b[0musecols\u001b[0m\u001b[0;34m\u001b[0m\u001b[0;34m\u001b[0m\u001b[0m\n\u001b[1;32m   2009\u001b[0m \u001b[0;34m\u001b[0m\u001b[0m\n\u001b[0;32m-> 2010\u001b[0;31m         \u001b[0mself\u001b[0m\u001b[0;34m.\u001b[0m\u001b[0m_reader\u001b[0m \u001b[0;34m=\u001b[0m \u001b[0mparsers\u001b[0m\u001b[0;34m.\u001b[0m\u001b[0mTextReader\u001b[0m\u001b[0;34m(\u001b[0m\u001b[0msrc\u001b[0m\u001b[0;34m,\u001b[0m \u001b[0;34m**\u001b[0m\u001b[0mkwds\u001b[0m\u001b[0;34m)\u001b[0m\u001b[0;34m\u001b[0m\u001b[0;34m\u001b[0m\u001b[0m\n\u001b[0m\u001b[1;32m   2011\u001b[0m         \u001b[0mself\u001b[0m\u001b[0;34m.\u001b[0m\u001b[0munnamed_cols\u001b[0m \u001b[0;34m=\u001b[0m \u001b[0mself\u001b[0m\u001b[0;34m.\u001b[0m\u001b[0m_reader\u001b[0m\u001b[0;34m.\u001b[0m\u001b[0munnamed_cols\u001b[0m\u001b[0;34m\u001b[0m\u001b[0;34m\u001b[0m\u001b[0m\n\u001b[1;32m   2012\u001b[0m \u001b[0;34m\u001b[0m\u001b[0m\n",
            "\u001b[0;32mpandas/_libs/parsers.pyx\u001b[0m in \u001b[0;36mpandas._libs.parsers.TextReader.__cinit__\u001b[0;34m()\u001b[0m\n",
            "\u001b[0;32mpandas/_libs/parsers.pyx\u001b[0m in \u001b[0;36mpandas._libs.parsers.TextReader._get_header\u001b[0;34m()\u001b[0m\n",
            "\u001b[0;32mpandas/_libs/parsers.pyx\u001b[0m in \u001b[0;36mpandas._libs.parsers.TextReader._tokenize_rows\u001b[0;34m()\u001b[0m\n",
            "\u001b[0;32mpandas/_libs/parsers.pyx\u001b[0m in \u001b[0;36mpandas._libs.parsers.raise_parser_error\u001b[0;34m()\u001b[0m\n",
            "\u001b[0;31mUnicodeDecodeError\u001b[0m: 'utf-8' codec can't decode byte 0x8c in position 11: invalid start byte"
          ]
        }
      ]
    },
    {
      "cell_type": "code",
      "metadata": {
        "id": "RjvTYlqp-1hx"
      },
      "source": [
        "for _ in df.columns:\r\n",
        "  print(_)"
      ],
      "execution_count": null,
      "outputs": []
    },
    {
      "cell_type": "code",
      "metadata": {
        "id": "L51Fov0z_JT6"
      },
      "source": [
        "for x in df.columns:\r\n",
        "  print( [_.replace(' ','').replace('(명)','') for _ in x ] )"
      ],
      "execution_count": null,
      "outputs": []
    },
    {
      "cell_type": "code",
      "metadata": {
        "id": "9i8TACr2_OB4"
      },
      "source": [
        "colset = {}\r\n",
        "for x in df.columns:\r\n",
        "  y = [ _.replace(' ','').replace('(명)','') for _ in x ]\r\n",
        "  colset[x] = tuple(y) \r\n",
        "colset\r\n"
      ],
      "execution_count": null,
      "outputs": []
    },
    {
      "cell_type": "code",
      "metadata": {
        "id": "oFP0g9MF_Qpj"
      },
      "source": [
        "df.columns = df.columns.values"
      ],
      "execution_count": null,
      "outputs": []
    },
    {
      "cell_type": "code",
      "metadata": {
        "id": "udNudnFN_SUe"
      },
      "source": [
        "df = df.rename(columns=colset)\r\n",
        "df.head()"
      ],
      "execution_count": null,
      "outputs": []
    },
    {
      "cell_type": "code",
      "metadata": {
        "id": "BFQGZMy6_TGB"
      },
      "source": [
        "df.columns = pd.MultiIndex.from_tuples(df.columns)"
      ],
      "execution_count": null,
      "outputs": []
    },
    {
      "cell_type": "code",
      "metadata": {
        "id": "zCAib4Yy_VS6"
      },
      "source": [
        "tf = df.T\r\n",
        "tf"
      ],
      "execution_count": null,
      "outputs": []
    },
    {
      "cell_type": "code",
      "metadata": {
        "id": "99jSkMFO_wY5"
      },
      "source": [
        "tf = tf.unstack()"
      ],
      "execution_count": null,
      "outputs": []
    },
    {
      "cell_type": "code",
      "metadata": {
        "id": "UG904LJg_0c2"
      },
      "source": [
        "tf.plot()"
      ],
      "execution_count": null,
      "outputs": []
    },
    {
      "cell_type": "code",
      "metadata": {
        "id": "kEBnbQhN_7wI"
      },
      "source": [
        "tf['서울특별시'].plot()"
      ],
      "execution_count": null,
      "outputs": []
    },
    {
      "cell_type": "code",
      "metadata": {
        "id": "n_q4afFa__P5"
      },
      "source": [
        "tf['세종특별자치시'].plot()"
      ],
      "execution_count": null,
      "outputs": []
    },
    {
      "cell_type": "code",
      "metadata": {
        "id": "gExbaI2oAA-H"
      },
      "source": [
        ""
      ],
      "execution_count": null,
      "outputs": []
    }
  ]
}